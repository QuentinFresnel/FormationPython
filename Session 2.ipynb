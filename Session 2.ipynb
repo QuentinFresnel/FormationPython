{
 "cells": [
  {
   "cell_type": "markdown",
   "metadata": {},
   "source": [
    "Cette formation a pour but de donner une introduction aux librairies jugées fondamentales pour le data scientist en Python. Elle vient à la suite d'une formation sur les bases du langage même.\n",
    "\n",
    "Les trois packages que l'on va couvrir sont les acteurs historiques majeurs, et sont souvent incontournables :\n",
    "1. **Pandas** est une librairie de manipulation de données (*équivalent le plus proche en R : dplyr*)\n",
    "1. **Matplotlib** permet de réaliser des graphiques (*équivalents en R : ggplot2, lattice, base*)\n",
    "1. **Scikit-learning** regroupe de nombreux algorithmes et modèles pour le machine learning (*équivalents en R : caret, mlr*)"
   ]
  },
  {
   "cell_type": "markdown",
   "metadata": {},
   "source": [
    "# Pandas"
   ]
  },
  {
   "cell_type": "markdown",
   "metadata": {},
   "source": [
    "## Introduction"
   ]
  },
  {
   "cell_type": "markdown",
   "metadata": {},
   "source": [
    "Lors de la formation sur les bases de Python, on a appris à manipuler les types de bases de Python ; listes, dictionnaires, ...\n",
    "On a vu que Python était un langage généraliste, qui n'est pas spécialisé dans le traitement de données. Les types de base se prêtent donc mal aux calculs mathématiques.\n",
    "\n",
    "Ainsi, la notion d'addition de listes n'est pas l'addition mathématique terme à terme, mais plutôt la concaténation."
   ]
  },
  {
   "cell_type": "code",
   "execution_count": null,
   "metadata": {},
   "outputs": [],
   "source": [
    "[1, 2, 3] + [4, 5, 6]"
   ]
  },
  {
   "cell_type": "markdown",
   "metadata": {},
   "source": [
    "Et l'addition d'un scalaire à une liste n'est pas possible."
   ]
  },
  {
   "cell_type": "code",
   "execution_count": null,
   "metadata": {},
   "outputs": [],
   "source": [
    "try:\n",
    "    [1, 2, 3] + 4\n",
    "except:\n",
    "    print(\"Erreur : Python ne sait pas faire ça !\")"
   ]
  },
  {
   "cell_type": "markdown",
   "metadata": {},
   "source": [
    "Mais ces limitations initiales peuvent être comblées facilement par ce qui fait la force de Python : l'utilisation de packages spécialisés.\n",
    "\n",
    "Par exemple, Numpy apporte le calcul matriciel. Par habitude et flemme, on l'importe toujours sous le nom **np**."
   ]
  },
  {
   "cell_type": "code",
   "execution_count": null,
   "metadata": {},
   "outputs": [],
   "source": [
    "import numpy as np\n",
    "\n",
    "np.array([1,2,3]) + 4"
   ]
  },
  {
   "cell_type": "markdown",
   "metadata": {},
   "source": [
    "Mais la puissance de Numpy pour le calcul matriciel et scientifique n'est pas forcément suffisante pour faire du traitement de données. On souhaiterait avoir des objets et des opérations de plus haut niveau. Par exemple les data frames, objets centraux en R, permettent de manipuler plusieurs listes en gardant une cohérence. Et on souhaiterait pouvoir manipuler une ou plusieurs colonnes pour réaliser des opérations complexes (group by, ...).\n",
    "\n",
    "C'est ce pour quoi Pandas a été développé !"
   ]
  },
  {
   "cell_type": "markdown",
   "metadata": {},
   "source": [
    "## L'objet de base de Pandas : Series"
   ]
  },
  {
   "cell_type": "markdown",
   "metadata": {},
   "source": [
    "### Création"
   ]
  },
  {
   "cell_type": "markdown",
   "metadata": {},
   "source": [
    "Pandas s'importe usuellement sous le nom **pd**"
   ]
  },
  {
   "cell_type": "code",
   "execution_count": null,
   "metadata": {},
   "outputs": [],
   "source": [
    "import pandas as pd"
   ]
  },
  {
   "cell_type": "markdown",
   "metadata": {},
   "source": [
    "L'objet le plus fondamental dans Pandas est la série (**Series**). Il permet de représenter une série de données, c'ets-à-dire une liste unidimensionnelle d'objets de tout type. Chaque donnée dispose d'un label. Ces labels forment ce qu'on appelle l'**index** de la série. On peut construire une série à partir par exemple de listes ou de tableaux NumPy :"
   ]
  },
  {
   "cell_type": "code",
   "execution_count": null,
   "metadata": {},
   "outputs": [],
   "source": [
    "pd.Series([1, 'toto', None], index=['a', 'b', 'c'])"
   ]
  },
  {
   "cell_type": "markdown",
   "metadata": {},
   "source": [
    "Si on ne précise pas d'index, Pandas utilise par défaut les numéros de lignes (en commençant à 0)."
   ]
  },
  {
   "cell_type": "code",
   "execution_count": null,
   "metadata": {},
   "outputs": [],
   "source": [
    "pd.Series([1, 'toto', None])"
   ]
  },
  {
   "cell_type": "markdown",
   "metadata": {},
   "source": [
    "### Manipulation"
   ]
  },
  {
   "cell_type": "markdown",
   "metadata": {},
   "source": [
    "#### Addition d'un scalaire"
   ]
  },
  {
   "cell_type": "code",
   "execution_count": null,
   "metadata": {},
   "outputs": [],
   "source": [
    "s = pd.Series([1, 2, 3], index=['a', 'b', 'c'])\n",
    "s"
   ]
  },
  {
   "cell_type": "markdown",
   "metadata": {},
   "source": [
    "Que donne $s+1$ ?"
   ]
  },
  {
   "cell_type": "code",
   "execution_count": null,
   "metadata": {
    "scrolled": true
   },
   "outputs": [],
   "source": [
    "s + 1"
   ]
  },
  {
   "cell_type": "markdown",
   "metadata": {},
   "source": [
    "#### Addition de deux séries"
   ]
  },
  {
   "cell_type": "code",
   "execution_count": null,
   "metadata": {},
   "outputs": [],
   "source": [
    "s2 = pd.Series([1, 2, 3], index=['c', 'b', 'd'])\n",
    "s2"
   ]
  },
  {
   "cell_type": "markdown",
   "metadata": {},
   "source": [
    "Que donne $s + s2$ ?"
   ]
  },
  {
   "cell_type": "code",
   "execution_count": null,
   "metadata": {},
   "outputs": [],
   "source": [
    "s + s2"
   ]
  },
  {
   "cell_type": "markdown",
   "metadata": {},
   "source": [
    "On voit déjà une différence notable avec Numpy. L'addition de deux séries alignent les index, pour additionner les lignes correspondantes. L'**index** a un rôle crucial en Pandas."
   ]
  },
  {
   "cell_type": "markdown",
   "metadata": {},
   "source": [
    "### Indexation"
   ]
  },
  {
   "cell_type": "markdown",
   "metadata": {},
   "source": [
    "L'index permet d'extraire un élément de la série directement par son label"
   ]
  },
  {
   "cell_type": "code",
   "execution_count": null,
   "metadata": {},
   "outputs": [],
   "source": [
    "s['b']"
   ]
  },
  {
   "cell_type": "markdown",
   "metadata": {},
   "source": [
    "On peut aussi sélectionner par numéro de ligne, avec la même syntaxe. Pandas se débrouille pour savoir si on parle d'un index ou d'un numéro de ligne."
   ]
  },
  {
   "cell_type": "code",
   "execution_count": null,
   "metadata": {
    "scrolled": true
   },
   "outputs": [],
   "source": [
    "s[1]"
   ]
  },
  {
   "cell_type": "markdown",
   "metadata": {},
   "source": [
    "Comme sur les listes, on peut prendre des tranches (slicing)"
   ]
  },
  {
   "cell_type": "code",
   "execution_count": null,
   "metadata": {},
   "outputs": [],
   "source": [
    "s[1:]"
   ]
  },
  {
   "cell_type": "code",
   "execution_count": null,
   "metadata": {},
   "outputs": [],
   "source": [
    "s[-1]"
   ]
  },
  {
   "cell_type": "markdown",
   "metadata": {},
   "source": [
    "On peut aussi faire de l'indexation booléenne "
   ]
  },
  {
   "cell_type": "code",
   "execution_count": null,
   "metadata": {},
   "outputs": [],
   "source": [
    "s[[True, False, True]]"
   ]
  },
  {
   "cell_type": "markdown",
   "metadata": {},
   "source": [
    "Cela permet de filtrer une série suivant une condition avec une syntaxe simple."
   ]
  },
  {
   "cell_type": "code",
   "execution_count": null,
   "metadata": {},
   "outputs": [],
   "source": [
    "s[s>1]"
   ]
  },
  {
   "cell_type": "markdown",
   "metadata": {},
   "source": [
    "On peut modifier ou ajouter des éléments"
   ]
  },
  {
   "cell_type": "code",
   "execution_count": null,
   "metadata": {},
   "outputs": [],
   "source": [
    "s['d'] = 4\n",
    "\n",
    "s"
   ]
  },
  {
   "cell_type": "code",
   "execution_count": null,
   "metadata": {},
   "outputs": [],
   "source": [
    "s[3] = 0\n",
    "\n",
    "s"
   ]
  },
  {
   "cell_type": "markdown",
   "metadata": {},
   "source": [
    "### Loc et iloc"
   ]
  },
  {
   "cell_type": "markdown",
   "metadata": {},
   "source": [
    "On a vu que s[x] peut signifier soit l'élément ayant le label x, soit le x-ème élément si c'est un nombre. Pandas sait choisir la bonne signification... quand il n'y a pas d'ambiguïté. Mais il est facile d'imaginer des cas problématiques."
   ]
  },
  {
   "cell_type": "code",
   "execution_count": null,
   "metadata": {},
   "outputs": [],
   "source": [
    "s = pd.Series(['a', 'b', 'c'], index=[2, 3, 4])\n",
    "s"
   ]
  },
  {
   "cell_type": "code",
   "execution_count": null,
   "metadata": {},
   "outputs": [],
   "source": [
    "s[2]"
   ]
  },
  {
   "cell_type": "markdown",
   "metadata": {},
   "source": [
    "Pour prendre l'élement n°2, il faut être plus explicite dans notre façon d'indexer. Pandas met à disposition deux indexeurs :\n",
    "\n",
    "- **.loc** permet d'accéder par label\n",
    "\n",
    "- **.iloc** permet d'accéder par numéro"
   ]
  },
  {
   "cell_type": "code",
   "execution_count": null,
   "metadata": {},
   "outputs": [],
   "source": [
    "s.loc[2]"
   ]
  },
  {
   "cell_type": "code",
   "execution_count": null,
   "metadata": {},
   "outputs": [],
   "source": [
    "s.iloc[2]"
   ]
  },
  {
   "cell_type": "markdown",
   "metadata": {},
   "source": [
    "## L'objet le plus utilie : le DataFrame"
   ]
  },
  {
   "cell_type": "markdown",
   "metadata": {},
   "source": [
    "### Création"
   ]
  },
  {
   "cell_type": "markdown",
   "metadata": {},
   "source": [
    "Un DataFrame est une structure bidimensionnel. Il s'agit d'un ensemble de Series. Une Series est une colonne de DataFrame. On peut le construire par exemple à partir d'un dict dont les valeurs sont des Series."
   ]
  },
  {
   "cell_type": "code",
   "execution_count": null,
   "metadata": {},
   "outputs": [],
   "source": [
    "s1 = pd.Series([1, 2, 3], index = ['a', 'b', 'c'])\n",
    "s2 = pd.Series([4, 5, 6], index = ['c', 'b', 'd'])\n",
    "\n",
    "df = pd.DataFrame({'toto': s1, 'titi': s2})\n",
    "\n",
    "df"
   ]
  },
  {
   "cell_type": "markdown",
   "metadata": {},
   "source": [
    "Il existe de nombreuses autres façons de construire un DataFrame. Par exemple à partir d'un dict de lists :"
   ]
  },
  {
   "cell_type": "code",
   "execution_count": null,
   "metadata": {},
   "outputs": [],
   "source": [
    "d = {'toto': [1, 2, 3, np.nan], 'titi': [np.nan, 5, 4, 6]}\n",
    "\n",
    "pd.DataFrame(d, index=['a', 'b', 'c', 'd'])"
   ]
  },
  {
   "cell_type": "markdown",
   "metadata": {},
   "source": [
    "Ou encore une liste de listes. On peut alors préciser l'index et le nom des colonnes (sinon Pandas utilise des numéros)."
   ]
  },
  {
   "cell_type": "code",
   "execution_count": null,
   "metadata": {},
   "outputs": [],
   "source": [
    "pd.DataFrame([[1, np.nan], [2, 5], [3, 4], [np.nan, 6]], index=['a', 'b', 'c', 'd'], columns=['toto', 'titi'])"
   ]
  },
  {
   "cell_type": "markdown",
   "metadata": {},
   "source": [
    "### Manipulation"
   ]
  },
  {
   "cell_type": "markdown",
   "metadata": {},
   "source": [
    "#### Indexation"
   ]
  },
  {
   "cell_type": "markdown",
   "metadata": {},
   "source": [
    "Les crochets permettent d'extraire une colonne."
   ]
  },
  {
   "cell_type": "code",
   "execution_count": null,
   "metadata": {},
   "outputs": [],
   "source": [
    "df['toto']"
   ]
  },
  {
   "cell_type": "markdown",
   "metadata": {},
   "source": [
    "Il s'agit alors d'une Series"
   ]
  },
  {
   "cell_type": "code",
   "execution_count": null,
   "metadata": {},
   "outputs": [],
   "source": [
    "type(df['toto'])"
   ]
  },
  {
   "cell_type": "markdown",
   "metadata": {},
   "source": [
    "On peut aussi utiliser :"
   ]
  },
  {
   "cell_type": "code",
   "execution_count": null,
   "metadata": {},
   "outputs": [],
   "source": [
    "df.toto"
   ]
  },
  {
   "cell_type": "markdown",
   "metadata": {},
   "source": [
    "Pour extraire une ligne, on peut utiliser **loc** ou **iloc**."
   ]
  },
  {
   "cell_type": "code",
   "execution_count": null,
   "metadata": {},
   "outputs": [],
   "source": [
    "df.loc['a']"
   ]
  },
  {
   "cell_type": "code",
   "execution_count": null,
   "metadata": {},
   "outputs": [],
   "source": [
    "type(df.loc['a'])"
   ]
  },
  {
   "cell_type": "code",
   "execution_count": null,
   "metadata": {},
   "outputs": [],
   "source": [
    "df.loc[['a', 'c']]"
   ]
  },
  {
   "cell_type": "code",
   "execution_count": null,
   "metadata": {
    "scrolled": true
   },
   "outputs": [],
   "source": [
    "type(df.loc[['a', 'c']])"
   ]
  },
  {
   "cell_type": "code",
   "execution_count": null,
   "metadata": {},
   "outputs": [],
   "source": [
    "df.iloc[-2:]"
   ]
  },
  {
   "cell_type": "markdown",
   "metadata": {},
   "source": [
    "Pour extraire plusieurs lignes, on peut aussi utiliser des crochets"
   ]
  },
  {
   "cell_type": "code",
   "execution_count": null,
   "metadata": {},
   "outputs": [],
   "source": [
    "df[0:2]"
   ]
  },
  {
   "cell_type": "markdown",
   "metadata": {},
   "source": [
    "Par contre, pour une seule ligne cela ne marche pas. Il faut utiliser iloc."
   ]
  },
  {
   "cell_type": "code",
   "execution_count": null,
   "metadata": {},
   "outputs": [],
   "source": [
    "try:\n",
    "    df[0]\n",
    "except:\n",
    "    print(\"Il n'y a pas de colonne nommée '0'\")"
   ]
  },
  {
   "cell_type": "markdown",
   "metadata": {},
   "source": [
    "On peut aussi faire de l'indexation booléenne, pour sélectionner des lignes suivant une condition"
   ]
  },
  {
   "cell_type": "code",
   "execution_count": null,
   "metadata": {},
   "outputs": [],
   "source": [
    "df[df['toto'] > 1]"
   ]
  },
  {
   "cell_type": "markdown",
   "metadata": {},
   "source": [
    "Pour extraire un élément, on peut sélectionner la série puis l'élément"
   ]
  },
  {
   "cell_type": "code",
   "execution_count": null,
   "metadata": {},
   "outputs": [],
   "source": [
    "df['toto']['b']"
   ]
  },
  {
   "cell_type": "markdown",
   "metadata": {},
   "source": [
    "Plus directement, on peut passer la ligne et la colonne à loc et iloc"
   ]
  },
  {
   "cell_type": "code",
   "execution_count": null,
   "metadata": {},
   "outputs": [],
   "source": [
    "df.loc['b', 'toto']"
   ]
  },
  {
   "cell_type": "code",
   "execution_count": null,
   "metadata": {},
   "outputs": [],
   "source": [
    "df.iloc[1, 0]"
   ]
  },
  {
   "cell_type": "markdown",
   "metadata": {},
   "source": [
    "Pour toutes ces fonctions, on peut faire du slicing, ou passer des listes, pour extraire plusieurs éléments"
   ]
  },
  {
   "cell_type": "markdown",
   "metadata": {},
   "source": [
    "#### Manipulations globales"
   ]
  },
  {
   "cell_type": "markdown",
   "metadata": {},
   "source": [
    "On a vu comment extraire des lignes ou des colonnes, mais il existe aussi de nombreuses fonctions s'appliquant à l'ensemble du data frame. Ces fonctions sont disponibles sous la forme *objet.fonction* (en termes de programmation orientée objet, ce sont des méthodes de l'objet)."
   ]
  },
  {
   "cell_type": "markdown",
   "metadata": {},
   "source": [
    "##### Voir les premières lignes"
   ]
  },
  {
   "cell_type": "code",
   "execution_count": null,
   "metadata": {},
   "outputs": [],
   "source": [
    "df.head(2)"
   ]
  },
  {
   "cell_type": "markdown",
   "metadata": {},
   "source": [
    "##### Trier"
   ]
  },
  {
   "cell_type": "markdown",
   "metadata": {},
   "source": [
    "Suivant l'index"
   ]
  },
  {
   "cell_type": "code",
   "execution_count": null,
   "metadata": {},
   "outputs": [],
   "source": [
    "df.sort_index(ascending=False)"
   ]
  },
  {
   "cell_type": "markdown",
   "metadata": {},
   "source": [
    "Suivant une colonne"
   ]
  },
  {
   "cell_type": "code",
   "execution_count": null,
   "metadata": {},
   "outputs": [],
   "source": [
    "df.sort_values('titi')"
   ]
  },
  {
   "cell_type": "markdown",
   "metadata": {},
   "source": [
    "Ces fonctions retournent un nouveau DataFrame et ne modifient pas l'objet d'origine. Il faut les assigner à un nouvel objet (avec le même nom ou pas), ou utiliser l'argument *inplace=True*.\n",
    "\n",
    "Cela permet aussi d'enchaîner les fonctions."
   ]
  },
  {
   "cell_type": "code",
   "execution_count": null,
   "metadata": {},
   "outputs": [],
   "source": [
    "df.sort_values('titi').head(2)"
   ]
  },
  {
   "cell_type": "markdown",
   "metadata": {},
   "source": [
    "##### Compter les occurrences des valeurs"
   ]
  },
  {
   "cell_type": "code",
   "execution_count": null,
   "metadata": {},
   "outputs": [],
   "source": [
    "df['toto'].value_counts()"
   ]
  },
  {
   "cell_type": "markdown",
   "metadata": {},
   "source": [
    "##### Gestion des valeurs manquantes"
   ]
  },
  {
   "cell_type": "code",
   "execution_count": null,
   "metadata": {},
   "outputs": [],
   "source": [
    "df.dropna()"
   ]
  },
  {
   "cell_type": "code",
   "execution_count": null,
   "metadata": {},
   "outputs": [],
   "source": [
    "df.fillna(0)"
   ]
  },
  {
   "cell_type": "markdown",
   "metadata": {},
   "source": [
    "##### Opérations mathématiques"
   ]
  },
  {
   "cell_type": "code",
   "execution_count": null,
   "metadata": {},
   "outputs": [],
   "source": [
    "df.sum()"
   ]
  },
  {
   "cell_type": "code",
   "execution_count": null,
   "metadata": {},
   "outputs": [],
   "source": [
    "df.mean()"
   ]
  },
  {
   "cell_type": "markdown",
   "metadata": {},
   "source": [
    "Ces fonctions ignorent les valeurs manquantes par défaut (argument *skipna*)"
   ]
  },
  {
   "cell_type": "markdown",
   "metadata": {},
   "source": [
    "Pour calculer la moyenne des lignes plutôt que des colonnes."
   ]
  },
  {
   "cell_type": "code",
   "execution_count": null,
   "metadata": {},
   "outputs": [],
   "source": [
    "df.mean(axis=1)"
   ]
  },
  {
   "cell_type": "markdown",
   "metadata": {},
   "source": [
    "##### Group by"
   ]
  },
  {
   "cell_type": "code",
   "execution_count": null,
   "metadata": {},
   "outputs": [],
   "source": [
    "df['is_na'] = df['titi'].isnull()\n",
    "\n",
    "df.groupby('is_na').mean()"
   ]
  },
  {
   "cell_type": "markdown",
   "metadata": {},
   "source": [
    "### Import et export"
   ]
  },
  {
   "cell_type": "markdown",
   "metadata": {},
   "source": [
    "Il est possible d'importer et d'exporter vers de nombreux formats de fichiers.\n",
    "\n",
    "Pour l'export, on utilise les méthodes du data frame nommées *to_** (to_csv, to_excel, ...)"
   ]
  },
  {
   "cell_type": "code",
   "execution_count": null,
   "metadata": {},
   "outputs": [],
   "source": [
    "df.to_csv('df.csv')"
   ]
  },
  {
   "cell_type": "markdown",
   "metadata": {},
   "source": [
    "Pour l'import, l'objet n'existe pas encore, on utilise donc les fonctions de Pandas nommées *read_** qui retournent un data frame."
   ]
  },
  {
   "cell_type": "code",
   "execution_count": null,
   "metadata": {},
   "outputs": [],
   "source": [
    "pd.read_csv('df.csv')"
   ]
  },
  {
   "cell_type": "markdown",
   "metadata": {},
   "source": [
    "On voit que par défaut l'export écrit l'index comme une colonne normale. Mais l'import ne le charge pas comme index par défaut. On peut préciser l'argument *index_col* pour indiquer le numéro de la colonne qui doit servir d'index."
   ]
  },
  {
   "cell_type": "code",
   "execution_count": null,
   "metadata": {},
   "outputs": [],
   "source": [
    "pd.read_csv('df.csv', index_col=0)"
   ]
  },
  {
   "cell_type": "markdown",
   "metadata": {},
   "source": [
    "# Graphiques"
   ]
  },
  {
   "attachments": {
    "image.png": {
     "image/png": "[encoded data removed]"
    }
   },
   "cell_type": "markdown",
   "metadata": {},
   "source": [
    "Pour réaliser des graphiques, il existe de nombreux packages. Les plus courants sont les suivants :\n",
    "\n",
    "1. **Matplotlib** : le package le plus ancien, que l'on va voir dans la suite\n",
    "\n",
    "1. **Seaborn** : une surcouche à Matplotlib qui permet de tracer des graphiques statistiques poussés et améliore l'esthétique\n",
    "\n",
    "1. **Plotly** : aussi disponible en R, il permet de faire des graphiques interactifs. Il fournit aussi **Plotly express** pour faire rapidement des graphiques avec une approche \"grammaire de graphiques\"\n",
    "\n",
    "1. **Bokeh** : pour faire des graphiques interactifs complexes\n",
    "\n",
    "1. **Altair** : qui combine \"grammaire de graphiques\" et interactivité et reposant sur un langage de spécification de visualisations (Vega)\n",
    "\n",
    "Pour avoir une vision plus détaillée de cet écosystème riche, on peut par exemple voir cette présentation du créateur d'Altair : https://www.youtube.com/watch?v=FytuB8nFHPQ (slides : https://speakerdeck.com/jakevdp/pythons-visualization-landscape-pycon-2017 )\n",
    "\n",
    "![image.png](attachment:image.png)"
   ]
  },
  {
   "cell_type": "markdown",
   "metadata": {},
   "source": [
    "## Matplotlib"
   ]
  },
  {
   "cell_type": "markdown",
   "metadata": {},
   "source": [
    "### Principe"
   ]
  },
  {
   "cell_type": "markdown",
   "metadata": {},
   "source": [
    "Matplotlib remonte à l'époque où l'outil de référence pour faire de la manipulation et de la visualisation de données est Matlab ! Numpy a apporté le calcul matriciel mais il manque des outils graphiques. Matplotlib cherche donc initialement à copier ce qui se fait en Matlab. L'objectif est de concevoir un équivalent gratuit et open source à Matlab, pour venir le concurrencer."
   ]
  },
  {
   "cell_type": "markdown",
   "metadata": {},
   "source": [
    "Matplotlib reprend différents concepts de Matlab :\n",
    "\n",
    "1. Une **Figure** comprend un ou plusieurs graphiques. On peut avoir plusieurs figure.\n",
    "\n",
    "1. Un **Axes** est un ensemble d'axes, c'est-à-dire un graphique sur lequel on peut tracer des données.\n",
    "\n",
    "1. Un **Axis** est un axe du graphique (abscisses, ordonnées, ...)"
   ]
  },
  {
   "cell_type": "markdown",
   "metadata": {},
   "source": [
    "Il existe deux façons de faire un graphique :\n",
    "\n",
    "1. On peut manipuler ces objets (figure, axes, ...) avec une approche programmation orientée objet\n",
    "1. On peut utiliser Pyplot, un module de Matplotlib, qui se veut plus facile à utiliser en gérant les aspects techniques à notre place et en gérant l'état du graphique (axes courant, ...)"
   ]
  },
  {
   "cell_type": "markdown",
   "metadata": {},
   "source": [
    "Pour les données à tracer, Matplotlib utilise des tableaux Numpy. Néanmoins tout objet qui peut être converti directement peut être utilisé (listes, séries Pandas, ...)"
   ]
  },
  {
   "cell_type": "markdown",
   "metadata": {},
   "source": [
    "### Faire un graphique simple"
   ]
  },
  {
   "cell_type": "markdown",
   "metadata": {},
   "source": [
    "Pour commencer, on importe Pyplot sous son alias usuel."
   ]
  },
  {
   "cell_type": "code",
   "execution_count": null,
   "metadata": {},
   "outputs": [],
   "source": [
    "import matplotlib.pyplot as plt"
   ]
  },
  {
   "cell_type": "markdown",
   "metadata": {},
   "source": [
    "Dans un notebook Jupyter, une petite manipulation est nécessaire pour afficher directement les graphiques."
   ]
  },
  {
   "cell_type": "code",
   "execution_count": null,
   "metadata": {},
   "outputs": [],
   "source": [
    "%matplotlib inline"
   ]
  },
  {
   "cell_type": "markdown",
   "metadata": {},
   "source": [
    "Le graphique le plus simple se fait avec la fonction *plot* de Pyplot, en lui fournissant la liste des abscisses en premier argument et la liste des ordonnées en deuxième argument."
   ]
  },
  {
   "cell_type": "code",
   "execution_count": null,
   "metadata": {},
   "outputs": [],
   "source": [
    "plt.plot([1, 2, 3], [1, 4, 9])"
   ]
  },
  {
   "cell_type": "markdown",
   "metadata": {},
   "source": [
    "D'autres fonctions sont disponibles pour les autres types de graphiques."
   ]
  },
  {
   "cell_type": "code",
   "execution_count": null,
   "metadata": {},
   "outputs": [],
   "source": [
    "plt.scatter([1, 2, 3], [1, 4, 9])"
   ]
  },
  {
   "cell_type": "markdown",
   "metadata": {},
   "source": [
    "Dans l'approche orientée objet, on crée d'abord la figure et les axes et on utilise les méthodes de ces objets. Cela peut s'avérer plus simple si on réalise plusieurs graphiques à la fois."
   ]
  },
  {
   "cell_type": "code",
   "execution_count": null,
   "metadata": {},
   "outputs": [],
   "source": [
    "fig, ax = plt.subplots()\n",
    "\n",
    "ax.scatter([1, 2, 3], [1, 4, 9])"
   ]
  },
  {
   "cell_type": "markdown",
   "metadata": {},
   "source": [
    "### Personnalisation"
   ]
  },
  {
   "cell_type": "markdown",
   "metadata": {},
   "source": [
    "Tous les éléments du graphique sont personnalisables."
   ]
  },
  {
   "cell_type": "code",
   "execution_count": null,
   "metadata": {},
   "outputs": [],
   "source": [
    "plt.bar([1, 2, 3], [1, 4, 9], color='red')\n",
    "plt.plot([1, 2, 3], [1, 4, 9], linewidth=10)\n",
    "plt.title('Graphique')\n",
    "\n",
    "plt.xlabel('Abscisses')\n",
    "plt.ylabel('Ordonnées')"
   ]
  },
  {
   "cell_type": "markdown",
   "metadata": {},
   "source": [
    "On peut s'inspirer de la galerie d'exemples disponible sur le site de Matplotlib : https://matplotlib.org/gallery/index.html"
   ]
  },
  {
   "cell_type": "markdown",
   "metadata": {},
   "source": [
    "### Utiliser des data frames Pandas "
   ]
  },
  {
   "cell_type": "markdown",
   "metadata": {},
   "source": [
    "Pour illustrer l'utilisation de Matplotlib à partir de data frames Pandas, chargeons le jeu de données classique Iris."
   ]
  },
  {
   "cell_type": "code",
   "execution_count": null,
   "metadata": {},
   "outputs": [],
   "source": [
    "iris = pd.read_csv('iris.csv')\n",
    "\n",
    "iris.head(5)"
   ]
  },
  {
   "cell_type": "markdown",
   "metadata": {},
   "source": [
    "On peut utiliser Matplotlib directement en lui donnant des Series, qui peuvent être converties directement en tableaux Numpy."
   ]
  },
  {
   "cell_type": "code",
   "execution_count": null,
   "metadata": {},
   "outputs": [],
   "source": [
    "plt.scatter(iris['sepal_length'], iris['sepal_width'], c=iris['petal_length'])"
   ]
  },
  {
   "cell_type": "markdown",
   "metadata": {},
   "source": [
    "Matplotlib fournit aussi l'argument *data* qui permet de donner le data frame et de ne faire référence qu'aux noms des colonnes."
   ]
  },
  {
   "cell_type": "code",
   "execution_count": null,
   "metadata": {},
   "outputs": [],
   "source": [
    "plt.scatter('sepal_length', 'sepal_width', c='petal_length', data=iris)"
   ]
  },
  {
   "cell_type": "markdown",
   "metadata": {},
   "source": [
    "Pandas fournit aussi une interface s'appuyrant sur Matplotlib. Il faut pour cela utiliser la méthode *plot* du data frame (pour des lignes) ou les méthodes plot.scatter (pour des nuages de points), plot.bar (pour des histogrammes) , ..."
   ]
  },
  {
   "cell_type": "code",
   "execution_count": null,
   "metadata": {},
   "outputs": [],
   "source": [
    "iris.plot.scatter('sepal_length', 'sepal_width', c='petal_length')"
   ]
  },
  {
   "cell_type": "markdown",
   "metadata": {},
   "source": [
    "On peut donc utiliser toute la puissance de Matplotlib pour customiser le graphique."
   ]
  },
  {
   "cell_type": "code",
   "execution_count": null,
   "metadata": {},
   "outputs": [],
   "source": [
    "iris['species'].value_counts().plot.bar(color='cyan')\n",
    "\n",
    "plt.xticks(rotation=45)\n",
    "plt.xlabel('Espèce')\n",
    "plt.ylabel('Nombre')\n",
    "plt.title('Répartition des espèces')"
   ]
  },
  {
   "cell_type": "markdown",
   "metadata": {},
   "source": [
    "### Limitations"
   ]
  },
  {
   "cell_type": "markdown",
   "metadata": {},
   "source": [
    "Matplotlib a une approche bas niveau : on définit ce qu'on trace élément par élément. Cela permet d'avoir quelque chose de très polyvalent mais peut s'avérer laborieux pour certains graphiques.\n",
    "\n",
    "Les packages plus récents ont une approche plutôt \"grammar of graphics\". Dans cette approche, introduite en 1999 par Leland Wilkinson et notamment implémentée par Hadley Wickham dans ggplot2, on décrit les différents composants syntaxiques du graphique (données, conversions esthétiques, géométries, échelles, ...).\n",
    "\n",
    "Pour illustrer cela, essayons de tracer le graphique précédent mais en utilisant l'espèce pour colorer les points."
   ]
  },
  {
   "cell_type": "code",
   "execution_count": null,
   "metadata": {},
   "outputs": [],
   "source": [
    "try:\n",
    "    plt.scatter('sepal_length', 'sepal_width', c='species', data=iris)\n",
    "except:\n",
    "    print(\"Erreur : setosa n'est pas une couleur !\")"
   ]
  },
  {
   "cell_type": "markdown",
   "metadata": {},
   "source": [
    "Matplotlib demande de spécifier exactement la couleur, et ne sait pas encoder des variables catégorielles. Il faut donc le faire manuellement.\n",
    "\n",
    "On peut par exemple pré-calculer la couleur."
   ]
  },
  {
   "cell_type": "code",
   "execution_count": null,
   "metadata": {},
   "outputs": [],
   "source": [
    "palette = {'setosa': 'red',\n",
    "          'versicolor': 'blue',\n",
    "           'virginica': 'green'}\n",
    "\n",
    "iris['couleur'] = iris['species'].map(palette)\n",
    "\n",
    "plt.scatter('sepal_length', 'sepal_width', c='couleur', data=iris)"
   ]
  },
  {
   "cell_type": "markdown",
   "metadata": {},
   "source": [
    "Ou bien on peut boucler sur les différentes espèces pour superposer trois nuages de points."
   ]
  },
  {
   "cell_type": "code",
   "execution_count": null,
   "metadata": {},
   "outputs": [],
   "source": [
    "for espece in iris['species'].unique():\n",
    "    plt.scatter('sepal_length', 'sepal_width', data=iris[iris['species']==espece], label=espece)\n",
    "    \n",
    "plt.legend()"
   ]
  },
  {
   "cell_type": "markdown",
   "metadata": {
    "collapsed": true
   },
   "source": [
    "D'autres packages basés sur la grammaire des graphiques peuvent le faire directement (Altair, Plotly Express, ...)"
   ]
  },
  {
   "cell_type": "code",
   "execution_count": null,
   "metadata": {},
   "outputs": [],
   "source": [
    "import altair as alt\n",
    "alt.Chart(iris).mark_point().encode(x='sepal_length', y='sepal_width', color='species').interactive()"
   ]
  },
  {
   "cell_type": "code",
   "execution_count": null,
   "metadata": {},
   "outputs": [],
   "source": [
    "import plotly.express as px\n",
    "\n",
    "px.scatter(iris, x='sepal_length', y='sepal_width', color='species')"
   ]
  },
  {
   "cell_type": "markdown",
   "metadata": {},
   "source": [
    "# Scikit Learn"
   ]
  },
  {
   "cell_type": "markdown",
   "metadata": {},
   "source": [
    "**Scikit Learn** est la librairie de référence pour le machine learning en Python. Elle regroupe de nombreux algorithmes d'apprentissage, mais aussi des fonctions de prétraitement des données, de sélection des modèles, etc. Cela permet de couvrir tout le processus de modélisation avec une librairie bien organisée et cohérente. Elle est donc une raison importante qui a permis à Python de devenir le langage de premier plan pour le machine learning."
   ]
  },
  {
   "cell_type": "markdown",
   "metadata": {},
   "source": [
    "Même si son nom complet est Scikit Learn, la librairie s'appelle par le diminutif **sklearn**. Il est toutefois peu courant de l'importer directement car les différentes fonctions sont réparties en différents modules, desquels on importe les fonctions souhaitées. Parmi ces modules, on peut citer :\n",
    "- **cluster** pour tout ce qui concerne le clustering\n",
    "- **datasets** pour des exemples de jeux de données\n",
    "- **ensemble** pour les méthodes ensemblistes (combinaisons de modèles, random forest, gradient boosting, ...)\n",
    "- **linear_model** pour les modèles linéaires (régression linéaire (classique ou régularisée), régression logistique, ...)\n",
    "- **metrics** pour le calcul de scores\n",
    "- **model_selection** pour tout ce qui concerne la cross validation, l'optimisation d'hyperparamètres, ...\n",
    "- **neighbors** pour les méthodes basées sur les voisins (KNN)\n",
    "- **pipeline** pour enchaîner les modèles\n",
    "- **preprocessing** pour le prétraitement des données (standardisation, ...)\n",
    "- **svm** pour les Support Vector Machines\n",
    "- **tree** pour les arbres de décision\n",
    "\n",
    "Pour une liste plus complète et plus détaillée, on peut se référer à la documentation officielle : https://scikit-learn.org/stable/modules/classes.html"
   ]
  },
  {
   "cell_type": "markdown",
   "metadata": {},
   "source": [
    "## Un premier modèle"
   ]
  },
  {
   "cell_type": "markdown",
   "metadata": {},
   "source": [
    "Pour illustrer les possibilités de Scikit learn, prenons un des jeux de données disponibles au sein de la librairie. Il s'agit d'un jeu de données décrivant le prix de l'immobilier à Boston, en fonction de diférentes variables."
   ]
  },
  {
   "cell_type": "markdown",
   "metadata": {},
   "source": [
    "Au sein du module **datasets**, on peut trouver une fonction **load_boston** qui permet de charger les données et retourne un dictionnaire avec différents champs."
   ]
  },
  {
   "cell_type": "code",
   "execution_count": null,
   "metadata": {},
   "outputs": [],
   "source": [
    "from sklearn.datasets import load_boston\n",
    "\n",
    "boston = load_boston()\n",
    "\n",
    "boston.keys()"
   ]
  },
  {
   "cell_type": "markdown",
   "metadata": {},
   "source": [
    "- **data** contient les observations sous forme matricielle\n",
    "- **target** contient la variable cible (prix) \n",
    "- **feature_names** donne le nom des colonnes de *data*\n",
    "- **DESCR** est une documentation du jeu de données\n",
    "- **filename** est le nom du fichier dans lequel le jeu de données est stocké"
   ]
  },
  {
   "cell_type": "code",
   "execution_count": null,
   "metadata": {},
   "outputs": [],
   "source": [
    "print(boston['DESCR'])"
   ]
  },
  {
   "cell_type": "markdown",
   "metadata": {},
   "source": [
    "Pour pouvoir mieux le manipuler, mettons **data** sous la forme d'un DataFrame"
   ]
  },
  {
   "cell_type": "code",
   "execution_count": null,
   "metadata": {},
   "outputs": [],
   "source": [
    "df_boston = pd.DataFrame(boston['data'], columns=boston['feature_names'])\n",
    "\n",
    "df_boston"
   ]
  },
  {
   "cell_type": "markdown",
   "metadata": {},
   "source": [
    "**target** est un array numpy."
   ]
  },
  {
   "cell_type": "code",
   "execution_count": null,
   "metadata": {},
   "outputs": [],
   "source": [
    "target = load_boston()['target']\n",
    "\n",
    "target"
   ]
  },
  {
   "cell_type": "markdown",
   "metadata": {},
   "source": [
    "Une des deux premières choses à faire est de séparer les données en jeux d'entraînement et de test, pour éviter le surapprentissage. Le module **model_selection** propore la fonction **train_test_split** pour cela. Elle prend les features, la cible et le taux de répartition. Pour garder une répétabilité, on peut aussi lui spécifier une graîne pour le générateur de nombres aléatoires."
   ]
  },
  {
   "cell_type": "code",
   "execution_count": null,
   "metadata": {},
   "outputs": [],
   "source": [
    "from sklearn.model_selection import train_test_split"
   ]
  },
  {
   "cell_type": "code",
   "execution_count": null,
   "metadata": {},
   "outputs": [],
   "source": [
    "X_train, X_test, y_train, y_test = train_test_split(df_boston, target, test_size=0.2, random_state=42)"
   ]
  },
  {
   "cell_type": "markdown",
   "metadata": {},
   "source": [
    "Pour un premier essai de modèle, commençons simple : une régression linéaire. Elle est disponible dans le module **linear_model**."
   ]
  },
  {
   "cell_type": "code",
   "execution_count": null,
   "metadata": {},
   "outputs": [],
   "source": [
    "from sklearn.linear_model import LinearRegression"
   ]
  },
  {
   "cell_type": "markdown",
   "metadata": {},
   "source": [
    "Appeler la fonction **LinearRegression** crée un objet que l'on va manipuler pour faire l'apprentissage et les prédictions."
   ]
  },
  {
   "cell_type": "code",
   "execution_count": null,
   "metadata": {},
   "outputs": [],
   "source": [
    "lr = LinearRegression()"
   ]
  },
  {
   "cell_type": "markdown",
   "metadata": {},
   "source": [
    "Pour l'entraînement, on utilise la méthode **fit** du modèle."
   ]
  },
  {
   "cell_type": "code",
   "execution_count": null,
   "metadata": {},
   "outputs": [],
   "source": [
    "lr.fit(X_train, y_train)"
   ]
  },
  {
   "cell_type": "markdown",
   "metadata": {},
   "source": [
    "L'entraînement modifie le contenu de l'objet. Il contient maintient tous les paramètres nécessaires, que l'on peut regarder si on est curieux."
   ]
  },
  {
   "cell_type": "code",
   "execution_count": null,
   "metadata": {},
   "outputs": [],
   "source": [
    "lr.coef_"
   ]
  },
  {
   "cell_type": "markdown",
   "metadata": {},
   "source": [
    "Pour la prédiction, on utilise la méthode **predict**."
   ]
  },
  {
   "cell_type": "code",
   "execution_count": null,
   "metadata": {},
   "outputs": [],
   "source": [
    "y_pred = lr.predict(X_test)"
   ]
  },
  {
   "cell_type": "markdown",
   "metadata": {},
   "source": [
    "On peut comparer graphiquement les prédictions aux valeurs réelles, pour vérifier qu'elles sont raisonnables."
   ]
  },
  {
   "cell_type": "code",
   "execution_count": null,
   "metadata": {},
   "outputs": [],
   "source": [
    "plt.scatter(y_test, y_pred)\n",
    "plt.plot([0,50], [0,50], color='black', linestyle='dashed')\n",
    "\n",
    "plt.xlabel('Réel')\n",
    "plt.ylabel('Prédiction')"
   ]
  },
  {
   "cell_type": "markdown",
   "metadata": {},
   "source": [
    "Pour avoir une vision plus précise, on peut utiliser des métriques (disponibles dans le module **metrics**), comme par exemple le MSE."
   ]
  },
  {
   "cell_type": "code",
   "execution_count": null,
   "metadata": {},
   "outputs": [],
   "source": [
    "from sklearn.metrics import mean_squared_error"
   ]
  },
  {
   "cell_type": "code",
   "execution_count": null,
   "metadata": {},
   "outputs": [],
   "source": [
    "mean_squared_error(y_pred, y_test)"
   ]
  },
  {
   "cell_type": "markdown",
   "metadata": {},
   "source": [
    "## Changer de modèle"
   ]
  },
  {
   "cell_type": "markdown",
   "metadata": {},
   "source": [
    "Tout l'intérêt de Scikit learn est que les modèles suivent tous la même interface : une méthode **fit** pour l'apprentissage et une méthode **predict** pour l'inférence. Il est donc très facile de changer de modèle."
   ]
  },
  {
   "cell_type": "markdown",
   "metadata": {},
   "source": [
    "Par exemple, pour faire une random forest, il suffit d'aller chercher la fonction **RandomForestRegressor** (il existe aussi RandomForestClassifier pour la classification) dans le module **ensemble**. On l'appelle ensuite pour créer notre modèle. On pourrait lui spécifier des arguments (hyperparamètres, ...), mais dans un premier temps gardons les valeurs par défaut."
   ]
  },
  {
   "cell_type": "code",
   "execution_count": null,
   "metadata": {},
   "outputs": [],
   "source": [
    "from sklearn.ensemble import RandomForestRegressor\n",
    "\n",
    "rf = RandomForestRegressor()\n",
    "\n",
    "rf.fit(X_train, y_train)\n",
    "y_pred=rf.predict(X_test)\n",
    "\n",
    "mean_squared_error(y_pred, y_test)"
   ]
  },
  {
   "cell_type": "markdown",
   "metadata": {},
   "source": [
    "On voit tout de suite le gain apporté par ce modèle non-linéaire. Mais on peut facilement contnuer notre exploration de différents modèles."
   ]
  },
  {
   "cell_type": "code",
   "execution_count": null,
   "metadata": {},
   "outputs": [],
   "source": [
    "from sklearn.ensemble import GradientBoostingRegressor\n",
    "\n",
    "dict_modeles = {'Régression linéaire': LinearRegression(),\n",
    "               'Random forest': RandomForestRegressor(),\n",
    "               'Gradient boosting': GradientBoostingRegressor()}\n",
    "\n",
    "df_resultats = pd.DataFrame([], columns=['MSE']) # data frame pour stocker les résultats\n",
    "\n",
    "for nom_modele, modele in dict_modeles.items():\n",
    "    modele.fit(X_train, y_train)\n",
    "    y_pred = modele.predict(X_test)\n",
    "    \n",
    "    df_resultats.loc[nom_modele, 'MSE'] = mean_squared_error(y_pred, y_test)\n",
    "\n",
    "df_resultats"
   ]
  },
  {
   "cell_type": "code",
   "execution_count": null,
   "metadata": {},
   "outputs": [],
   "source": [
    "df_resultats.plot.barh()"
   ]
  },
  {
   "cell_type": "markdown",
   "metadata": {},
   "source": [
    "## Prétraitement"
   ]
  },
  {
   "cell_type": "markdown",
   "metadata": {},
   "source": [
    "Outre le choix et l'optimisation du modèle, un levier important d'amélioration dans le machine learning est le prétraitement des données. Certains modèles peuvent par exemple nécessiter des variables normalisées. Le module **preprocessing** contient différentes fonctions utiles.\n",
    "\n",
    "Les modèles qu'on a essayés sont linéaires ou basés sur des arbres, donc insensibles à la normalisation. Mais on peut essayer des transformations non-linéaires. Essayons par exemple de voir si la régression linéaire serait plus performante si on applique une loi de puissance sur les features pour les rendre plus gaussiennes. L'utilisation des transformations est très similaire à celle des modèles :\n",
    "- une méthode **fit** permet de déterminer les paramètres de la transformation\n",
    "- une méthode **transform** permet d'appliquer la transformation aux données (si on transforme la variable cible, il existe la méthode **inverse_transform** pour obtenir les prédictions dans l'échelle d'origine)\n"
   ]
  },
  {
   "cell_type": "code",
   "execution_count": null,
   "metadata": {},
   "outputs": [],
   "source": [
    "from sklearn.preprocessing import PowerTransformer\n",
    "\n",
    "prepro = PowerTransformer()\n",
    "\n",
    "prepro.fit(X_train)\n",
    "\n",
    "X_train_prepro = prepro.transform(X_train)"
   ]
  },
  {
   "cell_type": "markdown",
   "metadata": {},
   "source": [
    "On peut ensuite entraîner un modèle sur ces données transformées :  il faut simplement bien veiller à appliquer la même transformation sur les données de test."
   ]
  },
  {
   "cell_type": "code",
   "execution_count": null,
   "metadata": {},
   "outputs": [],
   "source": [
    "lr = LinearRegression()\n",
    "lr.fit(X_train_prepro, y_train)\n",
    "\n",
    "X_test_prepro = prepro.transform(X_test)\n",
    "y_pred = lr.predict(X_test_prepro)\n",
    "\n",
    "mean_squared_error(y_pred, y_test)"
   ]
  },
  {
   "cell_type": "markdown",
   "metadata": {},
   "source": [
    "## Pipelines"
   ]
  },
  {
   "cell_type": "markdown",
   "metadata": {},
   "source": [
    "Lorsqu'on enchaîne ainsi différentes étapes, il devient facile de se tromper : oubli d'une transformation sur les données de test, mélange des données de test et d'entraînement, fit sur les données de test, ...\n",
    "\n",
    "Pour cela, Scikit learn propose la notion de **Pipeline**. Il s'agit d'un enchaînement de transformations et de modèles, qui pourra être utilisé en bloc. Ainsi la fonciton **fit** entraînera toutes les étapes du traitement, et la fonction **predict** appliquera toutes les transformations et prédictions nécessaires pour arriver au résultat final.\n",
    "\n",
    "Pour construire un pipeline, on fournit une liste de tuples de la forme $(nom, objet)$."
   ]
  },
  {
   "cell_type": "code",
   "execution_count": null,
   "metadata": {},
   "outputs": [],
   "source": [
    "from sklearn.pipeline import Pipeline\n",
    "\n",
    "pipe = Pipeline([('scaler', PowerTransformer()), ('modèle', RandomForestRegressor())])\n",
    "\n",
    "pipe.fit(X_train, y_train)\n",
    "\n",
    "y_pred = pipe.predict(X_test)\n",
    "mean_squared_error(y_pred, y_test)"
   ]
  },
  {
   "cell_type": "markdown",
   "metadata": {},
   "source": [
    "# Hyperparameter tuning"
   ]
  },
  {
   "cell_type": "markdown",
   "metadata": {},
   "source": [
    "Pour finir, regardons rapidement un pan important de la modélisation pour lequel Scikit learn apporte des outils puissants : l'optimisation d'hyperparamètres.\n",
    "\n"
   ]
  },
  {
   "cell_type": "markdown",
   "metadata": {},
   "source": [
    "Imaginons par exemple que l'on souhaite par exemple trouver les meilleurs hyperparamètres pour un random forest. On peut imaginer le faire manuellement en spécifiant les hyperparamètres lors de la création du modèle."
   ]
  },
  {
   "cell_type": "code",
   "execution_count": null,
   "metadata": {},
   "outputs": [],
   "source": [
    "rf1 = RandomForestRegressor(n_estimators=50)\n",
    "rf1.fit(X_train, y_train)\n",
    "print(mean_squared_error(rf1.predict(X_test), y_test))\n",
    "\n",
    "rf2 = RandomForestRegressor(n_estimators=200)\n",
    "rf2.fit(X_train, y_train)\n",
    "print(mean_squared_error(rf2.predict(X_test), y_test))"
   ]
  },
  {
   "cell_type": "markdown",
   "metadata": {},
   "source": [
    "Mais on peut aussi faire plus précis, plus puissant, plus rapide de manière plus simple !"
   ]
  },
  {
   "cell_type": "markdown",
   "metadata": {},
   "source": [
    "La fonction **GridSearchCV** (disponible dans le module **model_selection**) par exemple va permettre de :\n",
    "1. générer toutes les combinaisons de valeurs d'hyperparamètres que l'on souhaite (*grid search*)\n",
    "1. pour chaque combinaison, calculer plusieurs fois le modèle sur différents découpages des données (*cross validation*)\n",
    "1. choisir la meilleure combinaison\n",
    "\n",
    "Et avec l'argument *n_jobs*, elle le fait en parallèle (la valeur -1 signifie l'utilisation de tous les coeurs) !"
   ]
  },
  {
   "cell_type": "code",
   "execution_count": 165,
   "metadata": {},
   "outputs": [
    {
     "name": "stdout",
     "output_type": "stream",
     "text": [
      "Fitting 5 folds for each of 20 candidates, totalling 100 fits\n"
     ]
    },
    {
     "name": "stderr",
     "output_type": "stream",
     "text": [
      "[Parallel(n_jobs=-1)]: Using backend LokyBackend with 4 concurrent workers.\n",
      "[Parallel(n_jobs=-1)]: Done  33 tasks      | elapsed:   32.7s\n",
      "[Parallel(n_jobs=-1)]: Done 100 out of 100 | elapsed:   40.3s finished\n"
     ]
    },
    {
     "data": {
      "text/plain": [
       "GridSearchCV(estimator=RandomForestRegressor(), n_jobs=-1,\n",
       "             param_grid={'max_depth': [2, 3, 4, 5],\n",
       "                         'n_estimators': [10, 20, 50, 100, 200]},\n",
       "             verbose=2)"
      ]
     },
     "execution_count": 165,
     "metadata": {},
     "output_type": "execute_result"
    }
   ],
   "source": [
    "from sklearn.model_selection import GridSearchCV\n",
    "\n",
    "parametres = {'n_estimators': [10, 20, 50, 100, 200], 'max_depth': [2, 3, 4, 5]}\n",
    "\n",
    "rf = RandomForestRegressor()\n",
    "grid = GridSearchCV(rf, parametres, n_jobs=-1, verbose=1)\n",
    "\n",
    "grid.fit(X_train, y_train)"
   ]
  },
  {
   "cell_type": "markdown",
   "metadata": {},
   "source": [
    "Si cela nous intéresse, on peut regarder les valeurs sélectionnées."
   ]
  },
  {
   "cell_type": "code",
   "execution_count": null,
   "metadata": {},
   "outputs": [],
   "source": [
    "grid.best_params_"
   ]
  },
  {
   "cell_type": "markdown",
   "metadata": {},
   "source": [
    "Mais cela n'est pas nécessaire : on peut simplement utiliser la méthode **predict** pour faire les prédictions avec le meilleur modèle retenu."
   ]
  },
  {
   "cell_type": "code",
   "execution_count": null,
   "metadata": {},
   "outputs": [],
   "source": [
    "y_pred = grid.predict(X_test)\n",
    "\n",
    "mean_squared_error(y_pred, y_test)"
   ]
  },
  {
   "cell_type": "markdown",
   "metadata": {},
   "source": [
    "Même si on a juste donné un aperçu rapide des possibilités de Scikit learn, il faut bien garder en tête ses forces : permettre de manipuler simplement et de manière cohérente des modèles mais aussi fournir des outils puissants pour simplifier chaque étape du processus de  machine learning."
   ]
  }
 ],
 "metadata": {
  "kernelspec": {
   "display_name": "Python 3",
   "language": "python",
   "name": "python3"
  },
  "language_info": {
   "codemirror_mode": {
    "name": "ipython",
    "version": 3
   },
   "file_extension": ".py",
   "mimetype": "text/x-python",
   "name": "python",
   "nbconvert_exporter": "python",
   "pygments_lexer": "ipython3",
   "version": "3.8.3"
  }
 },
 "nbformat": 4,
 "nbformat_minor": 4
}
