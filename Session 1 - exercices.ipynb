{
 "cells": [
  {
   "cell_type": "code",
   "execution_count": 0,
   "metadata": {
    "colab": {},
    "colab_type": "code",
    "id": "TeadjsMhsbLp"
   },
   "outputs": [],
   "source": [
    "print('Bonjour à tous')"
   ]
  },
  {
   "cell_type": "markdown",
   "metadata": {},
   "source": [
    "- Contexte (principes généraux du langage, IDE, chez nous)\n",
    "- Prise en main (print('Hello world') dans un notebook Jupyter)\n",
    "- Les boucles (indentation, indexation depuis 0, for, if, while, return, break)\n",
    "- Les fonctions\n",
    "- Les types de base (string, lists, tuples, dicts, bool)\n",
    "- La manipulation de listes (indexing, append, comprehension lists , map, filter, reduce, lambda expression)\n",
    "- La manipulation de strings (concaténation, indexation, formattage)\n",
    "- La manipulation de dictionnaires (création, ajout d’un élément, boucle, items)\n",
    "- Les packages (import, from, as)\n",
    "- Numpy (opérations de base)\n",
    "- Optionnel : try/except, classes"
   ]
  },
  {
   "cell_type": "markdown",
   "metadata": {},
   "source": [
    "# IDE"
   ]
  },
  {
   "cell_type": "markdown",
   "metadata": {},
   "source": [
    "A la base, python est un langage de programmation. Il est donc possible de l'utiliser dans un IDE traditionnel comme Visual Studio Code, PyCharm... \n",
    "\n",
    "L'usage de python pour la data science nécessite cependant une certaine agilité car beaucoup d'études exploratoires sont plus accées sur la rapidité d'obtention des premiers résultats que sur la scalabilité ou la robustesse. Aussi, jupyter propose un environnement simple dans lequel on peut programmer, organiser et visualiser les résultats rapidement, comme les notebooks R studio. "
   ]
  },
  {
   "cell_type": "markdown",
   "metadata": {},
   "source": [
    "- Pour commencer à prendre en main l'interface, cliquez sur le menu\n",
    "\n",
    "`Aide` -> `Visite de l'interface utilisateur`"
   ]
  },
  {
   "cell_type": "markdown",
   "metadata": {},
   "source": [
    "- Pour commencer à vous familiariser avec les raccourcis clavier, cliquez sur\n",
    "\n",
    "`Aide` -> `Raccourcis clavier`"
   ]
  },
  {
   "cell_type": "markdown",
   "metadata": {},
   "source": [
    "- Pour exécuter les cellules suivantes, appuyez sur les touches `Maj+Entr`.\n",
    "\n",
    "Contrairement à R studio, vous ne pouvez pas exécuter une seule ligne à la fois. Mais n'éhistez pas à créer des cellules d'une seule ligne si nécessaire (avec les raccourcis `B` et `A` par exemple) puis les supprimer (avec `X`) ou les merger (avec `M`)"
   ]
  },
  {
   "cell_type": "markdown",
   "metadata": {},
   "source": [
    "# Opérateurs"
   ]
  },
  {
   "cell_type": "markdown",
   "metadata": {},
   "source": [
    "**Les opérateurs sont identiques en R et en Python...**\n",
    "\n",
    "... a part l'assignation `<-` qui devient `=`.\n",
    "\n",
    "Python est un langage conçu pour être simple et compréhensible. Les opérations logiques sont donc simplement écrites en anglais : \n",
    "- `!x` en R devient `not x` en python\n",
    "- `x | y` en R devient`x or y` en python\n",
    "- `x & y` en R devient `x or y` en python"
   ]
  },
  {
   "cell_type": "markdown",
   "metadata": {},
   "source": [
    "Stockez les valeurs 2 et 5 dans deux variables nommée respectivement a et b. "
   ]
  },
  {
   "cell_type": "code",
   "execution_count": 2,
   "metadata": {},
   "outputs": [],
   "source": [
    "a = 2\n",
    "b = 5"
   ]
  },
  {
   "cell_type": "markdown",
   "metadata": {},
   "source": [
    "Effectuez quelques tests sur ces variables : \n",
    "- Est-ce que a est égal à b ? \n",
    "- Est-ce que a est inférieur b ?\n",
    "- Est-ce que a est inférieur ou égal à b et est-ce que b est inférieur à 6 ?"
   ]
  },
  {
   "cell_type": "code",
   "execution_count": 3,
   "metadata": {},
   "outputs": [
    {
     "data": {
      "text/plain": [
       "False"
      ]
     },
     "execution_count": 3,
     "metadata": {},
     "output_type": "execute_result"
    }
   ],
   "source": [
    "a == b"
   ]
  },
  {
   "cell_type": "code",
   "execution_count": 4,
   "metadata": {},
   "outputs": [
    {
     "data": {
      "text/plain": [
       "True"
      ]
     },
     "execution_count": 4,
     "metadata": {},
     "output_type": "execute_result"
    }
   ],
   "source": [
    "a < b"
   ]
  },
  {
   "cell_type": "code",
   "execution_count": 5,
   "metadata": {
    "scrolled": true
   },
   "outputs": [
    {
     "data": {
      "text/plain": [
       "True"
      ]
     },
     "execution_count": 5,
     "metadata": {},
     "output_type": "execute_result"
    }
   ],
   "source": [
    "a <= b and b < 6"
   ]
  },
  {
   "cell_type": "markdown",
   "metadata": {},
   "source": [
    "Page de référence : https://www.tutorialspoint.com/python/python_basic_operators.htm"
   ]
  },
  {
   "cell_type": "markdown",
   "metadata": {},
   "source": [
    "# Boucles\n",
    "En python, les **espaces et tabulations** en début de ligne font partie de la synthaxe. Ce sont notamment elles qui déterminent à quel niveau de boucle se trouve la ligne en question."
   ]
  },
  {
   "cell_type": "markdown",
   "metadata": {},
   "source": [
    "## Exemples de boucles"
   ]
  },
  {
   "cell_type": "code",
   "execution_count": 18,
   "metadata": {},
   "outputs": [],
   "source": [
    "a = 3"
   ]
  },
  {
   "cell_type": "markdown",
   "metadata": {},
   "source": [
    "**Boucle if + condition**"
   ]
  },
  {
   "cell_type": "code",
   "execution_count": 19,
   "metadata": {
    "colab": {},
    "colab_type": "code",
    "id": "HAmMoh51sbNK"
   },
   "outputs": [],
   "source": [
    "if a > 3:\n",
    "    print(\"a est plus grand que 3\")"
   ]
  },
  {
   "cell_type": "markdown",
   "metadata": {
    "colab_type": "text",
    "id": "l6PVg8NXsbNO"
   },
   "source": [
    "**Else**"
   ]
  },
  {
   "cell_type": "code",
   "execution_count": 20,
   "metadata": {
    "colab": {},
    "colab_type": "code",
    "id": "B1ZuPrZ8sbNP"
   },
   "outputs": [
    {
     "name": "stdout",
     "output_type": "stream",
     "text": [
      "a est plus petit que 3\n"
     ]
    }
   ],
   "source": [
    "if a > 3:\n",
    "    print(\"a est plus grand que 3\")\n",
    "else : \n",
    "    print(\"a est plus petit que 3\")"
   ]
  },
  {
   "cell_type": "markdown",
   "metadata": {
    "colab_type": "text",
    "id": "PdetzNX4sbNT"
   },
   "source": [
    "**Elif**"
   ]
  },
  {
   "cell_type": "code",
   "execution_count": 21,
   "metadata": {
    "colab": {},
    "colab_type": "code",
    "id": "aOAcQ_Z8sbNV",
    "scrolled": true
   },
   "outputs": [
    {
     "name": "stdout",
     "output_type": "stream",
     "text": [
      "a est égal à 3\n"
     ]
    }
   ],
   "source": [
    "if a > 3:\n",
    "    print(\"a est plus grand que 3\")\n",
    "elif a == 3:\n",
    "    print(\"a est égal à 3\")\n",
    "elif a >= 3:\n",
    "    print(\"a est supérieur ou égal à 3\")\n",
    "else : \n",
    "    print(\"a est plus petit que 3\")"
   ]
  },
  {
   "cell_type": "markdown",
   "metadata": {
    "colab_type": "text",
    "id": "h8a6NqppsbNX"
   },
   "source": [
    "**Boucle while**"
   ]
  },
  {
   "cell_type": "code",
   "execution_count": 27,
   "metadata": {
    "colab": {},
    "colab_type": "code",
    "id": "SXxu7Y-EsbNY"
   },
   "outputs": [
    {
     "name": "stdout",
     "output_type": "stream",
     "text": [
      "0\n",
      "1\n",
      "2\n",
      "3\n",
      "4\n"
     ]
    }
   ],
   "source": [
    "a = 0\n",
    "while a < 5:\n",
    "    print(a)\n",
    "    a += 1"
   ]
  },
  {
   "cell_type": "markdown",
   "metadata": {
    "colab_type": "text",
    "id": "gd66Av0RsbNf"
   },
   "source": [
    "**Boucle for**"
   ]
  },
  {
   "cell_type": "code",
   "execution_count": 29,
   "metadata": {
    "colab": {},
    "colab_type": "code",
    "id": "XsfwMMWIsbNg"
   },
   "outputs": [
    {
     "name": "stdout",
     "output_type": "stream",
     "text": [
      "0\n",
      "1\n",
      "2\n",
      "3\n",
      "4\n"
     ]
    }
   ],
   "source": [
    "for i in range(5):\n",
    "    print(i)"
   ]
  },
  {
   "cell_type": "markdown",
   "metadata": {
    "colab_type": "text",
    "id": "J9Q1aIJlsbNm"
   },
   "source": [
    "**Break et continue**"
   ]
  },
  {
   "cell_type": "code",
   "execution_count": 46,
   "metadata": {},
   "outputs": [
    {
     "name": "stdout",
     "output_type": "stream",
     "text": [
      "0\n",
      "1\n",
      "2\n",
      "The end\n"
     ]
    }
   ],
   "source": [
    "for i in range(5):\n",
    "    if i == 3:\n",
    "        break\n",
    "    print(i)\n",
    "\n",
    "print(\"The end\")"
   ]
  },
  {
   "cell_type": "code",
   "execution_count": 47,
   "metadata": {},
   "outputs": [
    {
     "name": "stdout",
     "output_type": "stream",
     "text": [
      "0\n",
      "1\n",
      "2\n",
      "4\n",
      "The end\n"
     ]
    }
   ],
   "source": [
    "for i in range(5):\n",
    "    if i == 3:\n",
    "        continue\n",
    "    print(i)\n",
    "\n",
    "print(\"The end\")"
   ]
  },
  {
   "cell_type": "markdown",
   "metadata": {
    "colab_type": "text",
    "id": "UmnFuVAbsbNk"
   },
   "source": [
    "## Exercices"
   ]
  },
  {
   "cell_type": "markdown",
   "metadata": {},
   "source": [
    "- Afficher les entiers n entre 200 et 600 tels que, n est multiple de 7 et n au cube est multiple de 50"
   ]
  },
  {
   "cell_type": "code",
   "execution_count": 52,
   "metadata": {},
   "outputs": [
    {
     "name": "stdout",
     "output_type": "stream",
     "text": [
      "210\n",
      "280\n",
      "350\n",
      "420\n",
      "490\n",
      "560\n"
     ]
    }
   ],
   "source": [
    "for n in range(200, 601):\n",
    "    if (n % 7 == 0) and (n**3 % 50 == 0):\n",
    "        print(n)"
   ]
  },
  {
   "cell_type": "markdown",
   "metadata": {},
   "source": [
    "- Ecrire un code qui calcule la somme cumulative de tous les entiers paires jusqu'à ce que cette somme soit supérieure à 50."
   ]
  },
  {
   "cell_type": "code",
   "execution_count": 49,
   "metadata": {},
   "outputs": [
    {
     "name": "stdout",
     "output_type": "stream",
     "text": [
      "0\n",
      "2\n",
      "6\n",
      "12\n",
      "20\n",
      "30\n",
      "42\n",
      "56\n"
     ]
    }
   ],
   "source": [
    "# Correction 1\n",
    "somme = 0\n",
    "i = 0\n",
    "\n",
    "while somme < 50:\n",
    "    if i%2 == 0:\n",
    "        somme += i\n",
    "        print(somme)\n",
    "    \n",
    "    i+= 1"
   ]
  },
  {
   "cell_type": "code",
   "execution_count": 50,
   "metadata": {},
   "outputs": [
    {
     "name": "stdout",
     "output_type": "stream",
     "text": [
      "0\n",
      "2\n",
      "6\n",
      "12\n",
      "20\n",
      "30\n",
      "42\n",
      "56\n"
     ]
    }
   ],
   "source": [
    "# correction 2\n",
    "somme = 0\n",
    "i = 0\n",
    "\n",
    "for i in range(0, 100, 2):\n",
    "    somme += i\n",
    "    print(somme)\n",
    "    if somme > 50:\n",
    "        break"
   ]
  },
  {
   "cell_type": "markdown",
   "metadata": {},
   "source": [
    "- Ecrire un code qui affiche le résultat suivant : \n",
    "\n",
    "```\n",
    "1\n",
    "333\n",
    "55555\n",
    "7777777\n",
    "999999999\n",
    "```"
   ]
  },
  {
   "cell_type": "code",
   "execution_count": 42,
   "metadata": {
    "colab": {},
    "colab_type": "code",
    "id": "myuxrLBgsbNk"
   },
   "outputs": [
    {
     "name": "stdout",
     "output_type": "stream",
     "text": [
      "1\n",
      "333\n",
      "55555\n",
      "7777777\n",
      "999999999\n"
     ]
    }
   ],
   "source": [
    "a = 1 \n",
    "while a < 10:\n",
    "    for i in range(a):\n",
    "        if a%2 == 1 and i == a-1:\n",
    "            print(a)\n",
    "        elif a%2 == 1:\n",
    "            print(a, end='')\n",
    "    a += 1"
   ]
  },
  {
   "cell_type": "markdown",
   "metadata": {},
   "source": [
    "# Fonctions"
   ]
  },
  {
   "cell_type": "markdown",
   "metadata": {},
   "source": [
    "## Exemples de fonctions simples"
   ]
  },
  {
   "cell_type": "markdown",
   "metadata": {},
   "source": [
    "Écrivons une fonction qui permet de calculer à la racine carré d’un nombre. On l’appellera `sqrt()`"
   ]
  },
  {
   "cell_type": "code",
   "execution_count": 53,
   "metadata": {},
   "outputs": [
    {
     "data": {
      "text/plain": [
       "3.0"
      ]
     },
     "execution_count": 53,
     "metadata": {},
     "output_type": "execute_result"
    }
   ],
   "source": [
    "def sqrt(nombre):\n",
    "    nombre = nombre ** (1/2)\n",
    "    return nombre\n",
    "    \n",
    "sqrt(9)"
   ]
  },
  {
   "cell_type": "markdown",
   "metadata": {},
   "source": [
    "Les fonctions peuvent utiliser des arguments optionnels"
   ]
  },
  {
   "cell_type": "code",
   "execution_count": 58,
   "metadata": {},
   "outputs": [
    {
     "name": "stdout",
     "output_type": "stream",
     "text": [
      "9\n",
      "3.0\n",
      "27\n"
     ]
    }
   ],
   "source": [
    "def puissance(nombre, exposant=2):\n",
    "    nombre = nombre ** (exposant)\n",
    "    return nombre\n",
    "\n",
    "print(puissance(3))\n",
    "print(puissance(9, exposant = 1/2))\n",
    "print(puissance(3, 3))"
   ]
  },
  {
   "cell_type": "markdown",
   "metadata": {},
   "source": [
    "## Exercice : fonctions"
   ]
  },
  {
   "cell_type": "markdown",
   "metadata": {},
   "source": [
    "Créer une fonction PRIXTTC qui prend en entrée un prix HT et le type de produit (luxe ou normal par défaut) et qui donne en sortie le prix TTC, le prix HT et la TVA. Si le produit est un produit de luxe TVA à 33% sinon TVA à 20%"
   ]
  },
  {
   "cell_type": "code",
   "execution_count": 60,
   "metadata": {},
   "outputs": [],
   "source": [
    "def calcul_prix_ttc(prix_ht, type_tva='normal'):\n",
    "    \"\"\"\n",
    "    Retourne le prix TTC, le prix HT et la TVA à partir du type de TVA et du prix HT.\n",
    "    \"\"\"\n",
    "    if type_tva == 'luxe':\n",
    "        TVA = 0.33\n",
    "    else : TVA = 0.2\n",
    "    \n",
    "    prix_ttc = prix_ht + prix_ht * TVA\n",
    "    \n",
    "    return (prix_ttc, prix_ht, prix_ht * TVA)"
   ]
  },
  {
   "cell_type": "code",
   "execution_count": 61,
   "metadata": {},
   "outputs": [
    {
     "data": {
      "text/plain": [
       "(26.6, 20, 6.6000000000000005)"
      ]
     },
     "execution_count": 61,
     "metadata": {},
     "output_type": "execute_result"
    }
   ],
   "source": [
    "calcul_prix_ttc(20, 'luxe')"
   ]
  },
  {
   "cell_type": "markdown",
   "metadata": {},
   "source": [
    "## Les itérateurs / générateurs"
   ]
  },
  {
   "cell_type": "markdown",
   "metadata": {},
   "source": [
    "Un itérable est un objet séquentiel que l'on peut parcourir élément par élément à l'aide d'une boucle for :\n",
    "\n",
    "**for** toto in **itérable**:\n",
    "> Code\n",
    "\n",
    "Exemples d'itérables : \n",
    "```\n",
    "A = [1, 2, 3, 4, 5]\n",
    "B = range(5)\n",
    "```\n",
    "\n",
    "A et B contiennent les mêmes données. Mais la grosse différence, c'est que dans la liste A, tous les éléments sont déjà calculés et stockés en mémoire. Tandis que pour l'objet B, le calcul est effectué à la volée pour chaque itération.\n",
    "\n",
    "**C'est le principe du générateur** : une fonction qui utilise le mot-clef `yield` au lieu de `return` et qui n'est exécuté que lorsqu'elle est itérée dans une boucle `for`."
   ]
  },
  {
   "cell_type": "code",
   "execution_count": null,
   "metadata": {},
   "outputs": [],
   "source": [
    "def mon_generateur():\n",
    "    i = 40\n",
    "    while i <= 56:\n",
    "        i += 2\n",
    "        yield i"
   ]
  },
  {
   "cell_type": "markdown",
   "metadata": {},
   "source": [
    "## Exercice : les itérateurs / générateurs"
   ]
  },
  {
   "cell_type": "markdown",
   "metadata": {},
   "source": [
    "Créer un générateur infini pour la suite de Fibonacci :\n",
    "```\n",
    "Fib[0] = 0\n",
    "Fib[1] = 1\n",
    "Fib[n+2] = Fib[n] + Fib[n+1]\n",
    "```"
   ]
  },
  {
   "cell_type": "code",
   "execution_count": null,
   "metadata": {},
   "outputs": [],
   "source": [
    "def fibonacci():\n",
    "    f1 = 0\n",
    "    yield f1\n",
    "    f2 = 1\n",
    "    yield f2\n",
    "    while True:\n",
    "        f3 = f1 + f2\n",
    "        yield f3\n",
    "        f1 = f2\n",
    "        f2 = f3"
   ]
  },
  {
   "cell_type": "markdown",
   "metadata": {},
   "source": [
    "# Types de bases"
   ]
  },
  {
   "cell_type": "markdown",
   "metadata": {},
   "source": [
    "## Listes"
   ]
  },
  {
   "cell_type": "markdown",
   "metadata": {},
   "source": [
    "Les listes python sont des itérables très utilisés. Ils permettent de stocker une série d'éléments qui peuvent être de type différent."
   ]
  },
  {
   "cell_type": "markdown",
   "metadata": {},
   "source": [
    "Prenons un exemple de liste de chaînes de charactères :\n",
    "```\n",
    "[“Bonjour”, “Je”, “Christophe”, “m’appelle”]\n",
    "```"
   ]
  },
  {
   "cell_type": "markdown",
   "metadata": {},
   "source": [
    "- Stockez cette liste dans une variable qu’on appellera `Christophe`\n",
    "- Faites une boucle pour afficher chacun des items de la liste"
   ]
  },
  {
   "cell_type": "code",
   "execution_count": 75,
   "metadata": {},
   "outputs": [
    {
     "name": "stdout",
     "output_type": "stream",
     "text": [
      "Bonjour\n",
      "Je\n",
      "Christophe\n",
      "m'appelle\n"
     ]
    }
   ],
   "source": [
    "Christophe = [\"Bonjour\", \"Je\", \"Christophe\", \"m'appelle\"]\n",
    "for mot in Christophe:\n",
    "    print(mot)"
   ]
  },
  {
   "cell_type": "markdown",
   "metadata": {
    "heading_collapsed": true
   },
   "source": [
    "## Les dictionnaires"
   ]
  },
  {
   "cell_type": "markdown",
   "metadata": {
    "hidden": true
   },
   "source": [
    "```\n",
    "D = {\n",
    "    clé1 : valeur1,\n",
    "    clé2 : valeur2,\n",
    "}\n",
    "```"
   ]
  },
  {
   "cell_type": "markdown",
   "metadata": {
    "hidden": true
   },
   "source": [
    "Les dictionnaires sont des objets pouvant en contenir d'autres, à l'instar des listes. Cependant, au lieu d'héberger des informations dans un ordre précis, **ils associent chaque objet contenu à une clé** (la plupart du temps, une chaîne de caractères). Par exemple, un dictionnaire peut contenir un carnet d'adresses et on accède à chaque contact en précisant son nom."
   ]
  },
  {
   "cell_type": "markdown",
   "metadata": {
    "hidden": true
   },
   "source": [
    "- Créer un dictionnaire avec les couples clés-valeurs suivants:  \n",
    "('Batman','Robin')  \n",
    "('Harley Quinn','Poison Ivy')  \n",
    "('Iron man','War machine')  \n",
    "('Phenix','Cyclope')"
   ]
  },
  {
   "cell_type": "code",
   "execution_count": 112,
   "metadata": {
    "hidden": true
   },
   "outputs": [
    {
     "data": {
      "text/plain": [
       "{'Batman': 'Robin',\n",
       " 'Harley Quinn': 'Poison Ivy',\n",
       " 'Iron man': 'War machine',\n",
       " 'Phenix': 'Cyclope'}"
      ]
     },
     "execution_count": 112,
     "metadata": {},
     "output_type": "execute_result"
    }
   ],
   "source": [
    "dico_duo = {\n",
    "    'Batman':'Robin',\n",
    "    'Harley Quinn':'Poison Ivy',\n",
    "    'Iron man':'War machine',\n",
    "    'Phenix':'Cyclope'\n",
    "}\n",
    "dico_duo"
   ]
  },
  {
   "cell_type": "markdown",
   "metadata": {
    "hidden": true
   },
   "source": [
    "- Acceder au partenaire de `'Phenix'` en utilisant les `[]`"
   ]
  },
  {
   "cell_type": "code",
   "execution_count": 114,
   "metadata": {
    "hidden": true
   },
   "outputs": [
    {
     "data": {
      "text/plain": [
       "'Cyclope'"
      ]
     },
     "execution_count": 114,
     "metadata": {},
     "output_type": "execute_result"
    }
   ],
   "source": [
    "dico_duo['Phenix']"
   ]
  },
  {
   "cell_type": "markdown",
   "metadata": {
    "hidden": true
   },
   "source": [
    "- Remplacer la valeur associée à la clé `'Phenix'` par `'Jean Grey'`"
   ]
  },
  {
   "cell_type": "code",
   "execution_count": 115,
   "metadata": {
    "hidden": true
   },
   "outputs": [
    {
     "data": {
      "text/plain": [
       "{'Batman': 'Robin',\n",
       " 'Harley Quinn': 'Poison Ivy',\n",
       " 'Iron man': 'War machine',\n",
       " 'Phenix': 'Jean Grey'}"
      ]
     },
     "execution_count": 115,
     "metadata": {},
     "output_type": "execute_result"
    }
   ],
   "source": [
    "dico_duo['Phenix'] = 'Jean Grey'\n",
    "dico_duo"
   ]
  },
  {
   "cell_type": "markdown",
   "metadata": {
    "hidden": true
   },
   "source": [
    "- Ajouter le duo `'Ant man'` et `'the Wasp'` au dictionnaire"
   ]
  },
  {
   "cell_type": "code",
   "execution_count": 116,
   "metadata": {
    "hidden": true
   },
   "outputs": [
    {
     "data": {
      "text/plain": [
       "{'Batman': 'Robin',\n",
       " 'Harley Quinn': 'Poison Ivy',\n",
       " 'Iron man': 'War machine',\n",
       " 'Phenix': 'Jean Grey',\n",
       " 'Ant man': 'The Wasp'}"
      ]
     },
     "execution_count": 116,
     "metadata": {},
     "output_type": "execute_result"
    }
   ],
   "source": [
    "dico_duo['Ant man'] = 'The Wasp'\n",
    "dico_duo"
   ]
  },
  {
   "cell_type": "markdown",
   "metadata": {
    "heading_collapsed": true
   },
   "source": [
    "## Les tuples"
   ]
  },
  {
   "cell_type": "markdown",
   "metadata": {
    "hidden": true
   },
   "source": [
    "Les tuples sont des listes immutables, c'est-à-dire que leurs valeurs ne peuvent pas être modifiées. Leur définition se fait avec `()` et leur manipulation est similaire à celle des listes.\n",
    "\n",
    "Exemple :\n",
    "```\n",
    "foo = (1, 2, 3)\n",
    "```"
   ]
  },
  {
   "cell_type": "markdown",
   "metadata": {
    "heading_collapsed": true
   },
   "source": [
    "# Manipulations de listes"
   ]
  },
  {
   "cell_type": "markdown",
   "metadata": {
    "heading_collapsed": true,
    "hidden": true
   },
   "source": [
    "## Les basiques"
   ]
  },
  {
   "cell_type": "markdown",
   "metadata": {
    "hidden": true
   },
   "source": [
    "**`list[i]`**\n",
    "> Renvoie le ième élément de la liste. Attention, l'indexation des listes commence à 0 en python !"
   ]
  },
  {
   "cell_type": "markdown",
   "metadata": {
    "hidden": true
   },
   "source": [
    "**`len(list)`**\n",
    "> Renvoie le nombre d'éléments de la liste"
   ]
  },
  {
   "cell_type": "markdown",
   "metadata": {
    "hidden": true
   },
   "source": [
    "**`list.append(x)`**\n",
    "> Ajoute un élément à la fin de la liste ; équivalent à `a[len(a):] = [x]`."
   ]
  },
  {
   "cell_type": "markdown",
   "metadata": {
    "hidden": true
   },
   "source": [
    "**`list1 + list2`**\n",
    "> Concaténation de `list1` et `list2`"
   ]
  },
  {
   "cell_type": "markdown",
   "metadata": {
    "hidden": true
   },
   "source": [
    "**`list[ début : fin ]`**\n",
    "> Slicing classique\n",
    "\n",
    "<img src=\"ressource/slice_1.png\" style=\"height:100px\"/>"
   ]
  },
  {
   "cell_type": "markdown",
   "metadata": {
    "hidden": true
   },
   "source": [
    "**`list[-n]`**\n",
    "> Slicing négatif : nième élément en partant de la fin.\n",
    "\n",
    "<img src=\"ressource/slice_2.png\" style=\"height:180px\"/>"
   ]
  },
  {
   "cell_type": "markdown",
   "metadata": {
    "hidden": true
   },
   "source": [
    "**`list[ début : fin : s]`**\n",
    "> Slicing par pas : Tous les s éléments.\n",
    "\n",
    "<img src=\"ressource/slice_3.png\" style=\"height:110px\"/>"
   ]
  },
  {
   "cell_type": "markdown",
   "metadata": {
    "hidden": true
   },
   "source": [
    "Plus d'aide : \n",
    "https://docs.python.org/fr/3/tutorial/datastructures.html\n",
    "https://zestedesavoir.com/tutoriels/582/les-slices-en-python/"
   ]
  },
  {
   "cell_type": "markdown",
   "metadata": {
    "heading_collapsed": true,
    "hidden": true
   },
   "source": [
    "### Exercices"
   ]
  },
  {
   "cell_type": "code",
   "execution_count": 78,
   "metadata": {
    "hidden": true
   },
   "outputs": [],
   "source": [
    "Christophe = [\"Bonjour\", \"Je\", \"Christophe\", \"m'appelle\"]"
   ]
  },
  {
   "cell_type": "markdown",
   "metadata": {
    "hidden": true
   },
   "source": [
    "On a un problème avec cette phrase, deux mots sont inversés. Trouvez un moyen d’inverser le dernier item avec l’avant dernier. Un peu d'aide sur les manipulations de liste :"
   ]
  },
  {
   "cell_type": "code",
   "execution_count": 77,
   "metadata": {
    "hidden": true,
    "scrolled": true
   },
   "outputs": [
    {
     "name": "stdout",
     "output_type": "stream",
     "text": [
      "Bonjour\n",
      "Je\n",
      "Christophe\n",
      "m'appelle\n"
     ]
    }
   ],
   "source": [
    "prenom = Christophe.pop(2)\n",
    "Christophe.append(prenom)\n",
    "for mot in Christophe:\n",
    "    print(mot)"
   ]
  },
  {
   "cell_type": "markdown",
   "metadata": {
    "hidden": true
   },
   "source": [
    "Voici une liste d’âge : [12, 16, 34, 58, 9].\n",
    "\n",
    "    1. Stockez cette liste d’âge dans une variable qu’on appellera \n",
    "\n",
    "\n",
    "\n",
    "```\n",
    "age\n",
    "```\n",
    "\n",
    "\n",
    "\n",
    "    2. On aimerait que cette liste soit rangée par ordre croissant, comment faire ?"
   ]
  },
  {
   "cell_type": "code",
   "execution_count": 65,
   "metadata": {
    "hidden": true,
    "scrolled": true
   },
   "outputs": [
    {
     "name": "stdout",
     "output_type": "stream",
     "text": [
      "[9, 12, 16, 34, 58]\n"
     ]
    }
   ],
   "source": [
    "age = [12,16,34,58,9]\n",
    "ordre = age.pop(4)\n",
    "age.insert(0,ordre)\n",
    "print(age)"
   ]
  },
  {
   "cell_type": "code",
   "execution_count": 69,
   "metadata": {
    "hidden": true
   },
   "outputs": [
    {
     "name": "stdout",
     "output_type": "stream",
     "text": [
      "[9, 12, 16, 34, 58]\n"
     ]
    }
   ],
   "source": [
    "age = [12,16,34,58,9]\n",
    "age.sort()\n",
    "print(age)"
   ]
  },
  {
   "cell_type": "markdown",
   "metadata": {
    "heading_collapsed": true,
    "hidden": true
   },
   "source": [
    "### Remarque sur copy()"
   ]
  },
  {
   "cell_type": "markdown",
   "metadata": {
    "hidden": true
   },
   "source": [
    "Attardons nous maintenant sur le concept de référence. En effet, une liste python ne contient pas des éléments mais des références (adresses mémoires) vers ces éléments. C'est ce qui rend leur usage si flexible : vous pouvez avoir une liste qui contient des entiers, des strings, et même des instances de classe. \n",
    "\n",
    "Cette organisation cause souvent, chez le pythoniste débutant, un trouble existentiel. En effet :"
   ]
  },
  {
   "cell_type": "code",
   "execution_count": 129,
   "metadata": {
    "hidden": true
   },
   "outputs": [],
   "source": [
    "# Ma 1ère liste contient 1, 2, 3, 4\n",
    "list1 = [1, 2, 3, 4]"
   ]
  },
  {
   "cell_type": "code",
   "execution_count": 130,
   "metadata": {
    "hidden": true
   },
   "outputs": [],
   "source": [
    "# Je définis ma 2ème liste comme égale à la première\n",
    "list2 = list1"
   ]
  },
  {
   "cell_type": "code",
   "execution_count": 131,
   "metadata": {
    "hidden": true
   },
   "outputs": [],
   "source": [
    "# Je modifie ma première liste\n",
    "list1[0] = 10"
   ]
  },
  {
   "cell_type": "code",
   "execution_count": 138,
   "metadata": {
    "hidden": true
   },
   "outputs": [
    {
     "name": "stdout",
     "output_type": "stream",
     "text": [
      "[10, 2, 3, -10]\n",
      "Fichtre, la liste 2 a été modifiée aussi...\n"
     ]
    }
   ],
   "source": [
    "print(list2)\n",
    "print('Fichtre, la liste 2 a été modifiée aussi...')"
   ]
  },
  {
   "cell_type": "code",
   "execution_count": 139,
   "metadata": {
    "hidden": true
   },
   "outputs": [
    {
     "name": "stdout",
     "output_type": "stream",
     "text": [
      "[10, 2, 3, -10]\n",
      "Diantre, la liste 1 a été modifiée aussi...\n"
     ]
    }
   ],
   "source": [
    "# Et maintenant si je modifie la liste 2\n",
    "list2[-1] = -10\n",
    "print(list1)\n",
    "print('Diantre, la liste 1 a été modifiée aussi...')"
   ]
  },
  {
   "cell_type": "markdown",
   "metadata": {
    "hidden": true
   },
   "source": [
    "Lorsque vous executez `list2 = list1`, vous stockez dans la variable `list2`les références vers les objets de `list1`. De fait, lorsque vous modifiez les objets eux-mêmes, les références de `list1`et de `list2` pointent toutes les deux vers les nouveaux objets. \n",
    "\n",
    "**Pour pallier à ce problème, on peut utiliser la fonction `copy()`**\n",
    "https://docs.python.org/3/library/copy.html"
   ]
  },
  {
   "cell_type": "code",
   "execution_count": 141,
   "metadata": {
    "hidden": true
   },
   "outputs": [
    {
     "name": "stdout",
     "output_type": "stream",
     "text": [
      "list1 [10, 2, 3, 4]\n",
      "list2 [1, 2, 3, -10]\n"
     ]
    }
   ],
   "source": [
    "list1 = [1, 2, 3, 4]\n",
    "list2 = list1.copy()\n",
    "list1[0] = 10\n",
    "list2[-1] = -10\n",
    "print('list1', list1)\n",
    "print('list2', list2)"
   ]
  },
  {
   "cell_type": "markdown",
   "metadata": {
    "hidden": true
   },
   "source": [
    "## Compréhension de liste"
   ]
  },
  {
   "cell_type": "markdown",
   "metadata": {
    "hidden": true
   },
   "source": [
    "### Synthaxe"
   ]
  },
  {
   "cell_type": "markdown",
   "metadata": {
    "hidden": true
   },
   "source": [
    "**`list2 = [n*2 for n in list1]`**\n",
    "\n",
    "> `list2` contient chaque élément de `list1` multiplié par 2."
   ]
  },
  {
   "cell_type": "markdown",
   "metadata": {
    "hidden": true
   },
   "source": [
    "La compréhension de liste est une expression qui permet de construire une liste à partir de tout autre type itérable (liste, tuple, chaîne de caractères…) en une ligne. Le résultat obtenu est toujours une liste."
   ]
  },
  {
   "cell_type": "markdown",
   "metadata": {
    "hidden": true
   },
   "source": [
    "### Exercice"
   ]
  },
  {
   "cell_type": "markdown",
   "metadata": {
    "hidden": true
   },
   "source": [
    "- Calculez les carrés des entiers de 1 à 10"
   ]
  },
  {
   "cell_type": "code",
   "execution_count": 105,
   "metadata": {
    "hidden": true
   },
   "outputs": [
    {
     "data": {
      "text/plain": [
       "[1, 4, 9, 16, 25, 36, 49, 64, 81, 100]"
      ]
     },
     "execution_count": 105,
     "metadata": {},
     "output_type": "execute_result"
    }
   ],
   "source": [
    "[ n**2 for n in range(1,11) ]"
   ]
  },
  {
   "cell_type": "markdown",
   "metadata": {
    "hidden": true
   },
   "source": [
    "- Maintenant calculez leur somme en utilisant la fonction `sum``"
   ]
  },
  {
   "cell_type": "code",
   "execution_count": 106,
   "metadata": {
    "hidden": true,
    "scrolled": true
   },
   "outputs": [
    {
     "data": {
      "text/plain": [
       "385"
      ]
     },
     "execution_count": 106,
     "metadata": {},
     "output_type": "execute_result"
    }
   ],
   "source": [
    "sum( [ n**2 for n in range(1,11) ] )"
   ]
  },
  {
   "cell_type": "markdown",
   "metadata": {
    "hidden": true
   },
   "source": [
    "### Condition"
   ]
  },
  {
   "cell_type": "markdown",
   "metadata": {
    "hidden": true
   },
   "source": [
    "Les compréhensions de liste peuvent aussi impliquer une condition **`if`**"
   ]
  },
  {
   "cell_type": "code",
   "execution_count": 101,
   "metadata": {
    "hidden": true
   },
   "outputs": [
    {
     "data": {
      "text/plain": [
       "[0, 2, 4, 6, 8, 10, 12, 14, 16, 18]"
      ]
     },
     "execution_count": 101,
     "metadata": {},
     "output_type": "execute_result"
    }
   ],
   "source": [
    "[entier for entier in range(20) if entier%2==0]"
   ]
  },
  {
   "cell_type": "markdown",
   "metadata": {
    "hidden": true
   },
   "source": [
    "### Exercice"
   ]
  },
  {
   "cell_type": "markdown",
   "metadata": {
    "hidden": true
   },
   "source": [
    "- Décrire en compréhension la liste des nombres inférieurs à 20 qui sont multiples, ou bien de 5, ou bien de 7."
   ]
  },
  {
   "cell_type": "code",
   "execution_count": 107,
   "metadata": {
    "hidden": true
   },
   "outputs": [
    {
     "data": {
      "text/plain": [
       "[0, 5, 7, 10, 14, 15]"
      ]
     },
     "execution_count": 107,
     "metadata": {},
     "output_type": "execute_result"
    }
   ],
   "source": [
    "[n for n in range(20) if n%5==0 or n%7==0]"
   ]
  },
  {
   "cell_type": "markdown",
   "metadata": {
    "hidden": true
   },
   "source": [
    "- Même exercice pour les nombres multiples de 5 ou de 7 mais pas de 15."
   ]
  },
  {
   "cell_type": "code",
   "execution_count": 108,
   "metadata": {
    "hidden": true
   },
   "outputs": [
    {
     "data": {
      "text/plain": [
       "[5, 7, 10, 14]"
      ]
     },
     "execution_count": 108,
     "metadata": {},
     "output_type": "execute_result"
    }
   ],
   "source": [
    "[n for n in range(20) if (n%5==0 or n%7==0) and n%15!=0]"
   ]
  },
  {
   "cell_type": "markdown",
   "metadata": {
    "heading_collapsed": true
   },
   "source": [
    "# Manipulations de tuples"
   ]
  },
  {
   "cell_type": "markdown",
   "metadata": {
    "hidden": true
   },
   "source": [
    "- Créer un tuple de 1 à 5"
   ]
  },
  {
   "cell_type": "code",
   "execution_count": 1,
   "metadata": {
    "hidden": true
   },
   "outputs": [],
   "source": [
    "t = (1,2,3,4,5)"
   ]
  },
  {
   "cell_type": "markdown",
   "metadata": {
    "hidden": true
   },
   "source": [
    " - Accéder au chiffre 2 "
   ]
  },
  {
   "cell_type": "code",
   "execution_count": 2,
   "metadata": {
    "hidden": true
   },
   "outputs": [
    {
     "data": {
      "text/plain": [
       "2"
      ]
     },
     "execution_count": 2,
     "metadata": {},
     "output_type": "execute_result"
    }
   ],
   "source": [
    "t[1]"
   ]
  },
  {
   "cell_type": "markdown",
   "metadata": {
    "hidden": true
   },
   "source": [
    "- Récupérer les valeurs allant de 1 à 3"
   ]
  },
  {
   "cell_type": "code",
   "execution_count": 3,
   "metadata": {
    "hidden": true
   },
   "outputs": [
    {
     "data": {
      "text/plain": [
       "(1, 2, 3)"
      ]
     },
     "execution_count": 3,
     "metadata": {},
     "output_type": "execute_result"
    }
   ],
   "source": [
    "t[0:3]"
   ]
  },
  {
   "cell_type": "markdown",
   "metadata": {
    "hidden": true
   },
   "source": [
    "- Manipulation de tuple"
   ]
  },
  {
   "cell_type": "code",
   "execution_count": 117,
   "metadata": {
    "hidden": true
   },
   "outputs": [],
   "source": [
    "t1 = (1, 2, 3)\n",
    "t2 = (4, 5, 6)\n",
    "t3 = (2, 4, 6)"
   ]
  },
  {
   "cell_type": "markdown",
   "metadata": {
    "hidden": true
   },
   "source": [
    "- Concatener les tuples t1 avec t3 et appeler le t4"
   ]
  },
  {
   "cell_type": "code",
   "execution_count": 5,
   "metadata": {
    "hidden": true
   },
   "outputs": [],
   "source": [
    "t4 = t1+t3"
   ]
  },
  {
   "cell_type": "markdown",
   "metadata": {
    "hidden": true
   },
   "source": [
    "- Créer un tuple de tuple t24 contenant t2 et t4"
   ]
  },
  {
   "cell_type": "code",
   "execution_count": 6,
   "metadata": {
    "hidden": true
   },
   "outputs": [],
   "source": [
    "t24 = (t2, t4)"
   ]
  },
  {
   "cell_type": "markdown",
   "metadata": {
    "hidden": true
   },
   "source": [
    "- Afficher la 4e valeur du 2e tuple de t24"
   ]
  },
  {
   "cell_type": "code",
   "execution_count": 7,
   "metadata": {
    "hidden": true
   },
   "outputs": [
    {
     "data": {
      "text/plain": [
       "2"
      ]
     },
     "execution_count": 7,
     "metadata": {},
     "output_type": "execute_result"
    }
   ],
   "source": [
    "t24[1][3]"
   ]
  },
  {
   "cell_type": "markdown",
   "metadata": {},
   "source": [
    "# Manipulations de string"
   ]
  },
  {
   "cell_type": "markdown",
   "metadata": {},
   "source": [
    "En python, les chaines de charactères (strings) sont manipulables comme des listes contenant des charactères. "
   ]
  },
  {
   "cell_type": "markdown",
   "metadata": {},
   "source": [
    "# Manipulation de dictionnaires"
   ]
  },
  {
   "cell_type": "markdown",
   "metadata": {},
   "source": [
    "**`for k in dict:`**\n",
    "\n",
    "> Lorsqu'on itère sur un dictionnaire, on incrémente la clé. Pour obtenir la valeur, il suffit de faire `dict[k]` dans la boucle."
   ]
  },
  {
   "cell_type": "markdown",
   "metadata": {},
   "source": [
    "**`dict.items()`**\n",
    "\n",
    "> La fonction `items()` renvoie les couples (clé, valeur) du dictionnaire. Il est possible d'itérer dessus de la manière suivante : `for k,v in dict.items()`"
   ]
  },
  {
   "cell_type": "markdown",
   "metadata": {},
   "source": [
    "**`dict.values()`**\n",
    "\n",
    "> La fonction `values()` renvoie les valeurs du dictionnaire."
   ]
  },
  {
   "cell_type": "code",
   "execution_count": 126,
   "metadata": {},
   "outputs": [],
   "source": [
    "d = {'nom': 'Dupuis', 'prenom': 'Jacques', 'age': 30}"
   ]
  },
  {
   "cell_type": "code",
   "execution_count": null,
   "metadata": {},
   "outputs": [],
   "source": []
  },
  {
   "cell_type": "markdown",
   "metadata": {},
   "source": [
    "# Packages"
   ]
  },
  {
   "cell_type": "markdown",
   "metadata": {},
   "source": [
    "# Numpy"
   ]
  },
  {
   "cell_type": "code",
   "execution_count": 17,
   "metadata": {
    "colab": {},
    "colab_type": "code",
    "id": "2Tt0XRDRsbMm"
   },
   "outputs": [],
   "source": [
    "import numpy as np"
   ]
  },
  {
   "cell_type": "markdown",
   "metadata": {},
   "source": [
    "## Manipulation de vecteur"
   ]
  },
  {
   "cell_type": "code",
   "execution_count": 26,
   "metadata": {},
   "outputs": [],
   "source": [
    "D = np.array([1, 8, 5, 4, 6, 2, 0, 9, 7, 3])\n",
    "med = np.array([2, 5, 3])"
   ]
  },
  {
   "cell_type": "markdown",
   "metadata": {},
   "source": [
    "### Verifier le type des données\n",
    "Contenues dans le vecteur D"
   ]
  },
  {
   "cell_type": "code",
   "execution_count": 19,
   "metadata": {},
   "outputs": [
    {
     "data": {
      "text/plain": [
       "numpy.ndarray"
      ]
     },
     "execution_count": 19,
     "metadata": {},
     "output_type": "execute_result"
    }
   ],
   "source": [
    "type(D)"
   ]
  },
  {
   "cell_type": "code",
   "execution_count": 20,
   "metadata": {},
   "outputs": [
    {
     "data": {
      "text/plain": [
       "dtype('int64')"
      ]
     },
     "execution_count": 20,
     "metadata": {},
     "output_type": "execute_result"
    }
   ],
   "source": [
    "D.dtype"
   ]
  },
  {
   "cell_type": "markdown",
   "metadata": {},
   "source": [
    "### Maintenant que ce type est connu, extraire les valeurs stockées sur les indices impairs\n",
    "Toujours avec le vecteur D"
   ]
  },
  {
   "cell_type": "code",
   "execution_count": 21,
   "metadata": {},
   "outputs": [
    {
     "data": {
      "text/plain": [
       "array([1, 8, 5, 4, 6, 2, 0, 9, 7, 3])"
      ]
     },
     "execution_count": 21,
     "metadata": {},
     "output_type": "execute_result"
    }
   ],
   "source": [
    "D"
   ]
  },
  {
   "cell_type": "code",
   "execution_count": 22,
   "metadata": {},
   "outputs": [
    {
     "data": {
      "text/plain": [
       "array([8, 4, 2, 9, 3])"
      ]
     },
     "execution_count": 22,
     "metadata": {},
     "output_type": "execute_result"
    }
   ],
   "source": [
    "D[1::2]"
   ]
  },
  {
   "cell_type": "code",
   "execution_count": 23,
   "metadata": {},
   "outputs": [],
   "source": [
    "D_impair = np.array([])\n",
    "for i in range(len(D)):\n",
    "    if i%2 == 1:\n",
    "        D_impair = np.append(D_impair, D[i])"
   ]
  },
  {
   "cell_type": "code",
   "execution_count": 24,
   "metadata": {},
   "outputs": [
    {
     "data": {
      "text/plain": [
       "array([8, 4, 2, 9, 3])"
      ]
     },
     "execution_count": 24,
     "metadata": {},
     "output_type": "execute_result"
    }
   ],
   "source": [
    "D_impair.astype(int)"
   ]
  },
  {
   "cell_type": "markdown",
   "metadata": {},
   "source": [
    "### Récupérer la médiane du vecteur des indices impairs"
   ]
  },
  {
   "cell_type": "code",
   "execution_count": 25,
   "metadata": {},
   "outputs": [],
   "source": [
    "med_d = np.median(D_impair)"
   ]
  },
  {
   "cell_type": "markdown",
   "metadata": {},
   "source": [
    "### Ajouter cette valeur à la fin du vecteur med"
   ]
  },
  {
   "cell_type": "code",
   "execution_count": 27,
   "metadata": {},
   "outputs": [],
   "source": [
    "med = np.append(med, med_d)"
   ]
  },
  {
   "cell_type": "code",
   "execution_count": 28,
   "metadata": {},
   "outputs": [
    {
     "data": {
      "text/plain": [
       "array([2, 5, 3, 4])"
      ]
     },
     "execution_count": 28,
     "metadata": {},
     "output_type": "execute_result"
    }
   ],
   "source": [
    "med.astype(int)"
   ]
  },
  {
   "cell_type": "markdown",
   "metadata": {},
   "source": [
    "### Identifier l'id client qui a le plus depensé\n",
    "A titre d'information, le 3e éléments du vecteur depense_client correspond à la somme dépensée par l'id client en 3e position dans le vecteur id_client"
   ]
  },
  {
   "cell_type": "code",
   "execution_count": 29,
   "metadata": {},
   "outputs": [],
   "source": [
    "id_client = np.array([31,  5, 38, 68, 86, 98, 72, 23, 51, 66, 36, 33, 92, 69, 29])\n",
    "depense_client = np.array([297.24, 208.66, 166.67,  335.62, 140.21, 286.48,  88.94,  46.04,\n",
    "        86.18, 274.38, 169.32, 173.11, 273.64, 239.18,  40.3 ])"
   ]
  },
  {
   "cell_type": "code",
   "execution_count": 30,
   "metadata": {},
   "outputs": [
    {
     "data": {
      "text/plain": [
       "3"
      ]
     },
     "execution_count": 30,
     "metadata": {},
     "output_type": "execute_result"
    }
   ],
   "source": [
    "index_max = np.argmax(depense_client)\n",
    "index_max"
   ]
  },
  {
   "cell_type": "code",
   "execution_count": 31,
   "metadata": {},
   "outputs": [
    {
     "data": {
      "text/plain": [
       "68"
      ]
     },
     "execution_count": 31,
     "metadata": {},
     "output_type": "execute_result"
    }
   ],
   "source": [
    "id_client[index_max]"
   ]
  },
  {
   "cell_type": "markdown",
   "metadata": {},
   "source": [
    "### Trier les vecteurs id_client et depense_client par somme dépensée décroissante"
   ]
  },
  {
   "cell_type": "code",
   "execution_count": 32,
   "metadata": {},
   "outputs": [],
   "source": [
    "tri = np.argsort(depense_client)\n",
    "tri_invers = tri[::-1]"
   ]
  },
  {
   "cell_type": "code",
   "execution_count": 33,
   "metadata": {},
   "outputs": [
    {
     "data": {
      "text/plain": [
       "array([68, 31, 98, 66, 92, 69,  5, 33, 36, 38, 86, 72, 51, 23, 29])"
      ]
     },
     "execution_count": 33,
     "metadata": {},
     "output_type": "execute_result"
    }
   ],
   "source": [
    "id_client[tri_invers]"
   ]
  },
  {
   "cell_type": "code",
   "execution_count": 34,
   "metadata": {},
   "outputs": [
    {
     "data": {
      "text/plain": [
       "array([335.62, 297.24, 286.48, 274.38, 273.64, 239.18, 208.66, 173.11,\n",
       "       169.32, 166.67, 140.21,  88.94,  86.18,  46.04,  40.3 ])"
      ]
     },
     "execution_count": 34,
     "metadata": {},
     "output_type": "execute_result"
    }
   ],
   "source": [
    "depense_client[tri_invers]"
   ]
  },
  {
   "cell_type": "markdown",
   "metadata": {},
   "source": [
    "### Générer un array de 30 entiers aléatoirement entre 1 et 12"
   ]
  },
  {
   "cell_type": "markdown",
   "metadata": {},
   "source": [
    "### Générer un array de 30 flotants aléatoirements entre 0 et 50 avec deux chiffres après la virgule"
   ]
  },
  {
   "cell_type": "code",
   "execution_count": 153,
   "metadata": {},
   "outputs": [
    {
     "data": {
      "text/plain": [
       "array([39.21, 30.14, 34.66,  3.73, 17.72, 25.77, 21.87, 38.38,  9.54,\n",
       "       29.47, 42.02, 11.46, 13.92, 24.16,  8.75, 23.69, 11.99, 23.21,\n",
       "       22.01, 26.54, 34.43, 20.67, 41.9 , 35.54,  5.77, 11.33, 36.08,\n",
       "       13.24, 14.48, 20.03])"
      ]
     },
     "execution_count": 153,
     "metadata": {},
     "output_type": "execute_result"
    }
   ],
   "source": [
    "np.round((np.random.random(30)*50), 2)"
   ]
  },
  {
   "cell_type": "code",
   "execution_count": 83,
   "metadata": {},
   "outputs": [
    {
     "data": {
      "text/plain": [
       "array([ 9,  9,  7, 12,  3, 12,  9,  8,  3,  2, 12,  6, 11,  5,  5,  6,  8,\n",
       "        4,  7,  5, 11, 12,  4,  8,  7, 11,  2, 11,  4,  6])"
      ]
     },
     "execution_count": 83,
     "metadata": {},
     "output_type": "execute_result"
    }
   ],
   "source": [
    "### Générer un array de 30 flotants aléatoirements entre 0 et 50 avec deux chiffres après la virgule\n",
    "\n",
    "np.round((np.random.random(30)*50), 2)np.random.seed(2)\n",
    "(np.random.randint(1, 13, 30))"
   ]
  },
  {
   "cell_type": "markdown",
   "metadata": {},
   "source": [
    "## Part 2 matrice"
   ]
  },
  {
   "cell_type": "markdown",
   "metadata": {},
   "source": [
    "### Travail de modelage\n"
   ]
  },
  {
   "cell_type": "code",
   "execution_count": 155,
   "metadata": {},
   "outputs": [],
   "source": [
    "coefficient = np.array(\n",
    "    [[-1.01324867,  1.1871035 , -1.65190239, -1.58638258],\n",
    "     [ 0.50434212, -0.72520265, -0.27197777, -0.8131409 ],\n",
    "     [ 0.50890656, -0.46190086,  1.92388016,  2.39952348]])\n",
    "famille = ['setosa', 'versicolor', 'virginica']\n",
    "variable = ['sepal length (cm)', 'sepal width (cm)', 'petal length (cm)', 'petal width (cm)']"
   ]
  },
  {
   "cell_type": "markdown",
   "metadata": {},
   "source": [
    "Dans la matrice coefficient, Chaque ligne correspond à une famille d'iris, et chaque colonne à une variable. L'objectif est de créer le tableau suivant.\n"
   ]
  },
  {
   "cell_type": "markdown",
   "metadata": {},
   "source": [
    "Fonctions de numpy pertinentes: ravel, tile, repeat, transpose, array"
   ]
  },
  {
   "cell_type": "code",
   "execution_count": 159,
   "metadata": {},
   "outputs": [],
   "source": [
    "coefficient = np.array(coefficient)\n",
    "famille = np.array(famille)\n",
    "variable = np.array(variable)"
   ]
  },
  {
   "cell_type": "code",
   "execution_count": 160,
   "metadata": {},
   "outputs": [
    {
     "data": {
      "text/plain": [
       "array(['sepal length (cm)', 'sepal width (cm)', 'petal length (cm)',\n",
       "       'petal width (cm)', 'sepal length (cm)', 'sepal width (cm)',\n",
       "       'petal length (cm)', 'petal width (cm)', 'sepal length (cm)',\n",
       "       'sepal width (cm)', 'petal length (cm)', 'petal width (cm)'],\n",
       "      dtype='<U17')"
      ]
     },
     "execution_count": 160,
     "metadata": {},
     "output_type": "execute_result"
    }
   ],
   "source": [
    "coefficient.ravel()\n",
    "np.repeat(famille, 4)\n",
    "np.tile(variable, 3)"
   ]
  },
  {
   "cell_type": "code",
   "execution_count": 163,
   "metadata": {},
   "outputs": [
    {
     "data": {
      "text/plain": [
       "array([['-1.01324867', 'setosa', 'sepal length (cm)'],\n",
       "       ['1.1871035', 'setosa', 'sepal width (cm)'],\n",
       "       ['-1.65190239', 'setosa', 'petal length (cm)'],\n",
       "       ['-1.58638258', 'setosa', 'petal width (cm)'],\n",
       "       ['0.50434212', 'versicolor', 'sepal length (cm)'],\n",
       "       ['-0.72520265', 'versicolor', 'sepal width (cm)'],\n",
       "       ['-0.27197777', 'versicolor', 'petal length (cm)'],\n",
       "       ['-0.8131409', 'versicolor', 'petal width (cm)'],\n",
       "       ['0.50890656', 'virginica', 'sepal length (cm)'],\n",
       "       ['-0.46190086', 'virginica', 'sepal width (cm)'],\n",
       "       ['1.92388016', 'virginica', 'petal length (cm)'],\n",
       "       ['2.39952348', 'virginica', 'petal width (cm)']], dtype='<U32')"
      ]
     },
     "execution_count": 163,
     "metadata": {},
     "output_type": "execute_result"
    }
   ],
   "source": [
    "np.array([coefficient.ravel(), \n",
    "          np.repeat(famille, 4), \n",
    "          np.tile(variable, 3)]).T"
   ]
  },
  {
   "cell_type": "code",
   "execution_count": null,
   "metadata": {},
   "outputs": [],
   "source": [
    "# Objectif\n",
    "np.array([['-1.0132486724005245', 'sepal length (cm)', 'setosa'],\n",
    "       ['1.1871035025418413', 'sepal width (cm)', 'setosa'],\n",
    "       ['-1.6519023926009897', 'petal length (cm)', 'setosa'],\n",
    "       ['-1.5863825821769832', 'petal width (cm)', 'setosa'],\n",
    "       ['0.5043421152883055', 'sepal length (cm)', 'versicolor'],\n",
    "       ['-0.7252026471041335', 'sepal width (cm)', 'versicolor'],\n",
    "       ['-0.27197777085733216', 'petal length (cm)', 'versicolor'],\n",
    "       ['-0.8131408997489712', 'petal width (cm)', 'versicolor'],\n",
    "       ['0.5089065571122178', 'sepal length (cm)', 'virginica'],\n",
    "       ['-0.4619008554377047', 'sepal width (cm)', 'virginica'],\n",
    "       ['1.9238801634583182', 'petal length (cm)', 'virginica'],\n",
    "       ['2.399523481925951', 'petal width (cm)', 'virginica']])"
   ]
  },
  {
   "cell_type": "markdown",
   "metadata": {},
   "source": [
    "# try except"
   ]
  }
 ],
 "metadata": {
  "colab": {
   "name": "dsmft-lyon-02_S1-1 Conditions et boucles .ipynb",
   "provenance": []
  },
  "kernelspec": {
   "display_name": "Python 3",
   "language": "python",
   "name": "python3"
  },
  "language_info": {
   "codemirror_mode": {
    "name": "ipython",
    "version": 3
   },
   "file_extension": ".py",
   "mimetype": "text/x-python",
   "name": "python",
   "nbconvert_exporter": "python",
   "pygments_lexer": "ipython3",
   "version": "3.7.7"
  },
  "toc": {
   "base_numbering": 1,
   "nav_menu": {},
   "number_sections": true,
   "sideBar": true,
   "skip_h1_title": false,
   "title_cell": "Table of Contents",
   "title_sidebar": "Contents",
   "toc_cell": false,
   "toc_position": {},
   "toc_section_display": true,
   "toc_window_display": false
  }
 },
 "nbformat": 4,
 "nbformat_minor": 1
}
