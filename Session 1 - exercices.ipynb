{
 "cells": [
  {
   "cell_type": "code",
   "execution_count": 0,
   "metadata": {
    "colab": {},
    "colab_type": "code",
    "id": "TeadjsMhsbLp"
   },
   "outputs": [],
   "source": [
    "print('Bonjour à tous')"
   ]
  },
  {
   "cell_type": "markdown",
   "metadata": {},
   "source": [
    "- Contexte (principes généraux du langage, IDE, chez nous)\n",
    "- Prise en main (print('Hello world') dans un notebook Jupyter)\n",
    "- Les boucles (indentation, indexation depuis 0, for, if, while, return, break)\n",
    "- Les fonctions\n",
    "- Les types de base (string, lists, tuples, dicts, bool)\n",
    "- La manipulation de listes (indexing, append, comprehension lists , map, filter, reduce, lambda expression)\n",
    "- La manipulation de strings (concaténation, indexation, formattage)\n",
    "- La manipulation de dictionnaires (création, ajout d’un élément, boucle, items)\n",
    "- Les packages (import, from, as)\n",
    "- Numpy (opérations de base)\n",
    "- Optionnel : try/except, classes"
   ]
  },
  {
   "cell_type": "markdown",
   "metadata": {},
   "source": [
    "# IDE"
   ]
  },
  {
   "cell_type": "markdown",
   "metadata": {},
   "source": [
    "A la base, python est un langage de programmation. Il est donc possible de l'utiliser dans un IDE traditionnel comme Visual Studio Code, PyCharm... \n",
    "\n",
    "L'usage de python pour la data science nécessite cependant une certaine agilité car beaucoup d'études exploratoires sont plus accées sur la rapidité d'obtention des premiers résultats que sur la scalabilité ou la robustesse. Aussi, jupyter propose un environnement simple dans lequel on peut programmer, organiser et visualiser les résultats rapidement, comme les notebooks R studio. "
   ]
  },
  {
   "cell_type": "markdown",
   "metadata": {},
   "source": [
    "- Pour commencer à prendre en main l'interface, cliquez sur le menu\n",
    "\n",
    "`Aide` -> `Visite de l'interface utilisateur`"
   ]
  },
  {
   "cell_type": "markdown",
   "metadata": {},
   "source": [
    "- Pour commencer à vous familiariser avec les raccourcis clavier, cliquez sur\n",
    "\n",
    "`Aide` -> `Raccourcis clavier`"
   ]
  },
  {
   "cell_type": "markdown",
   "metadata": {},
   "source": [
    "- Pour exécuter les cellules suivantes, appuyez sur les touches `Maj+Entr`.\n",
    "\n",
    "Contrairement à R studio, vous ne pouvez pas exécuter une seule ligne à la fois. Mais n'éhistez pas à créer des cellules d'une seule ligne si nécessaire (avec les raccourcis `B` et `A` par exemple) puis les supprimer (avec `X`) ou les merger (avec `M`)"
   ]
  },
  {
   "cell_type": "markdown",
   "metadata": {},
   "source": [
    "# Opérateurs"
   ]
  },
  {
   "cell_type": "markdown",
   "metadata": {},
   "source": [
    "**Les opérateurs sont identiques en R et en Python...**\n",
    "\n",
    "... a part l'assignation `<-` qui devient `=`.\n",
    "\n",
    "Python est un langage conçu pour être simple et compréhensible. Les opérations logiques sont donc simplement écrites en anglais : \n",
    "- `!x` en R devient `not x` en python\n",
    "- `x | y` en R devient`x or y` en python\n",
    "- `x & y` en R devient `x or y` en python"
   ]
  },
  {
   "cell_type": "markdown",
   "metadata": {},
   "source": [
    "Stockez les valeurs 2 et 5 dans deux variables nommée respectivement a et b. "
   ]
  },
  {
   "cell_type": "code",
   "execution_count": 2,
   "metadata": {},
   "outputs": [],
   "source": [
    "a = 2\n",
    "b = 5"
   ]
  },
  {
   "cell_type": "markdown",
   "metadata": {},
   "source": [
    "Effectuez quelques tests sur ces variables : \n",
    "- Est-ce que a est égal à b ? \n",
    "- Est-ce que a est inférieur b ?\n",
    "- Est-ce que a est inférieur ou égal à b et est-ce que b est inférieur à 6 ?"
   ]
  },
  {
   "cell_type": "code",
   "execution_count": 3,
   "metadata": {},
   "outputs": [
    {
     "data": {
      "text/plain": [
       "False"
      ]
     },
     "execution_count": 3,
     "metadata": {},
     "output_type": "execute_result"
    }
   ],
   "source": [
    "a == b"
   ]
  },
  {
   "cell_type": "code",
   "execution_count": 4,
   "metadata": {},
   "outputs": [
    {
     "data": {
      "text/plain": [
       "True"
      ]
     },
     "execution_count": 4,
     "metadata": {},
     "output_type": "execute_result"
    }
   ],
   "source": [
    "a < b"
   ]
  },
  {
   "cell_type": "code",
   "execution_count": 5,
   "metadata": {},
   "outputs": [
    {
     "data": {
      "text/plain": [
       "True"
      ]
     },
     "execution_count": 5,
     "metadata": {},
     "output_type": "execute_result"
    }
   ],
   "source": [
    "a <= b and b < 6"
   ]
  },
  {
   "cell_type": "markdown",
   "metadata": {},
   "source": [
    "Page de référence : https://www.tutorialspoint.com/python/python_basic_operators.htm"
   ]
  },
  {
   "cell_type": "markdown",
   "metadata": {},
   "source": [
    "# Boucles\n",
    "En python, les **espaces et tabulations** en début de ligne font partie de la synthaxe. Ce sont notamment elles qui déterminent à quel niveau de boucle se trouve la ligne en question."
   ]
  },
  {
   "cell_type": "markdown",
   "metadata": {},
   "source": [
    "## Exemples de boucles"
   ]
  },
  {
   "cell_type": "code",
   "execution_count": 18,
   "metadata": {},
   "outputs": [],
   "source": [
    "a = 3"
   ]
  },
  {
   "cell_type": "markdown",
   "metadata": {},
   "source": [
    "**Boucle if + condition**"
   ]
  },
  {
   "cell_type": "code",
   "execution_count": 19,
   "metadata": {
    "colab": {},
    "colab_type": "code",
    "id": "HAmMoh51sbNK"
   },
   "outputs": [],
   "source": [
    "if a > 3:\n",
    "    print(\"a est plus grand que 3\")"
   ]
  },
  {
   "cell_type": "markdown",
   "metadata": {
    "colab_type": "text",
    "id": "l6PVg8NXsbNO"
   },
   "source": [
    "**Else**"
   ]
  },
  {
   "cell_type": "code",
   "execution_count": 20,
   "metadata": {
    "colab": {},
    "colab_type": "code",
    "id": "B1ZuPrZ8sbNP"
   },
   "outputs": [
    {
     "name": "stdout",
     "output_type": "stream",
     "text": [
      "a est plus petit que 3\n"
     ]
    }
   ],
   "source": [
    "if a > 3:\n",
    "    print(\"a est plus grand que 3\")\n",
    "else : \n",
    "    print(\"a est plus petit que 3\")"
   ]
  },
  {
   "cell_type": "markdown",
   "metadata": {
    "colab_type": "text",
    "id": "PdetzNX4sbNT"
   },
   "source": [
    "**Elif**"
   ]
  },
  {
   "cell_type": "code",
   "execution_count": 21,
   "metadata": {
    "colab": {},
    "colab_type": "code",
    "id": "aOAcQ_Z8sbNV",
    "scrolled": true
   },
   "outputs": [
    {
     "name": "stdout",
     "output_type": "stream",
     "text": [
      "a est égal à 3\n"
     ]
    }
   ],
   "source": [
    "if a > 3:\n",
    "    print(\"a est plus grand que 3\")\n",
    "elif a == 3:\n",
    "    print(\"a est égal à 3\")\n",
    "elif a >= 3:\n",
    "    print(\"a est supérieur ou égal à 3\")\n",
    "else : \n",
    "    print(\"a est plus petit que 3\")"
   ]
  },
  {
   "cell_type": "markdown",
   "metadata": {
    "colab_type": "text",
    "id": "h8a6NqppsbNX"
   },
   "source": [
    "**Boucle while**"
   ]
  },
  {
   "cell_type": "code",
   "execution_count": 27,
   "metadata": {
    "colab": {},
    "colab_type": "code",
    "id": "SXxu7Y-EsbNY"
   },
   "outputs": [
    {
     "name": "stdout",
     "output_type": "stream",
     "text": [
      "0\n",
      "1\n",
      "2\n",
      "3\n",
      "4\n"
     ]
    }
   ],
   "source": [
    "a = 0\n",
    "while a < 5:\n",
    "    print(a)\n",
    "    a += 1"
   ]
  },
  {
   "cell_type": "markdown",
   "metadata": {
    "colab_type": "text",
    "id": "gd66Av0RsbNf"
   },
   "source": [
    "**Boucle for**"
   ]
  },
  {
   "cell_type": "code",
   "execution_count": 29,
   "metadata": {
    "colab": {},
    "colab_type": "code",
    "id": "XsfwMMWIsbNg"
   },
   "outputs": [
    {
     "name": "stdout",
     "output_type": "stream",
     "text": [
      "0\n",
      "1\n",
      "2\n",
      "3\n",
      "4\n"
     ]
    }
   ],
   "source": [
    "for i in range(5):\n",
    "    print(i)"
   ]
  },
  {
   "cell_type": "markdown",
   "metadata": {
    "colab_type": "text",
    "id": "J9Q1aIJlsbNm"
   },
   "source": [
    "**Break et continue**"
   ]
  },
  {
   "cell_type": "code",
   "execution_count": 46,
   "metadata": {},
   "outputs": [
    {
     "name": "stdout",
     "output_type": "stream",
     "text": [
      "0\n",
      "1\n",
      "2\n",
      "The end\n"
     ]
    }
   ],
   "source": [
    "for i in range(5):\n",
    "    if i == 3:\n",
    "        break\n",
    "    print(i)\n",
    "\n",
    "print(\"The end\")"
   ]
  },
  {
   "cell_type": "code",
   "execution_count": 47,
   "metadata": {},
   "outputs": [
    {
     "name": "stdout",
     "output_type": "stream",
     "text": [
      "0\n",
      "1\n",
      "2\n",
      "4\n",
      "The end\n"
     ]
    }
   ],
   "source": [
    "for i in range(5):\n",
    "    if i == 3:\n",
    "        continue\n",
    "    print(i)\n",
    "\n",
    "print(\"The end\")"
   ]
  },
  {
   "cell_type": "markdown",
   "metadata": {
    "colab_type": "text",
    "id": "UmnFuVAbsbNk"
   },
   "source": [
    "## Exercices"
   ]
  },
  {
   "cell_type": "markdown",
   "metadata": {},
   "source": [
    "Afficher les nombres entiers de 1 à 5 en utilisant une boucle while"
   ]
  },
  {
   "cell_type": "code",
   "execution_count": 34,
   "metadata": {},
   "outputs": [
    {
     "name": "stdout",
     "output_type": "stream",
     "text": [
      "1\n",
      "2\n",
      "3\n",
      "4\n",
      "5\n"
     ]
    }
   ],
   "source": [
    "i = 1\n",
    "while i <= 5:\n",
    "    print(i)\n",
    "    i += 1"
   ]
  },
  {
   "cell_type": "markdown",
   "metadata": {},
   "source": [
    "- Ecrire un code qui calcule la somme cumulative de tous les entiers paires jusqu'à ce que cette somme soit supérieure à 50."
   ]
  },
  {
   "cell_type": "code",
   "execution_count": 49,
   "metadata": {},
   "outputs": [
    {
     "name": "stdout",
     "output_type": "stream",
     "text": [
      "0\n",
      "2\n",
      "6\n",
      "12\n",
      "20\n",
      "30\n",
      "42\n",
      "56\n"
     ]
    }
   ],
   "source": [
    "# Correction 1\n",
    "somme = 0\n",
    "i = 0\n",
    "\n",
    "while somme < 50:\n",
    "    if i%2 == 0:\n",
    "        somme += i\n",
    "        print(somme)\n",
    "    \n",
    "    i+= 1"
   ]
  },
  {
   "cell_type": "code",
   "execution_count": 50,
   "metadata": {},
   "outputs": [
    {
     "name": "stdout",
     "output_type": "stream",
     "text": [
      "0\n",
      "2\n",
      "6\n",
      "12\n",
      "20\n",
      "30\n",
      "42\n",
      "56\n"
     ]
    }
   ],
   "source": [
    "# correction 2\n",
    "somme = 0\n",
    "i = 0\n",
    "\n",
    "for i in range(0, 100, 2):\n",
    "    somme += i\n",
    "    print(somme)\n",
    "    if somme > 50:\n",
    "        break"
   ]
  },
  {
   "cell_type": "markdown",
   "metadata": {},
   "source": [
    "- Ecrire un code qui affiche le résultat suivant : \n",
    "\n",
    "```\n",
    "1\n",
    "333\n",
    "55555\n",
    "7777777\n",
    "999999999\n",
    "```"
   ]
  },
  {
   "cell_type": "code",
   "execution_count": 42,
   "metadata": {
    "colab": {},
    "colab_type": "code",
    "id": "myuxrLBgsbNk"
   },
   "outputs": [
    {
     "name": "stdout",
     "output_type": "stream",
     "text": [
      "1\n",
      "333\n",
      "55555\n",
      "7777777\n",
      "999999999\n"
     ]
    }
   ],
   "source": [
    "a = 1 \n",
    "while a < 10:\n",
    "    for i in range(a):\n",
    "        if a%2 == 1 and i == a-1:\n",
    "            print(a)\n",
    "        elif a%2 == 1:\n",
    "            print(a, end='')\n",
    "    a += 1"
   ]
  },
  {
   "cell_type": "markdown",
   "metadata": {},
   "source": [
    "# Fonctions"
   ]
  },
  {
   "cell_type": "markdown",
   "metadata": {},
   "source": [
    "Commençons par une fonction simple :\n",
    "\n",
    "    1. Écrivons une fonction qui nous permette de sortir à la racine carré d’un nombre. On l’appellera *sqrt()*"
   ]
  },
  {
   "cell_type": "code",
   "execution_count": 2,
   "metadata": {},
   "outputs": [
    {
     "name": "stdout",
     "output_type": "stream",
     "text": [
      "3.0\n"
     ]
    }
   ],
   "source": [
    "def sqrt(nombre):\n",
    "    nombre = nombre ** (1/2)\n",
    "    print(nombre)\n",
    "    \n",
    "sqrt(9)"
   ]
  },
  {
   "cell_type": "markdown",
   "metadata": {},
   "source": [
    "# Types de bases"
   ]
  },
  {
   "cell_type": "markdown",
   "metadata": {},
   "source": [
    "## Listes"
   ]
  },
  {
   "cell_type": "markdown",
   "metadata": {},
   "source": [
    "Voici une liste [“Bonjour”, “Je”, “Christophe”, “m’appelle”]\n",
    "\n",
    "1. Stocker cette liste dans une variable qu’on appellera christophe\n",
    "2. Faites une boucle pour que la console retourne chacun des items de la liste"
   ]
  },
  {
   "cell_type": "code",
   "execution_count": 5,
   "metadata": {},
   "outputs": [
    {
     "name": "stdout",
     "output_type": "stream",
     "text": [
      "Bonjour\n",
      "Je\n",
      "Christophe\n",
      "m'appelle\n"
     ]
    }
   ],
   "source": [
    "Christophe = [\"Bonjour\", \"Je\", \"Christophe\", \"m'appelle\"]\n",
    "for mot in Christophe:\n",
    "    print(mot)"
   ]
  },
  {
   "cell_type": "markdown",
   "metadata": {},
   "source": [
    "On a un problème avec cette phrase, deux mots sont inversés. Trouvez un moyen d’inverser le dernier item avec l’avant dernier"
   ]
  },
  {
   "cell_type": "code",
   "execution_count": 6,
   "metadata": {
    "scrolled": true
   },
   "outputs": [
    {
     "name": "stdout",
     "output_type": "stream",
     "text": [
      "Bonjour\n",
      "Je\n",
      "m'appelle\n",
      "Christophe\n"
     ]
    }
   ],
   "source": [
    "prenom = Christophe.pop(2)\n",
    "Christophe.append(prenom)\n",
    "for mot in Christophe:\n",
    "    print(mot)"
   ]
  },
  {
   "cell_type": "markdown",
   "metadata": {},
   "source": [
    "Voici une liste d’âge : [12, 16, 34, 58, 9].\n",
    "\n",
    "    1. Stockez cette liste d’âge dans une variable qu’on appellera \n",
    "\n",
    "\n",
    "\n",
    "```\n",
    "age\n",
    "```\n",
    "\n",
    "\n",
    "\n",
    "    2. On aimerait que cette liste soit rangée par ordre croissant, comment faire ?"
   ]
  },
  {
   "cell_type": "code",
   "execution_count": 7,
   "metadata": {},
   "outputs": [
    {
     "name": "stdout",
     "output_type": "stream",
     "text": [
      "[9, 12, 16, 34, 58]\n"
     ]
    }
   ],
   "source": [
    "age = [12,16,34,58,9]\n",
    "ordre = age.pop(4)\n",
    "age.insert(0,ordre)\n",
    "print(age)"
   ]
  },
  {
   "cell_type": "markdown",
   "metadata": {
    "heading_collapsed": true
   },
   "source": [
    "### Les slices"
   ]
  },
  {
   "cell_type": "markdown",
   "metadata": {
    "hidden": true
   },
   "source": [
    " On a le dataset suivant : `km_parcourus = [50, 10, 100, 25, 1000, 21, 12,30]`\n",
    " \n",
    "    1. Cette variable représente une liste de kilomètres parcourus tous les matins par 8 utilisateurs pour aller au travail\n",
    "    2. En utilisant une boucle, calculez la moyenne total parcouru par tous les utilisateurs\n",
    "    3. Est ce que cette moyenne est représentative de ce que tous les individus parcourent vraiment ? A votre avis pourquoi ?"
   ]
  },
  {
   "cell_type": "code",
   "execution_count": 12,
   "metadata": {
    "hidden": true
   },
   "outputs": [
    {
     "name": "stdout",
     "output_type": "stream",
     "text": [
      "En moyenne, les utilisateurs ont parcourus 156.0 km pour aller au travail\n"
     ]
    }
   ],
   "source": [
    "km_parcourus = [50, 10, 100, 25, 1000, 21, 12,30]\n",
    "individus = 0\n",
    "total_individus = 0\n",
    "\n",
    "for individu in km_parcourus:\n",
    "    individus += individu\n",
    "    total_individus += 1\n",
    "\n",
    "moyenne_km = individus/total_individus\n",
    "print(\"En moyenne, les utilisateurs ont parcourus {} km pour aller au travail\".format(moyenne_km))"
   ]
  },
  {
   "cell_type": "markdown",
   "metadata": {
    "hidden": true
   },
   "source": [
    "    4. Changez la variable _km_parcourus_ pour avoir une moyenne plus représentative"
   ]
  },
  {
   "cell_type": "code",
   "execution_count": 14,
   "metadata": {
    "hidden": true
   },
   "outputs": [
    {
     "name": "stdout",
     "output_type": "stream",
     "text": [
      "En moyenne, les utilisateurs ont parcourus 47.5 km pour aller au travail\n"
     ]
    }
   ],
   "source": [
    "km_parcourus = km_parcourus[0:3] + km_parcourus[5:]\n",
    "individus = 0\n",
    "total_individus = 0\n",
    "\n",
    "for individu in km_parcourus:\n",
    "    individus += individu\n",
    "    total_individus += 1\n",
    "\n",
    "moyenne_km = individus/total_individus\n",
    "print(\"En moyenne, les utilisateurs ont parcourus {} km pour aller au travail\".format(moyenne_km))"
   ]
  },
  {
   "cell_type": "code",
   "execution_count": null,
   "metadata": {
    "hidden": true
   },
   "outputs": [],
   "source": []
  },
  {
   "cell_type": "markdown",
   "metadata": {
    "heading_collapsed": true
   },
   "source": [
    "## Les dictionnaires"
   ]
  },
  {
   "cell_type": "code",
   "execution_count": null,
   "metadata": {
    "hidden": true
   },
   "outputs": [],
   "source": []
  },
  {
   "cell_type": "code",
   "execution_count": null,
   "metadata": {
    "hidden": true
   },
   "outputs": [],
   "source": []
  },
  {
   "cell_type": "code",
   "execution_count": null,
   "metadata": {
    "hidden": true
   },
   "outputs": [],
   "source": []
  },
  {
   "cell_type": "code",
   "execution_count": null,
   "metadata": {
    "hidden": true
   },
   "outputs": [],
   "source": []
  },
  {
   "cell_type": "markdown",
   "metadata": {
    "heading_collapsed": true
   },
   "source": [
    "# Manipulations de listes"
   ]
  },
  {
   "cell_type": "markdown",
   "metadata": {
    "heading_collapsed": true
   },
   "source": [
    "# Manipulations de string"
   ]
  },
  {
   "cell_type": "markdown",
   "metadata": {
    "heading_collapsed": true
   },
   "source": [
    "# Manipulation de dictionnaires"
   ]
  },
  {
   "cell_type": "markdown",
   "metadata": {},
   "source": [
    "# Packages"
   ]
  },
  {
   "cell_type": "markdown",
   "metadata": {},
   "source": [
    "# Numpy"
   ]
  },
  {
   "cell_type": "code",
   "execution_count": 17,
   "metadata": {
    "colab": {},
    "colab_type": "code",
    "id": "2Tt0XRDRsbMm"
   },
   "outputs": [],
   "source": [
    "import numpy as np"
   ]
  },
  {
   "cell_type": "markdown",
   "metadata": {},
   "source": [
    "## Manipulation de vecteur"
   ]
  },
  {
   "cell_type": "code",
   "execution_count": 26,
   "metadata": {},
   "outputs": [],
   "source": [
    "D = np.array([1, 8, 5, 4, 6, 2, 0, 9, 7, 3])\n",
    "med = np.array([2, 5, 3])"
   ]
  },
  {
   "cell_type": "markdown",
   "metadata": {},
   "source": [
    "### Verifier le type des données\n",
    "Contenues dans le vecteur D"
   ]
  },
  {
   "cell_type": "code",
   "execution_count": 19,
   "metadata": {},
   "outputs": [
    {
     "data": {
      "text/plain": [
       "numpy.ndarray"
      ]
     },
     "execution_count": 19,
     "metadata": {},
     "output_type": "execute_result"
    }
   ],
   "source": [
    "type(D)"
   ]
  },
  {
   "cell_type": "code",
   "execution_count": 20,
   "metadata": {},
   "outputs": [
    {
     "data": {
      "text/plain": [
       "dtype('int64')"
      ]
     },
     "execution_count": 20,
     "metadata": {},
     "output_type": "execute_result"
    }
   ],
   "source": [
    "D.dtype"
   ]
  },
  {
   "cell_type": "markdown",
   "metadata": {},
   "source": [
    "### Maintenant que ce type est connu, extraire les valeurs stockées sur les indices impairs\n",
    "Toujours avec le vecteur D"
   ]
  },
  {
   "cell_type": "code",
   "execution_count": 21,
   "metadata": {},
   "outputs": [
    {
     "data": {
      "text/plain": [
       "array([1, 8, 5, 4, 6, 2, 0, 9, 7, 3])"
      ]
     },
     "execution_count": 21,
     "metadata": {},
     "output_type": "execute_result"
    }
   ],
   "source": [
    "D"
   ]
  },
  {
   "cell_type": "code",
   "execution_count": 22,
   "metadata": {},
   "outputs": [
    {
     "data": {
      "text/plain": [
       "array([8, 4, 2, 9, 3])"
      ]
     },
     "execution_count": 22,
     "metadata": {},
     "output_type": "execute_result"
    }
   ],
   "source": [
    "D[1::2]"
   ]
  },
  {
   "cell_type": "code",
   "execution_count": 23,
   "metadata": {},
   "outputs": [],
   "source": [
    "D_impair = np.array([])\n",
    "for i in range(len(D)):\n",
    "    if i%2 == 1:\n",
    "        D_impair = np.append(D_impair, D[i])"
   ]
  },
  {
   "cell_type": "code",
   "execution_count": 24,
   "metadata": {},
   "outputs": [
    {
     "data": {
      "text/plain": [
       "array([8, 4, 2, 9, 3])"
      ]
     },
     "execution_count": 24,
     "metadata": {},
     "output_type": "execute_result"
    }
   ],
   "source": [
    "D_impair.astype(int)"
   ]
  },
  {
   "cell_type": "markdown",
   "metadata": {},
   "source": [
    "### Récupérer la médiane du vecteur des indices impairs"
   ]
  },
  {
   "cell_type": "code",
   "execution_count": 25,
   "metadata": {},
   "outputs": [],
   "source": [
    "med_d = np.median(D_impair)"
   ]
  },
  {
   "cell_type": "markdown",
   "metadata": {},
   "source": [
    "### Ajouter cette valeur à la fin du vecteur med"
   ]
  },
  {
   "cell_type": "code",
   "execution_count": 27,
   "metadata": {},
   "outputs": [],
   "source": [
    "med = np.append(med, med_d)"
   ]
  },
  {
   "cell_type": "code",
   "execution_count": 28,
   "metadata": {},
   "outputs": [
    {
     "data": {
      "text/plain": [
       "array([2, 5, 3, 4])"
      ]
     },
     "execution_count": 28,
     "metadata": {},
     "output_type": "execute_result"
    }
   ],
   "source": [
    "med.astype(int)"
   ]
  },
  {
   "cell_type": "markdown",
   "metadata": {},
   "source": [
    "### Identifier l'id client qui a le plus depensé\n",
    "A titre d'information, le 3e éléments du vecteur depense_client correspond à la somme dépensée par l'id client en 3e position dans le vecteur id_client"
   ]
  },
  {
   "cell_type": "code",
   "execution_count": 29,
   "metadata": {},
   "outputs": [],
   "source": [
    "id_client = np.array([31,  5, 38, 68, 86, 98, 72, 23, 51, 66, 36, 33, 92, 69, 29])\n",
    "depense_client = np.array([297.24, 208.66, 166.67,  335.62, 140.21, 286.48,  88.94,  46.04,\n",
    "        86.18, 274.38, 169.32, 173.11, 273.64, 239.18,  40.3 ])"
   ]
  },
  {
   "cell_type": "code",
   "execution_count": 30,
   "metadata": {},
   "outputs": [
    {
     "data": {
      "text/plain": [
       "3"
      ]
     },
     "execution_count": 30,
     "metadata": {},
     "output_type": "execute_result"
    }
   ],
   "source": [
    "index_max = np.argmax(depense_client)\n",
    "index_max"
   ]
  },
  {
   "cell_type": "code",
   "execution_count": 31,
   "metadata": {},
   "outputs": [
    {
     "data": {
      "text/plain": [
       "68"
      ]
     },
     "execution_count": 31,
     "metadata": {},
     "output_type": "execute_result"
    }
   ],
   "source": [
    "id_client[index_max]"
   ]
  },
  {
   "cell_type": "markdown",
   "metadata": {},
   "source": [
    "### Trier les vecteurs id_client et depense_client par somme dépensée décroissante"
   ]
  },
  {
   "cell_type": "code",
   "execution_count": 32,
   "metadata": {},
   "outputs": [],
   "source": [
    "tri = np.argsort(depense_client)\n",
    "tri_invers = tri[::-1]"
   ]
  },
  {
   "cell_type": "code",
   "execution_count": 33,
   "metadata": {},
   "outputs": [
    {
     "data": {
      "text/plain": [
       "array([68, 31, 98, 66, 92, 69,  5, 33, 36, 38, 86, 72, 51, 23, 29])"
      ]
     },
     "execution_count": 33,
     "metadata": {},
     "output_type": "execute_result"
    }
   ],
   "source": [
    "id_client[tri_invers]"
   ]
  },
  {
   "cell_type": "code",
   "execution_count": 34,
   "metadata": {},
   "outputs": [
    {
     "data": {
      "text/plain": [
       "array([335.62, 297.24, 286.48, 274.38, 273.64, 239.18, 208.66, 173.11,\n",
       "       169.32, 166.67, 140.21,  88.94,  86.18,  46.04,  40.3 ])"
      ]
     },
     "execution_count": 34,
     "metadata": {},
     "output_type": "execute_result"
    }
   ],
   "source": [
    "depense_client[tri_invers]"
   ]
  },
  {
   "cell_type": "markdown",
   "metadata": {},
   "source": [
    "### Générer un array de 30 entiers aléatoirement entre 1 et 12"
   ]
  },
  {
   "cell_type": "markdown",
   "metadata": {},
   "source": [
    "### Générer un array de 30 flotants aléatoirements entre 0 et 50 avec deux chiffres après la virgule"
   ]
  },
  {
   "cell_type": "code",
   "execution_count": 153,
   "metadata": {},
   "outputs": [
    {
     "data": {
      "text/plain": [
       "array([39.21, 30.14, 34.66,  3.73, 17.72, 25.77, 21.87, 38.38,  9.54,\n",
       "       29.47, 42.02, 11.46, 13.92, 24.16,  8.75, 23.69, 11.99, 23.21,\n",
       "       22.01, 26.54, 34.43, 20.67, 41.9 , 35.54,  5.77, 11.33, 36.08,\n",
       "       13.24, 14.48, 20.03])"
      ]
     },
     "execution_count": 153,
     "metadata": {},
     "output_type": "execute_result"
    }
   ],
   "source": [
    "np.round((np.random.random(30)*50), 2)"
   ]
  },
  {
   "cell_type": "code",
   "execution_count": 83,
   "metadata": {},
   "outputs": [
    {
     "data": {
      "text/plain": [
       "array([ 9,  9,  7, 12,  3, 12,  9,  8,  3,  2, 12,  6, 11,  5,  5,  6,  8,\n",
       "        4,  7,  5, 11, 12,  4,  8,  7, 11,  2, 11,  4,  6])"
      ]
     },
     "execution_count": 83,
     "metadata": {},
     "output_type": "execute_result"
    }
   ],
   "source": [
    "### Générer un array de 30 flotants aléatoirements entre 0 et 50 avec deux chiffres après la virgule\n",
    "\n",
    "np.round((np.random.random(30)*50), 2)np.random.seed(2)\n",
    "(np.random.randint(1, 13, 30))"
   ]
  },
  {
   "cell_type": "markdown",
   "metadata": {},
   "source": [
    "## Part 2 matrice"
   ]
  },
  {
   "cell_type": "markdown",
   "metadata": {},
   "source": [
    "### Travail de modelage\n"
   ]
  },
  {
   "cell_type": "code",
   "execution_count": 155,
   "metadata": {},
   "outputs": [],
   "source": [
    "coefficient = np.array(\n",
    "    [[-1.01324867,  1.1871035 , -1.65190239, -1.58638258],\n",
    "     [ 0.50434212, -0.72520265, -0.27197777, -0.8131409 ],\n",
    "     [ 0.50890656, -0.46190086,  1.92388016,  2.39952348]])\n",
    "famille = ['setosa', 'versicolor', 'virginica']\n",
    "variable = ['sepal length (cm)', 'sepal width (cm)', 'petal length (cm)', 'petal width (cm)']"
   ]
  },
  {
   "cell_type": "markdown",
   "metadata": {},
   "source": [
    "Dans la matrice coefficient, Chaque ligne correspond à une famille d'iris, et chaque colonne à une variable. L'objectif est de créer le tableau suivant.\n"
   ]
  },
  {
   "cell_type": "markdown",
   "metadata": {},
   "source": [
    "Fonctions de numpy pertinentes: ravel, tile, repeat, transpose, array"
   ]
  },
  {
   "cell_type": "code",
   "execution_count": 159,
   "metadata": {},
   "outputs": [],
   "source": [
    "coefficient = np.array(coefficient)\n",
    "famille = np.array(famille)\n",
    "variable = np.array(variable)"
   ]
  },
  {
   "cell_type": "code",
   "execution_count": 160,
   "metadata": {},
   "outputs": [
    {
     "data": {
      "text/plain": [
       "array(['sepal length (cm)', 'sepal width (cm)', 'petal length (cm)',\n",
       "       'petal width (cm)', 'sepal length (cm)', 'sepal width (cm)',\n",
       "       'petal length (cm)', 'petal width (cm)', 'sepal length (cm)',\n",
       "       'sepal width (cm)', 'petal length (cm)', 'petal width (cm)'],\n",
       "      dtype='<U17')"
      ]
     },
     "execution_count": 160,
     "metadata": {},
     "output_type": "execute_result"
    }
   ],
   "source": [
    "coefficient.ravel()\n",
    "np.repeat(famille, 4)\n",
    "np.tile(variable, 3)"
   ]
  },
  {
   "cell_type": "code",
   "execution_count": 163,
   "metadata": {},
   "outputs": [
    {
     "data": {
      "text/plain": [
       "array([['-1.01324867', 'setosa', 'sepal length (cm)'],\n",
       "       ['1.1871035', 'setosa', 'sepal width (cm)'],\n",
       "       ['-1.65190239', 'setosa', 'petal length (cm)'],\n",
       "       ['-1.58638258', 'setosa', 'petal width (cm)'],\n",
       "       ['0.50434212', 'versicolor', 'sepal length (cm)'],\n",
       "       ['-0.72520265', 'versicolor', 'sepal width (cm)'],\n",
       "       ['-0.27197777', 'versicolor', 'petal length (cm)'],\n",
       "       ['-0.8131409', 'versicolor', 'petal width (cm)'],\n",
       "       ['0.50890656', 'virginica', 'sepal length (cm)'],\n",
       "       ['-0.46190086', 'virginica', 'sepal width (cm)'],\n",
       "       ['1.92388016', 'virginica', 'petal length (cm)'],\n",
       "       ['2.39952348', 'virginica', 'petal width (cm)']], dtype='<U32')"
      ]
     },
     "execution_count": 163,
     "metadata": {},
     "output_type": "execute_result"
    }
   ],
   "source": [
    "np.array([coefficient.ravel(), \n",
    "          np.repeat(famille, 4), \n",
    "          np.tile(variable, 3)]).T"
   ]
  },
  {
   "cell_type": "code",
   "execution_count": null,
   "metadata": {},
   "outputs": [],
   "source": [
    "# Objectif\n",
    "np.array([['-1.0132486724005245', 'sepal length (cm)', 'setosa'],\n",
    "       ['1.1871035025418413', 'sepal width (cm)', 'setosa'],\n",
    "       ['-1.6519023926009897', 'petal length (cm)', 'setosa'],\n",
    "       ['-1.5863825821769832', 'petal width (cm)', 'setosa'],\n",
    "       ['0.5043421152883055', 'sepal length (cm)', 'versicolor'],\n",
    "       ['-0.7252026471041335', 'sepal width (cm)', 'versicolor'],\n",
    "       ['-0.27197777085733216', 'petal length (cm)', 'versicolor'],\n",
    "       ['-0.8131408997489712', 'petal width (cm)', 'versicolor'],\n",
    "       ['0.5089065571122178', 'sepal length (cm)', 'virginica'],\n",
    "       ['-0.4619008554377047', 'sepal width (cm)', 'virginica'],\n",
    "       ['1.9238801634583182', 'petal length (cm)', 'virginica'],\n",
    "       ['2.399523481925951', 'petal width (cm)', 'virginica']])"
   ]
  },
  {
   "cell_type": "markdown",
   "metadata": {},
   "source": [
    "# try except"
   ]
  }
 ],
 "metadata": {
  "colab": {
   "name": "dsmft-lyon-02_S1-1 Conditions et boucles .ipynb",
   "provenance": []
  },
  "kernelspec": {
   "display_name": "Python 3",
   "language": "python",
   "name": "python3"
  },
  "language_info": {
   "codemirror_mode": {
    "name": "ipython",
    "version": 3
   },
   "file_extension": ".py",
   "mimetype": "text/x-python",
   "name": "python",
   "nbconvert_exporter": "python",
   "pygments_lexer": "ipython3",
   "version": "3.7.7"
  },
  "toc": {
   "base_numbering": 1,
   "nav_menu": {},
   "number_sections": true,
   "sideBar": true,
   "skip_h1_title": false,
   "title_cell": "Table of Contents",
   "title_sidebar": "Contents",
   "toc_cell": false,
   "toc_position": {},
   "toc_section_display": true,
   "toc_window_display": false
  }
 },
 "nbformat": 4,
 "nbformat_minor": 1
}
