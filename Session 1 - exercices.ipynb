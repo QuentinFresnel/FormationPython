{
 "cells": [
  {
   "cell_type": "markdown",
   "metadata": {},
   "source": [
    "# Contexte\n"
   ]
  },
  {
   "cell_type": "markdown",
   "metadata": {},
   "source": [
    "## Python"
   ]
  },
  {
   "cell_type": "markdown",
   "metadata": {},
   "source": [
    "Python est un langage de programmation développé depuis les années 1990, qui connaît une popularité croissante dans le domaine de la data science ces dernières années.\n",
    "\n",
    "Tandis que R est un langage spécifique pour les statistiques (*Domain Specific Language*), Python est un langage généraliste utilisé autant en data science que pour du développement web ou d'applications. En pratique, cela signifie que certains concepts utiles en data science ne sont pas présents directement dans le langage (data frames, valeurs manquantes, calcul matriciel, ...), mais cela est compensé par différents packages :\n",
    "- **numpy** pour le calcul matriciel\n",
    "- **pandas** pour les data frames\n",
    "- **scikit-learn** pour le machine learning\n",
    "- etc.\n",
    "\n",
    "Grâce à ces packages, Python est notamment particulièrement utilisé pour le machine learning (en particulier le deep learning).\n",
    "\n",
    "Le caractère généraliste de Python permet de faire facilement des ponts en domaines (data science, data engineering, développement web, etc.) et de profiter d'outils communs puissants."
   ]
  },
  {
   "cell_type": "markdown",
   "metadata": {},
   "source": [
    "Sur le plan technique, Python est un langage interprété (comme R) et non compilé (C++, Java). Cela fait perdre en performances, mais permet de développer de manière plus interactive. De même il utilise un typage dynamique (c'est-à-dire que ce n'est pas le développeur qui spécifie le type des variables) pour un développement plus flexible."
   ]
  },
  {
   "cell_type": "markdown",
   "metadata": {},
   "source": [
    "Pendant de nombreuses années, les développeurs étaient partagés entre les versions 2 et 3 de Python. En effet, Python 3 a introduit des modifications importantes parfois incompatibles avec Python 2 (par exemple, en Python 3, on utilise `print('Bonjour')` alors que Python 2 utilisait `print 'Bonjour'`. De nombreux développeurs ont donc été réticents à franchir le pas, malgré les améliorations apportées par les dernières versions. Cette situation a duré plusieurs années, mais depuis début 2020 Python 2 n'a officiellement plus de support. Il n'y a donc plus d'excuse pour utiliser cette version obsolète."
   ]
  },
  {
   "cell_type": "markdown",
   "metadata": {
    "heading_collapsed": true
   },
   "source": [
    "## IDE"
   ]
  },
  {
   "cell_type": "markdown",
   "metadata": {
    "hidden": true
   },
   "source": [
    "À la base, Python est un langage de programmation. Il est donc possible de l'utiliser dans un éditeur traditionnel comme Visual Studio Code, PyCharm... \n",
    "\n",
    "L'usage de Python pour la data science nécessite cependant une certaine agilité car beaucoup d'études exploratoires sont plus axées sur la rapidité d'obtention des premiers résultats que sur la scalabilité ou la robustesse. Aussi, Jupyter propose un environnement simple dans lequel on peut programmer, organiser et visualiser les résultats rapidement, comme les notebooks RStudio. C'est l'outil le plus couramment utilisé en data science, et notamment c'est celui qui est mis à disposition sur le serveur de développement de l'équipe"
   ]
  },
  {
   "cell_type": "markdown",
   "metadata": {
    "hidden": true
   },
   "source": [
    "- Pour commencer à prendre en main l'interface, cliquez sur le menu\n",
    "\n",
    "`Aide` -> `Visite de l'interface utilisateur`"
   ]
  },
  {
   "cell_type": "markdown",
   "metadata": {
    "hidden": true
   },
   "source": [
    "- Pour commencer à vous familiariser avec les raccourcis clavier, cliquez sur\n",
    "\n",
    "`Aide` -> `Raccourcis clavier`"
   ]
  },
  {
   "cell_type": "markdown",
   "metadata": {},
   "source": [
    "- Un notebook est constitué de cellules pouvant être de différents types, notamment `markdown` et `code`"
   ]
  },
  {
   "cell_type": "markdown",
   "metadata": {
    "hidden": true
   },
   "source": [
    "- Pour exécuter une cellule, appuyez sur les touches `Maj+Entr`.\n",
    "\n",
    "Contrairement à RStudio, vous ne pouvez pas exécuter une seule ligne à la fois. Mais n'hésitez pas à créer des cellules d'une seule ligne si nécessaire (avec les raccourcis `B` et `A` par exemple) puis les supprimer (avec `X`) ou les merger (avec `M`)"
   ]
  },
  {
   "cell_type": "code",
   "execution_count": 271,
   "metadata": {
    "colab": {},
    "colab_type": "code",
    "id": "TeadjsMhsbLp"
   },
   "outputs": [
    {
     "name": "stdout",
     "output_type": "stream",
     "text": [
      "Bonjour à tous\n"
     ]
    }
   ],
   "source": [
    "print('Bonjour à tous')"
   ]
  },
  {
   "cell_type": "markdown",
   "metadata": {
    "heading_collapsed": true
   },
   "source": [
    "# Opérateurs"
   ]
  },
  {
   "cell_type": "markdown",
   "metadata": {
    "hidden": true
   },
   "source": [
    "**Les opérateurs sont identiques en R et en Python...**\n",
    "\n",
    "... a part l'assignation `<-` qui devient `=`.\n",
    "\n",
    "Python est un langage conçu pour être simple et compréhensible. Les opérations logiques sont donc simplement écrites en anglais : \n",
    "- `!x` en R devient `not x` en python\n",
    "- `x | y` en R devient`x or y` en python\n",
    "- `x & y` en R devient `x or y` en python"
   ]
  },
  {
   "cell_type": "markdown",
   "metadata": {
    "hidden": true
   },
   "source": [
    "Stockez les valeurs 2 et 5 dans deux variables nommée respectivement a et b. "
   ]
  },
  {
   "cell_type": "code",
   "execution_count": 272,
   "metadata": {
    "hidden": true
   },
   "outputs": [],
   "source": [
    "a = 2\n",
    "b = 5"
   ]
  },
  {
   "cell_type": "markdown",
   "metadata": {
    "hidden": true
   },
   "source": [
    "Effectuez quelques tests sur ces variables : \n",
    "- Est-ce que a est égal à b ? \n",
    "- Est-ce que a est inférieur b ?\n",
    "- Est-ce que a est inférieur ou égal à b et est-ce que b est inférieur à 6 ?"
   ]
  },
  {
   "cell_type": "code",
   "execution_count": 273,
   "metadata": {
    "hidden": true
   },
   "outputs": [
    {
     "data": {
      "text/plain": [
       "False"
      ]
     },
     "execution_count": 273,
     "metadata": {},
     "output_type": "execute_result"
    }
   ],
   "source": [
    "a == b"
   ]
  },
  {
   "cell_type": "code",
   "execution_count": 274,
   "metadata": {
    "hidden": true
   },
   "outputs": [
    {
     "data": {
      "text/plain": [
       "True"
      ]
     },
     "execution_count": 274,
     "metadata": {},
     "output_type": "execute_result"
    }
   ],
   "source": [
    "a < b"
   ]
  },
  {
   "cell_type": "code",
   "execution_count": 275,
   "metadata": {
    "hidden": true,
    "scrolled": true
   },
   "outputs": [
    {
     "data": {
      "text/plain": [
       "True"
      ]
     },
     "execution_count": 275,
     "metadata": {},
     "output_type": "execute_result"
    }
   ],
   "source": [
    "a <= b and b < 6"
   ]
  },
  {
   "cell_type": "markdown",
   "metadata": {
    "heading_collapsed": true
   },
   "source": [
    "# Boucles"
   ]
  },
  {
   "cell_type": "markdown",
   "metadata": {
    "hidden": true
   },
   "source": [
    "Dans la plupart des langages, les blocs sont délimités par des accolades, et l'utilisateur peut utiliser des espaces et des tabulations pour indenter son code à sa guise. Cela permet de faire un code fonctionnel et/ou lisible. Python a un parti pris original : il considère qu'on bon code doit être lisible et qu'on peut donc donner un sens à l'indentation. Les **espaces et tabulations** en début de ligne font donc partie de la syntaxe et permettent de déterminer le niveau d'un bloc, et un code mal indenté ne fonctionnera pas."
   ]
  },
  {
   "cell_type": "markdown",
   "metadata": {
    "hidden": true
   },
   "source": [
    "## Exemples de boucles"
   ]
  },
  {
   "cell_type": "code",
   "execution_count": 276,
   "metadata": {
    "hidden": true
   },
   "outputs": [],
   "source": [
    "a = 3"
   ]
  },
  {
   "cell_type": "markdown",
   "metadata": {
    "hidden": true
   },
   "source": [
    "**Boucle if + condition**"
   ]
  },
  {
   "cell_type": "code",
   "execution_count": 277,
   "metadata": {
    "colab": {},
    "colab_type": "code",
    "hidden": true,
    "id": "HAmMoh51sbNK"
   },
   "outputs": [
    {
     "name": "stdout",
     "output_type": "stream",
     "text": [
      "Ce texte est hors du if\n"
     ]
    }
   ],
   "source": [
    "if a > 3:\n",
    "    print(\"a est plus grand que 3\")\n",
    "    print('Ce texte est dans le if')\n",
    "    \n",
    "print('Ce texte est hors du if')"
   ]
  },
  {
   "cell_type": "markdown",
   "metadata": {
    "colab_type": "text",
    "hidden": true,
    "id": "l6PVg8NXsbNO"
   },
   "source": [
    "**Else**"
   ]
  },
  {
   "cell_type": "code",
   "execution_count": 278,
   "metadata": {
    "colab": {},
    "colab_type": "code",
    "hidden": true,
    "id": "B1ZuPrZ8sbNP"
   },
   "outputs": [
    {
     "name": "stdout",
     "output_type": "stream",
     "text": [
      "a est plus petit que 3\n"
     ]
    }
   ],
   "source": [
    "if a > 3:\n",
    "    print(\"a est plus grand que 3\")\n",
    "else : \n",
    "    print(\"a est plus petit que 3\")"
   ]
  },
  {
   "cell_type": "markdown",
   "metadata": {
    "colab_type": "text",
    "hidden": true,
    "id": "PdetzNX4sbNT"
   },
   "source": [
    "**Elif**"
   ]
  },
  {
   "cell_type": "code",
   "execution_count": 279,
   "metadata": {
    "colab": {},
    "colab_type": "code",
    "hidden": true,
    "id": "aOAcQ_Z8sbNV",
    "scrolled": true
   },
   "outputs": [
    {
     "name": "stdout",
     "output_type": "stream",
     "text": [
      "a est égal à 3\n"
     ]
    }
   ],
   "source": [
    "if a > 3:\n",
    "    print(\"a est plus grand que 3\")\n",
    "elif a == 3:\n",
    "    print(\"a est égal à 3\")\n",
    "elif a >= 3:\n",
    "    print(\"a est supérieur ou égal à 3\")\n",
    "else : \n",
    "    print(\"a est plus petit que 3\")"
   ]
  },
  {
   "cell_type": "markdown",
   "metadata": {
    "colab_type": "text",
    "hidden": true,
    "id": "h8a6NqppsbNX"
   },
   "source": [
    "**Boucle while**"
   ]
  },
  {
   "cell_type": "code",
   "execution_count": 280,
   "metadata": {
    "colab": {},
    "colab_type": "code",
    "hidden": true,
    "id": "SXxu7Y-EsbNY"
   },
   "outputs": [
    {
     "name": "stdout",
     "output_type": "stream",
     "text": [
      "0\n",
      "1\n",
      "2\n",
      "3\n",
      "4\n"
     ]
    }
   ],
   "source": [
    "a = 0\n",
    "while a < 5:\n",
    "    print(a)\n",
    "    a += 1"
   ]
  },
  {
   "cell_type": "markdown",
   "metadata": {
    "colab_type": "text",
    "hidden": true,
    "id": "gd66Av0RsbNf"
   },
   "source": [
    "**Boucle for**"
   ]
  },
  {
   "cell_type": "markdown",
   "metadata": {},
   "source": [
    "La fonction `range(n)` donne les entiers inférieurs à n, en partant de 0. "
   ]
  },
  {
   "cell_type": "code",
   "execution_count": 281,
   "metadata": {
    "colab": {},
    "colab_type": "code",
    "hidden": true,
    "id": "XsfwMMWIsbNg"
   },
   "outputs": [
    {
     "name": "stdout",
     "output_type": "stream",
     "text": [
      "0\n",
      "1\n",
      "2\n",
      "3\n",
      "4\n"
     ]
    }
   ],
   "source": [
    "for i in range(5):\n",
    "    print(i)"
   ]
  },
  {
   "cell_type": "markdown",
   "metadata": {},
   "source": [
    "En lui donnant deux arguments, on peut aussi spécifier le début."
   ]
  },
  {
   "cell_type": "code",
   "execution_count": 282,
   "metadata": {},
   "outputs": [
    {
     "name": "stdout",
     "output_type": "stream",
     "text": [
      "2\n",
      "3\n",
      "4\n"
     ]
    }
   ],
   "source": [
    "for i in range(2, 5):\n",
    "    print(i)"
   ]
  },
  {
   "cell_type": "markdown",
   "metadata": {
    "colab_type": "text",
    "hidden": true,
    "id": "J9Q1aIJlsbNm"
   },
   "source": [
    "**Break et continue**"
   ]
  },
  {
   "cell_type": "markdown",
   "metadata": {},
   "source": [
    "`break` sort de la boucle."
   ]
  },
  {
   "cell_type": "code",
   "execution_count": 283,
   "metadata": {
    "hidden": true
   },
   "outputs": [
    {
     "name": "stdout",
     "output_type": "stream",
     "text": [
      "0\n",
      "1\n",
      "2\n",
      "The end\n"
     ]
    }
   ],
   "source": [
    "for i in range(5):\n",
    "    if i == 3:\n",
    "        break\n",
    "    print(i)\n",
    "\n",
    "print(\"The end\")"
   ]
  },
  {
   "cell_type": "markdown",
   "metadata": {},
   "source": [
    "`continue` passe à l'itération suivante."
   ]
  },
  {
   "cell_type": "code",
   "execution_count": 284,
   "metadata": {
    "hidden": true
   },
   "outputs": [
    {
     "name": "stdout",
     "output_type": "stream",
     "text": [
      "0\n",
      "1\n",
      "2\n",
      "4\n",
      "The end\n"
     ]
    }
   ],
   "source": [
    "for i in range(5):\n",
    "    if i == 3:\n",
    "        continue\n",
    "    print(i)\n",
    "\n",
    "print(\"The end\")"
   ]
  },
  {
   "cell_type": "markdown",
   "metadata": {
    "colab_type": "text",
    "hidden": true,
    "id": "UmnFuVAbsbNk"
   },
   "source": [
    "### Exercices"
   ]
  },
  {
   "cell_type": "markdown",
   "metadata": {
    "hidden": true
   },
   "source": [
    "- Afficher les entiers n entre 200 et 600 tels que, n est multiple de 7 et n au cube est multiple de 50"
   ]
  },
  {
   "cell_type": "code",
   "execution_count": 285,
   "metadata": {
    "hidden": true
   },
   "outputs": [
    {
     "name": "stdout",
     "output_type": "stream",
     "text": [
      "210\n",
      "280\n",
      "350\n",
      "420\n",
      "490\n",
      "560\n"
     ]
    }
   ],
   "source": [
    "for n in range(200, 601):\n",
    "    if (n % 7 == 0) and (n**3 % 50 == 0):\n",
    "        print(n)"
   ]
  },
  {
   "cell_type": "markdown",
   "metadata": {
    "hidden": true
   },
   "source": [
    "- Écrire un code qui calcule la somme cumulative de tous les entiers pairs jusqu'à ce que cette somme soit supérieure à 50."
   ]
  },
  {
   "cell_type": "code",
   "execution_count": 286,
   "metadata": {
    "hidden": true
   },
   "outputs": [
    {
     "name": "stdout",
     "output_type": "stream",
     "text": [
      "0\n",
      "2\n",
      "6\n",
      "12\n",
      "20\n",
      "30\n",
      "42\n",
      "56\n"
     ]
    }
   ],
   "source": [
    "# Correction 1\n",
    "somme = 0\n",
    "i = 0\n",
    "\n",
    "while somme < 50:\n",
    "    if i%2 == 0:\n",
    "        somme += i\n",
    "        print(somme)\n",
    "    \n",
    "    i+= 1"
   ]
  },
  {
   "cell_type": "code",
   "execution_count": 287,
   "metadata": {
    "hidden": true
   },
   "outputs": [
    {
     "name": "stdout",
     "output_type": "stream",
     "text": [
      "0\n",
      "2\n",
      "6\n",
      "12\n",
      "20\n",
      "30\n",
      "42\n",
      "56\n"
     ]
    }
   ],
   "source": [
    "# correction 2\n",
    "somme = 0\n",
    "i = 0\n",
    "\n",
    "for i in range(0, 100, 2):\n",
    "    somme += i\n",
    "    print(somme)\n",
    "    if somme > 50:\n",
    "        break"
   ]
  },
  {
   "cell_type": "markdown",
   "metadata": {
    "heading_collapsed": true
   },
   "source": [
    "# Fonctions"
   ]
  },
  {
   "cell_type": "markdown",
   "metadata": {
    "heading_collapsed": true,
    "hidden": true
   },
   "source": [
    "## Exemples de fonctions simples"
   ]
  },
  {
   "cell_type": "markdown",
   "metadata": {
    "hidden": true
   },
   "source": [
    "Écrivons une fonction qui permet de calculer à la racine carré d’un nombre. On l’appellera `sqrt()`"
   ]
  },
  {
   "cell_type": "code",
   "execution_count": 288,
   "metadata": {
    "hidden": true
   },
   "outputs": [
    {
     "data": {
      "text/plain": [
       "3.0"
      ]
     },
     "execution_count": 288,
     "metadata": {},
     "output_type": "execute_result"
    }
   ],
   "source": [
    "def sqrt(nombre):\n",
    "    nombre = nombre ** (1/2)\n",
    "    return nombre\n",
    "    \n",
    "sqrt(9)"
   ]
  },
  {
   "cell_type": "markdown",
   "metadata": {
    "hidden": true
   },
   "source": [
    "Les fonctions peuvent utiliser des arguments optionnels"
   ]
  },
  {
   "cell_type": "code",
   "execution_count": 289,
   "metadata": {
    "hidden": true
   },
   "outputs": [
    {
     "name": "stdout",
     "output_type": "stream",
     "text": [
      "9\n",
      "3.0\n",
      "27\n"
     ]
    }
   ],
   "source": [
    "def puissance(nombre, exposant=2):\n",
    "    nombre = nombre ** (exposant)\n",
    "    return nombre\n",
    "\n",
    "print(puissance(3))\n",
    "print(puissance(9, exposant = 1/2))\n",
    "print(puissance(3, 3))"
   ]
  },
  {
   "cell_type": "markdown",
   "metadata": {},
   "source": [
    "Une fonction peut retourner plusieurs valeurs"
   ]
  },
  {
   "cell_type": "code",
   "execution_count": 290,
   "metadata": {},
   "outputs": [
    {
     "name": "stdout",
     "output_type": "stream",
     "text": [
      "3\n",
      "9\n",
      "27\n"
     ]
    }
   ],
   "source": [
    "def puissance(nombre):\n",
    "    return nombre, nombre**2, nombre**3\n",
    "\n",
    "x, y, z = puissance(3)\n",
    "print(x)\n",
    "print(y)\n",
    "print(z)"
   ]
  },
  {
   "cell_type": "markdown",
   "metadata": {
    "heading_collapsed": true,
    "hidden": true
   },
   "source": [
    "### Exercice"
   ]
  },
  {
   "cell_type": "markdown",
   "metadata": {
    "hidden": true
   },
   "source": [
    "Créer une fonction `calcul_prix_ttc` qui prend en entrée un prix HT et le type de produit (luxe ou normal par défaut) et qui donne en sortie le prix TTC, le prix HT et la TVA. Si le produit est un produit de luxe TVA à 33% sinon TVA à 20%"
   ]
  },
  {
   "cell_type": "code",
   "execution_count": 291,
   "metadata": {
    "hidden": true
   },
   "outputs": [],
   "source": [
    "def calcul_prix_ttc(prix_ht, type_tva='normal'):\n",
    "    \"\"\"\n",
    "    Retourne le prix TTC, le prix HT et la TVA à partir du type de TVA et du prix HT.\n",
    "    \"\"\"\n",
    "    if type_tva == 'luxe':\n",
    "        TVA = 0.33\n",
    "    else : TVA = 0.2\n",
    "    \n",
    "    prix_ttc = prix_ht + prix_ht * TVA\n",
    "    \n",
    "    return (prix_ttc, prix_ht, prix_ht * TVA)"
   ]
  },
  {
   "cell_type": "code",
   "execution_count": 292,
   "metadata": {
    "hidden": true
   },
   "outputs": [
    {
     "data": {
      "text/plain": [
       "(26.6, 20, 6.6000000000000005)"
      ]
     },
     "execution_count": 292,
     "metadata": {},
     "output_type": "execute_result"
    }
   ],
   "source": [
    "calcul_prix_ttc(20, 'luxe')"
   ]
  },
  {
   "cell_type": "markdown",
   "metadata": {
    "heading_collapsed": true
   },
   "source": [
    "# Les types de variables"
   ]
  },
  {
   "cell_type": "markdown",
   "metadata": {
    "hidden": true
   },
   "source": [
    "Comme dans tous les langages de programmation, il existe différents types de variables en python : `int`, `float`, `str`...\n",
    "\n",
    "Python est un langage typé dynamiquement. Cela signifie que dans 90% des cas, vous n'avez pas à vous soucier du type de données que vous manipulez, du moment que vous savez ce que vous faites. Pour les 10 % restants, voici quelques astuces :\n",
    "\n",
    "- Utilisez la fonction **`type`** pour connaître le type d'une variable.\n",
    "- Utilisez la fonction **`isinstance`** pour vérifier le type d'une variable\n",
    "- Utilisez les fonctions **`float`**, **`int`**, **`str`** pour convertir vos variables"
   ]
  },
  {
   "cell_type": "code",
   "execution_count": 293,
   "metadata": {},
   "outputs": [
    {
     "data": {
      "text/plain": [
       "int"
      ]
     },
     "execution_count": 293,
     "metadata": {},
     "output_type": "execute_result"
    }
   ],
   "source": [
    "type(0)"
   ]
  },
  {
   "cell_type": "code",
   "execution_count": 294,
   "metadata": {},
   "outputs": [
    {
     "data": {
      "text/plain": [
       "str"
      ]
     },
     "execution_count": 294,
     "metadata": {},
     "output_type": "execute_result"
    }
   ],
   "source": [
    "type('0')"
   ]
  },
  {
   "cell_type": "code",
   "execution_count": 295,
   "metadata": {},
   "outputs": [
    {
     "data": {
      "text/plain": [
       "True"
      ]
     },
     "execution_count": 295,
     "metadata": {},
     "output_type": "execute_result"
    }
   ],
   "source": [
    "str(0) == '0'"
   ]
  },
  {
   "cell_type": "code",
   "execution_count": 296,
   "metadata": {},
   "outputs": [
    {
     "data": {
      "text/plain": [
       "False"
      ]
     },
     "execution_count": 296,
     "metadata": {},
     "output_type": "execute_result"
    }
   ],
   "source": [
    "isinstance('0', int)"
   ]
  },
  {
   "cell_type": "markdown",
   "metadata": {
    "hidden": true
   },
   "source": [
    "### Exercices"
   ]
  },
  {
   "cell_type": "markdown",
   "metadata": {
    "hidden": true
   },
   "source": [
    "- Afficher les types des variables suivante"
   ]
  },
  {
   "cell_type": "code",
   "execution_count": 401,
   "metadata": {
    "hidden": true
   },
   "outputs": [],
   "source": [
    "entier = 3\n",
    "reel = 1.54\n",
    "mot = 'mot'"
   ]
  },
  {
   "cell_type": "markdown",
   "metadata": {
    "hidden": true
   },
   "source": [
    "- Vérifier que *`reel`* est bien un float"
   ]
  },
  {
   "cell_type": "code",
   "execution_count": 298,
   "metadata": {
    "hidden": true
   },
   "outputs": [
    {
     "data": {
      "text/plain": [
       "True"
      ]
     },
     "execution_count": 298,
     "metadata": {},
     "output_type": "execute_result"
    }
   ],
   "source": [
    "isinstance(reel, float)"
   ]
  },
  {
   "cell_type": "markdown",
   "metadata": {
    "hidden": true
   },
   "source": [
    "- Convertissez *`entier`* en `string`"
   ]
  },
  {
   "cell_type": "code",
   "execution_count": 299,
   "metadata": {
    "hidden": true
   },
   "outputs": [
    {
     "data": {
      "text/plain": [
       "'3'"
      ]
     },
     "execution_count": 299,
     "metadata": {},
     "output_type": "execute_result"
    }
   ],
   "source": [
    "str(entier)"
   ]
  },
  {
   "cell_type": "markdown",
   "metadata": {
    "heading_collapsed": true
   },
   "source": [
    "# Itérables de bases"
   ]
  },
  {
   "cell_type": "markdown",
   "metadata": {
    "hidden": true
   },
   "source": [
    "Un itérable est un objet séquentiel que l'on peut parcourir élément par élément à l'aide d'une boucle for :\n",
    "\n",
    "<pre><code>\n",
    "<b>for</b> <i>toto</i> in <b>itérable</b>:\n",
    "    ... <i>toto</i> ...\n",
    "</pre>\n",
    "\n",
    "Les listes, les tuples, les ensembles, les strings et les dictionnaires sont des itérables."
   ]
  },
  {
   "cell_type": "markdown",
   "metadata": {
    "heading_collapsed": true,
    "hidden": true
   },
   "source": [
    "## Listes"
   ]
  },
  {
   "cell_type": "markdown",
   "metadata": {},
   "source": [
    "### Principe"
   ]
  },
  {
   "cell_type": "markdown",
   "metadata": {
    "hidden": true
   },
   "source": [
    "Les listes python permettent de stocker une série d'éléments qui peuvent être de type différent. Prenons un exemple de liste de chaînes de charactères :\n",
    "```\n",
    "[“Bonjour”, “Je”, “Christophe”, “m’appelle”]\n",
    "```"
   ]
  },
  {
   "cell_type": "markdown",
   "metadata": {
    "hidden": true
   },
   "source": [
    "### Exercices"
   ]
  },
  {
   "cell_type": "markdown",
   "metadata": {
    "hidden": true
   },
   "source": [
    "- Stockez cette liste dans une variable qu’on appellera `Christophe`\n",
    "- Affichez chacun des items de la liste à l'aide d'une boucle `for`"
   ]
  },
  {
   "cell_type": "code",
   "execution_count": 301,
   "metadata": {
    "hidden": true
   },
   "outputs": [
    {
     "name": "stdout",
     "output_type": "stream",
     "text": [
      "Bonjour\n",
      "Je\n",
      "Christophe\n",
      "m'appelle\n"
     ]
    }
   ],
   "source": [
    "Christophe = [\"Bonjour\", \"Je\", \"Christophe\", \"m'appelle\"]\n",
    "for mot in Christophe:\n",
    "    print(mot)"
   ]
  },
  {
   "cell_type": "markdown",
   "metadata": {},
   "source": [
    "### Manipulations de listes"
   ]
  },
  {
   "cell_type": "markdown",
   "metadata": {
    "hidden": true
   },
   "source": [
    "**`maliste[i]`**\n",
    "> Renvoie le i-ème élément de la liste. **Attention, l'indexation des listes commence à 0 en Python !**"
   ]
  },
  {
   "cell_type": "markdown",
   "metadata": {
    "hidden": true
   },
   "source": [
    "**`maliste[-n]`**\n",
    "> Slicing négatif : nième élément en partant de la fin.\n",
    "\n",
    "<img src=\"ressource/slice_2.png\" style=\"height:180px\"/>"
   ]
  },
  {
   "cell_type": "markdown",
   "metadata": {
    "hidden": true
   },
   "source": [
    "**`len(maliste)`**\n",
    "> Renvoie le nombre d'éléments de la liste"
   ]
  },
  {
   "cell_type": "markdown",
   "metadata": {
    "hidden": true
   },
   "source": [
    "**`maliste[ début : fin ]`**\n",
    "> Slicing classique\n",
    "\n",
    "<img src=\"ressource/slice_1.png\" style=\"height:100px\"/>\n",
    "\n",
    "> On peut omettre un élément, il prend alors comme valeur par défaut :\n",
    "- **début** : 0\n",
    "- **fin** : len(maliste)\n",
    ">\n",
    "> Ainsi `maliste[2:]` prend toute la liste sauf les deux premiers éléments, tandis que `maliste[:-1]` enlève le dernier élément."
   ]
  },
  {
   "cell_type": "markdown",
   "metadata": {
    "hidden": true
   },
   "source": [
    "**`maliste[ début : fin : s]`**\n",
    "> Slicing par pas : Tous les s éléments.\n",
    "\n",
    "<img src=\"ressource/slice_3.png\" style=\"height:110px\"/>"
   ]
  },
  {
   "cell_type": "markdown",
   "metadata": {
    "hidden": true
   },
   "source": [
    "**`maliste.append(x)`**\n",
    "> Ajoute un élément à la fin de la liste ; équivalent à `a[len(a)] = [x]`."
   ]
  },
  {
   "cell_type": "markdown",
   "metadata": {},
   "source": [
    "**`maliste.insert(x, i)`**\n",
    "> Insère `x` à l'indice `i` et décale les éléments suivants"
   ]
  },
  {
   "cell_type": "markdown",
   "metadata": {},
   "source": [
    "**`maliste.pop(i)`**\n",
    "> Enlève l'élément à l'indice `i` et avance les éléments suivants "
   ]
  },
  {
   "cell_type": "markdown",
   "metadata": {
    "hidden": true
   },
   "source": [
    "**`maliste1 + maliste2`**\n",
    "> Concaténation de `maliste1` et `maliste2`\n",
    "\n",
    "> Cela signifie que `[1, 2, 3] + [4, 5, 6]` ne fait pas la somme des éléments mais donne `[1, 2, 3, 4, 5, 6]`. Python ne fait pas de calcul matriciel avec les listes !"
   ]
  },
  {
   "cell_type": "markdown",
   "metadata": {
    "hidden": true
   },
   "source": [
    "**`n * maliste`**\n",
    "> Répète n fois `maliste`. Par exemple : `2 * [0,1] = [0, 1, 0, 1]`"
   ]
  },
  {
   "cell_type": "markdown",
   "metadata": {
    "hidden": true
   },
   "source": [
    "**`element in maliste`**\n",
    "> Le mot-clé **`in`** permet de tester si une valeur se trouve dans une liste (ou de manière générale, un itérable)."
   ]
  },
  {
   "cell_type": "markdown",
   "metadata": {
    "hidden": true
   },
   "source": [
    "Plus d'aide : \n",
    "https://docs.python.org/fr/3/tutorial/datastructures.html\n",
    "https://zestedesavoir.com/tutoriels/582/les-slices-en-python/"
   ]
  },
  {
   "cell_type": "markdown",
   "metadata": {
    "heading_collapsed": true,
    "hidden": true
   },
   "source": [
    "### Exercices"
   ]
  },
  {
   "cell_type": "markdown",
   "metadata": {},
   "source": [
    "**Exercice n°1**"
   ]
  },
  {
   "cell_type": "markdown",
   "metadata": {},
   "source": [
    "Voici une liste contenant toutes les lettres de l'alphabet"
   ]
  },
  {
   "cell_type": "code",
   "execution_count": 302,
   "metadata": {},
   "outputs": [],
   "source": [
    "alphabet = ['a', 'b', 'c', 'd', 'e', 'f', 'g', 'h', 'i', 'j', 'k', 'l', 'm', 'n', 'o', 'p', 'q', 'r', 's', 't', 'u', 'v', 'w', 'x', 'y', 'z']"
   ]
  },
  {
   "cell_type": "markdown",
   "metadata": {},
   "source": [
    "- Sélectionner les 5 premières lettres"
   ]
  },
  {
   "cell_type": "code",
   "execution_count": 303,
   "metadata": {},
   "outputs": [
    {
     "data": {
      "text/plain": [
       "['a', 'b', 'c', 'd', 'e']"
      ]
     },
     "execution_count": 303,
     "metadata": {},
     "output_type": "execute_result"
    }
   ],
   "source": [
    "alphabet[:5]"
   ]
  },
  {
   "cell_type": "markdown",
   "metadata": {},
   "source": [
    "- Sélectionner les 3 dernières lettres"
   ]
  },
  {
   "cell_type": "code",
   "execution_count": 304,
   "metadata": {},
   "outputs": [
    {
     "data": {
      "text/plain": [
       "['x', 'y', 'z']"
      ]
     },
     "execution_count": 304,
     "metadata": {},
     "output_type": "execute_result"
    }
   ],
   "source": [
    "alphabet[-3:]"
   ]
  },
  {
   "cell_type": "markdown",
   "metadata": {},
   "source": [
    "- Parmi les 5 premières lettres, sélectionner une sur deux"
   ]
  },
  {
   "cell_type": "code",
   "execution_count": 305,
   "metadata": {},
   "outputs": [
    {
     "data": {
      "text/plain": [
       "['a', 'c', 'e']"
      ]
     },
     "execution_count": 305,
     "metadata": {},
     "output_type": "execute_result"
    }
   ],
   "source": [
    "alphabet[:5:2]"
   ]
  },
  {
   "cell_type": "markdown",
   "metadata": {},
   "source": [
    "- Réciter l'alphabet à l'envers"
   ]
  },
  {
   "cell_type": "code",
   "execution_count": 306,
   "metadata": {},
   "outputs": [
    {
     "data": {
      "text/plain": [
       "['z',\n",
       " 'y',\n",
       " 'x',\n",
       " 'w',\n",
       " 'v',\n",
       " 'u',\n",
       " 't',\n",
       " 's',\n",
       " 'r',\n",
       " 'q',\n",
       " 'p',\n",
       " 'o',\n",
       " 'n',\n",
       " 'm',\n",
       " 'l',\n",
       " 'k',\n",
       " 'j',\n",
       " 'i',\n",
       " 'h',\n",
       " 'g',\n",
       " 'f',\n",
       " 'e',\n",
       " 'd',\n",
       " 'c',\n",
       " 'b',\n",
       " 'a']"
      ]
     },
     "execution_count": 306,
     "metadata": {},
     "output_type": "execute_result"
    }
   ],
   "source": [
    "alphabet[::-1]"
   ]
  },
  {
   "cell_type": "markdown",
   "metadata": {},
   "source": [
    "- La lettre `é` est-elle dans la liste ?"
   ]
  },
  {
   "cell_type": "code",
   "execution_count": 307,
   "metadata": {},
   "outputs": [
    {
     "data": {
      "text/plain": [
       "False"
      ]
     },
     "execution_count": 307,
     "metadata": {},
     "output_type": "execute_result"
    }
   ],
   "source": [
    "\"é\" in alphabet"
   ]
  },
  {
   "cell_type": "markdown",
   "metadata": {},
   "source": [
    "**Exercice n°2**"
   ]
  },
  {
   "cell_type": "code",
   "execution_count": 308,
   "metadata": {
    "hidden": true
   },
   "outputs": [],
   "source": [
    "Christophe = [\"Bonjour\", \"Je\", \"Christophe\", \"m'appelle\"]"
   ]
  },
  {
   "cell_type": "markdown",
   "metadata": {
    "hidden": true
   },
   "source": [
    "On a un problème avec cette phrase, deux mots sont inversés. Trouvez un moyen d’inverser le dernier item avec l’avant dernier, en utilisant `pop`."
   ]
  },
  {
   "cell_type": "code",
   "execution_count": 309,
   "metadata": {
    "hidden": true,
    "scrolled": true
   },
   "outputs": [
    {
     "name": "stdout",
     "output_type": "stream",
     "text": [
      "Bonjour\n",
      "Je\n",
      "m'appelle\n",
      "Christophe\n"
     ]
    }
   ],
   "source": [
    "prenom = Christophe.pop(2)\n",
    "Christophe.append(prenom)\n",
    "for mot in Christophe:\n",
    "    print(mot)"
   ]
  },
  {
   "cell_type": "markdown",
   "metadata": {
    "heading_collapsed": true,
    "hidden": true
   },
   "source": [
    "### Remarque sur copy()"
   ]
  },
  {
   "cell_type": "markdown",
   "metadata": {
    "hidden": true
   },
   "source": [
    "Attardons nous maintenant sur le concept de référence. En effet, une liste python ne contient pas des éléments mais des références (adresses mémoires) vers ces éléments. C'est ce qui rend leur usage si flexible : vous pouvez avoir une liste qui contient des entiers, des strings, et même des instances de classe. \n",
    "\n",
    "Cette organisation cause souvent, chez le pythoniste débutant, un trouble existentiel. En effet :"
   ]
  },
  {
   "cell_type": "code",
   "execution_count": 310,
   "metadata": {
    "hidden": true
   },
   "outputs": [],
   "source": [
    "# Ma 1ère liste contient 1, 2, 3, 4\n",
    "list1 = [1, 2, 3, 4]"
   ]
  },
  {
   "cell_type": "code",
   "execution_count": 311,
   "metadata": {
    "hidden": true
   },
   "outputs": [],
   "source": [
    "# Je définis ma 2ème liste comme égale à la première\n",
    "list2 = list1"
   ]
  },
  {
   "cell_type": "code",
   "execution_count": 312,
   "metadata": {
    "hidden": true
   },
   "outputs": [],
   "source": [
    "# Je modifie ma première liste\n",
    "list1[0] = 10"
   ]
  },
  {
   "cell_type": "code",
   "execution_count": 313,
   "metadata": {
    "hidden": true
   },
   "outputs": [
    {
     "name": "stdout",
     "output_type": "stream",
     "text": [
      "[10, 2, 3, 4]\n",
      "Fichtre, la liste 2 a été modifiée aussi...\n"
     ]
    }
   ],
   "source": [
    "print(list2)\n",
    "print('Fichtre, la liste 2 a été modifiée aussi...')"
   ]
  },
  {
   "cell_type": "code",
   "execution_count": 314,
   "metadata": {
    "hidden": true
   },
   "outputs": [
    {
     "name": "stdout",
     "output_type": "stream",
     "text": [
      "[10, 2, 3, -10]\n",
      "Diantre, la liste 1 a été modifiée aussi...\n"
     ]
    }
   ],
   "source": [
    "# Et maintenant si je modifie la liste 2\n",
    "list2[-1] = -10\n",
    "print(list1)\n",
    "print('Diantre, la liste 1 a été modifiée aussi...')"
   ]
  },
  {
   "cell_type": "markdown",
   "metadata": {
    "hidden": true
   },
   "source": [
    "Lorsque vous executez `list2 = list1`, vous stockez dans la variable `list2`les références vers les objets de `list1`. De fait, lorsque vous modifiez les objets eux-mêmes, les références de `list1`et de `list2` pointent toutes les deux vers les nouveaux objets. \n",
    "\n",
    "**Pour pallier ce problème, on peut utiliser la fonction `copy()`**\n",
    "https://docs.python.org/3/library/copy.html"
   ]
  },
  {
   "cell_type": "code",
   "execution_count": 315,
   "metadata": {
    "hidden": true,
    "scrolled": true
   },
   "outputs": [
    {
     "name": "stdout",
     "output_type": "stream",
     "text": [
      "list1 [10, 2, 3, 4]\n",
      "list2 [1, 2, 3, -10]\n"
     ]
    }
   ],
   "source": [
    "list1 = [1, 2, 3, 4]\n",
    "list2 = list1.copy()\n",
    "list1[0] = 10\n",
    "list2[-1] = -10\n",
    "print('list1', list1)\n",
    "print('list2', list2)"
   ]
  },
  {
   "cell_type": "markdown",
   "metadata": {
    "heading_collapsed": true
   },
   "source": [
    "## Compréhension de liste"
   ]
  },
  {
   "cell_type": "markdown",
   "metadata": {
    "hidden": true
   },
   "source": [
    "### Syntaxe"
   ]
  },
  {
   "cell_type": "markdown",
   "metadata": {
    "hidden": true
   },
   "source": [
    "**`list2 = [n*2 for n in list1]`**\n",
    "\n",
    "> `list2` contient chaque élément de `list1` multiplié par 2."
   ]
  },
  {
   "cell_type": "markdown",
   "metadata": {
    "hidden": true
   },
   "source": [
    "La compréhension de liste est une expression qui permet de construire une liste à partir de tout autre type itérable (liste, tuple, chaîne de caractères…) en une ligne. Le résultat obtenu est toujours une liste."
   ]
  },
  {
   "cell_type": "markdown",
   "metadata": {
    "hidden": true
   },
   "source": [
    "### Exercice"
   ]
  },
  {
   "cell_type": "markdown",
   "metadata": {
    "hidden": true
   },
   "source": [
    "- Calculez les carrés des entiers de 1 à 10"
   ]
  },
  {
   "cell_type": "code",
   "execution_count": 316,
   "metadata": {
    "hidden": true
   },
   "outputs": [
    {
     "data": {
      "text/plain": [
       "[1, 4, 9, 16, 25, 36, 49, 64, 81, 100]"
      ]
     },
     "execution_count": 316,
     "metadata": {},
     "output_type": "execute_result"
    }
   ],
   "source": [
    "[ n**2 for n in range(1,11) ]"
   ]
  },
  {
   "cell_type": "markdown",
   "metadata": {
    "hidden": true
   },
   "source": [
    "- Maintenant calculez leur somme en utilisant la fonction `sum`"
   ]
  },
  {
   "cell_type": "code",
   "execution_count": 317,
   "metadata": {
    "hidden": true,
    "scrolled": true
   },
   "outputs": [
    {
     "data": {
      "text/plain": [
       "385"
      ]
     },
     "execution_count": 317,
     "metadata": {},
     "output_type": "execute_result"
    }
   ],
   "source": [
    "sum( [ n**2 for n in range(1,11) ] )"
   ]
  },
  {
   "cell_type": "markdown",
   "metadata": {
    "hidden": true
   },
   "source": [
    "### Condition"
   ]
  },
  {
   "cell_type": "markdown",
   "metadata": {
    "hidden": true
   },
   "source": [
    "Les compréhensions de liste peuvent aussi impliquer une condition **`if`**"
   ]
  },
  {
   "cell_type": "code",
   "execution_count": 318,
   "metadata": {
    "hidden": true
   },
   "outputs": [
    {
     "data": {
      "text/plain": [
       "[0, 2, 4, 6, 8, 10, 12, 14, 16, 18]"
      ]
     },
     "execution_count": 318,
     "metadata": {},
     "output_type": "execute_result"
    }
   ],
   "source": [
    "[entier for entier in range(20) if entier%2==0]"
   ]
  },
  {
   "cell_type": "markdown",
   "metadata": {
    "hidden": true
   },
   "source": [
    "### Exercice"
   ]
  },
  {
   "cell_type": "markdown",
   "metadata": {},
   "source": [
    "- La somme des nombres impairs inférieurs à n est égal à $(n/2)^2$. Le vérifier pour $n=20$."
   ]
  },
  {
   "cell_type": "code",
   "execution_count": 319,
   "metadata": {},
   "outputs": [
    {
     "data": {
      "text/plain": [
       "100"
      ]
     },
     "execution_count": 319,
     "metadata": {},
     "output_type": "execute_result"
    }
   ],
   "source": [
    "sum([n for n in range(20) if n%2==1])"
   ]
  },
  {
   "cell_type": "markdown",
   "metadata": {
    "hidden": true
   },
   "source": [
    "- Décrire en compréhension la liste des nombres inférieurs à 20 qui sont multiples, ou bien de 5, ou bien de 7."
   ]
  },
  {
   "cell_type": "code",
   "execution_count": 320,
   "metadata": {
    "hidden": true
   },
   "outputs": [
    {
     "data": {
      "text/plain": [
       "[0, 5, 7, 10, 14, 15]"
      ]
     },
     "execution_count": 320,
     "metadata": {},
     "output_type": "execute_result"
    }
   ],
   "source": [
    "[n for n in range(20) if n%5==0 or n%7==0]"
   ]
  },
  {
   "cell_type": "markdown",
   "metadata": {
    "hidden": true
   },
   "source": [
    "- Même exercice pour les nombres multiples de 5 ou de 7 mais pas de 15."
   ]
  },
  {
   "cell_type": "code",
   "execution_count": 321,
   "metadata": {
    "hidden": true
   },
   "outputs": [
    {
     "data": {
      "text/plain": [
       "[5, 7, 10, 14]"
      ]
     },
     "execution_count": 321,
     "metadata": {},
     "output_type": "execute_result"
    }
   ],
   "source": [
    "[n for n in range(20) if (n%5==0 or n%7==0) and n%15!=0]"
   ]
  },
  {
   "cell_type": "markdown",
   "metadata": {
    "heading_collapsed": true,
    "hidden": true
   },
   "source": [
    "## String"
   ]
  },
  {
   "cell_type": "markdown",
   "metadata": {
    "hidden": true
   },
   "source": [
    "En Python, les strings sont manipulables comme des listes de charactères."
   ]
  },
  {
   "cell_type": "code",
   "execution_count": 322,
   "metadata": {
    "hidden": true
   },
   "outputs": [
    {
     "data": {
      "text/plain": [
       "'cordel'"
      ]
     },
     "execution_count": 322,
     "metadata": {},
     "output_type": "execute_result"
    }
   ],
   "source": [
    "S = 'cordel'\n",
    "S"
   ]
  },
  {
   "cell_type": "markdown",
   "metadata": {},
   "source": [
    "On peut notamment accéder aux caractères individuellement :"
   ]
  },
  {
   "cell_type": "code",
   "execution_count": 323,
   "metadata": {
    "hidden": true
   },
   "outputs": [
    {
     "data": {
      "text/plain": [
       "'c'"
      ]
     },
     "execution_count": 323,
     "metadata": {},
     "output_type": "execute_result"
    }
   ],
   "source": [
    "S[0]"
   ]
  },
  {
   "cell_type": "code",
   "execution_count": 324,
   "metadata": {},
   "outputs": [
    {
     "name": "stdout",
     "output_type": "stream",
     "text": [
      "c\n",
      "o\n",
      "r\n",
      "d\n",
      "e\n",
      "l\n"
     ]
    }
   ],
   "source": [
    "for lettre in S:\n",
    "    print(lettre)"
   ]
  },
  {
   "cell_type": "markdown",
   "metadata": {},
   "source": [
    "### Manipulations de string"
   ]
  },
  {
   "cell_type": "markdown",
   "metadata": {},
   "source": [
    "**`machaine.split(c)`**\n",
    "> Sépare `machaine` en utilisant le (ou les) caractères `c` comme séparateur."
   ]
  },
  {
   "cell_type": "markdown",
   "metadata": {},
   "source": [
    "**`c.join(maliste)`**\n",
    "> Rassemble `maliste` en utilisant la chaîne `c` comme séparateur"
   ]
  },
  {
   "cell_type": "markdown",
   "metadata": {},
   "source": [
    "**`machaine.lower()`**\n",
    "> Met tous les charactères de `machaine` en minuscule."
   ]
  },
  {
   "cell_type": "markdown",
   "metadata": {},
   "source": [
    "**`machaine.replace(a, b)`**\n",
    "> Remplace les caractères donnés par `a` par ceux donnés par `b` dans `machaine`"
   ]
  },
  {
   "cell_type": "markdown",
   "metadata": {},
   "source": [
    "### Exercices"
   ]
  },
  {
   "cell_type": "markdown",
   "metadata": {},
   "source": [
    "- Écrire une fonction `nombreOcurrences(x, mot)` qui prend en argument un caractère `x` et une chaîne de caractère `mot` et qui renvoie le nombre de fois où le caractère `x` est présent dans `mot`. Par exemple, si `mot` est `'java'`, `nombreOcurrences(’a’, mot)` vaut 2"
   ]
  },
  {
   "cell_type": "code",
   "execution_count": 325,
   "metadata": {},
   "outputs": [],
   "source": [
    "def nombreOcurrences(x, mot):\n",
    "    return sum([c == x for c in mot])"
   ]
  },
  {
   "cell_type": "code",
   "execution_count": 326,
   "metadata": {},
   "outputs": [
    {
     "data": {
      "text/plain": [
       "2"
      ]
     },
     "execution_count": 326,
     "metadata": {},
     "output_type": "execute_result"
    }
   ],
   "source": [
    "nombreOcurrences('a', 'java')"
   ]
  },
  {
   "cell_type": "markdown",
   "metadata": {},
   "source": [
    "- Écrire une fonction `premierMot(chaine)` qui renvoie le premier mot d’une chaîne de caractère. Par exemple si ma chaîne est `\"samedi soir, je vais au cinéma\"`, on renverra `\"samedi\"`."
   ]
  },
  {
   "cell_type": "code",
   "execution_count": 327,
   "metadata": {},
   "outputs": [],
   "source": [
    "def premierMot(chaine):\n",
    "    return chaine.split(' ')[0]"
   ]
  },
  {
   "cell_type": "code",
   "execution_count": 328,
   "metadata": {},
   "outputs": [
    {
     "data": {
      "text/plain": [
       "'samedi'"
      ]
     },
     "execution_count": 328,
     "metadata": {},
     "output_type": "execute_result"
    }
   ],
   "source": [
    "premierMot(\"samedi soir, je vais au cinéma\")"
   ]
  },
  {
   "cell_type": "markdown",
   "metadata": {},
   "source": [
    "- Remplacer les `\\\\` par des `/` dans la chaîne suivante :"
   ]
  },
  {
   "cell_type": "code",
   "execution_count": 329,
   "metadata": {},
   "outputs": [],
   "source": [
    "chemin = \"C:\\\\Users\\\\Quentin\\\\Documents\\\\Perso\\\\Ne pas ouvrir\\\\francois.jpg\""
   ]
  },
  {
   "cell_type": "code",
   "execution_count": 330,
   "metadata": {},
   "outputs": [
    {
     "data": {
      "text/plain": [
       "'C:/Users/Quentin/Documents/Perso/Ne pas ouvrir/francois.jpg'"
      ]
     },
     "execution_count": 330,
     "metadata": {},
     "output_type": "execute_result"
    }
   ],
   "source": [
    "chemin.replace('\\\\', '/')"
   ]
  },
  {
   "cell_type": "markdown",
   "metadata": {
    "heading_collapsed": true,
    "hidden": true
   },
   "source": [
    "## Les dictionnaires"
   ]
  },
  {
   "cell_type": "markdown",
   "metadata": {
    "hidden": true
   },
   "source": [
    "```\n",
    "D = {\n",
    "    clé1 : valeur1,\n",
    "    clé2 : valeur2,\n",
    "}\n",
    "```"
   ]
  },
  {
   "cell_type": "markdown",
   "metadata": {
    "hidden": true
   },
   "source": [
    "Les dictionnaires sont des objets pouvant en contenir d'autres, à l'instar des listes. Cependant, au lieu d'héberger des informations dans un ordre précis, **ils associent chaque objet contenu à une clé** (la plupart du temps, une chaîne de caractères). Par exemple, un dictionnaire peut contenir un carnet d'adresses et on accède à chaque contact en précisant son nom."
   ]
  },
  {
   "cell_type": "markdown",
   "metadata": {
    "hidden": true
   },
   "source": [
    "- Créer un dictionnaire avec les couples clés-valeurs suivants:  \n",
    "('Batman','Robin')  \n",
    "('Harley Quinn','Poison Ivy')  \n",
    "('Iron man','War machine')  \n",
    "('Phenix','Cyclope')"
   ]
  },
  {
   "cell_type": "code",
   "execution_count": 331,
   "metadata": {
    "hidden": true
   },
   "outputs": [
    {
     "data": {
      "text/plain": [
       "{'Batman': 'Robin',\n",
       " 'Harley Quinn': 'Poison Ivy',\n",
       " 'Iron man': 'War machine',\n",
       " 'Phenix': 'Cyclope'}"
      ]
     },
     "execution_count": 331,
     "metadata": {},
     "output_type": "execute_result"
    }
   ],
   "source": [
    "dico_duo = {\n",
    "    'Batman':'Robin',\n",
    "    'Harley Quinn':'Poison Ivy',\n",
    "    'Iron man':'War machine',\n",
    "    'Phenix':'Cyclope'\n",
    "}\n",
    "dico_duo"
   ]
  },
  {
   "cell_type": "markdown",
   "metadata": {},
   "source": [
    "On peut accéder aux éléments en précisant la clé entre crochets :"
   ]
  },
  {
   "cell_type": "code",
   "execution_count": 332,
   "metadata": {},
   "outputs": [
    {
     "data": {
      "text/plain": [
       "'Robin'"
      ]
     },
     "execution_count": 332,
     "metadata": {},
     "output_type": "execute_result"
    }
   ],
   "source": [
    "dico_duo['Batman']"
   ]
  },
  {
   "cell_type": "markdown",
   "metadata": {
    "hidden": true
   },
   "source": [
    "### Exercices"
   ]
  },
  {
   "cell_type": "markdown",
   "metadata": {
    "hidden": true
   },
   "source": [
    "- Accéder au partenaire de `'Phenix'` en utilisant les `[]`"
   ]
  },
  {
   "cell_type": "code",
   "execution_count": 333,
   "metadata": {
    "hidden": true
   },
   "outputs": [
    {
     "data": {
      "text/plain": [
       "'Cyclope'"
      ]
     },
     "execution_count": 333,
     "metadata": {},
     "output_type": "execute_result"
    }
   ],
   "source": [
    "dico_duo['Phenix']"
   ]
  },
  {
   "cell_type": "markdown",
   "metadata": {
    "hidden": true
   },
   "source": [
    "- Remplacer la valeur associée à la clé `'Phenix'` par `'Jean Grey'`"
   ]
  },
  {
   "cell_type": "code",
   "execution_count": 334,
   "metadata": {
    "hidden": true
   },
   "outputs": [
    {
     "data": {
      "text/plain": [
       "{'Batman': 'Robin',\n",
       " 'Harley Quinn': 'Poison Ivy',\n",
       " 'Iron man': 'War machine',\n",
       " 'Phenix': 'Jean Grey'}"
      ]
     },
     "execution_count": 334,
     "metadata": {},
     "output_type": "execute_result"
    }
   ],
   "source": [
    "dico_duo['Phenix'] = 'Jean Grey'\n",
    "dico_duo"
   ]
  },
  {
   "cell_type": "markdown",
   "metadata": {
    "hidden": true
   },
   "source": [
    "- Ajouter le duo `'Ant man'` et `'The Wasp'` au dictionnaire"
   ]
  },
  {
   "cell_type": "code",
   "execution_count": 335,
   "metadata": {
    "hidden": true
   },
   "outputs": [
    {
     "data": {
      "text/plain": [
       "{'Batman': 'Robin',\n",
       " 'Harley Quinn': 'Poison Ivy',\n",
       " 'Iron man': 'War machine',\n",
       " 'Phenix': 'Jean Grey',\n",
       " 'Ant man': 'The Wasp'}"
      ]
     },
     "execution_count": 335,
     "metadata": {},
     "output_type": "execute_result"
    }
   ],
   "source": [
    "dico_duo['Ant man'] = 'The Wasp'\n",
    "dico_duo"
   ]
  },
  {
   "cell_type": "markdown",
   "metadata": {
    "heading_collapsed": true
   },
   "source": [
    "# Manipulation de dictionnaires"
   ]
  },
  {
   "cell_type": "markdown",
   "metadata": {},
   "source": [
    "**`k in dict`**\n",
    "\n",
    "> Vérifie si la clé `k` est présente dans le dictionnaire"
   ]
  },
  {
   "cell_type": "markdown",
   "metadata": {
    "hidden": true
   },
   "source": [
    "**`for k in dict:`**\n",
    "\n",
    "> Lorsqu'on itère sur un dictionnaire, on incrémente la clé. Pour obtenir la valeur, il suffit de faire `dict[k]` dans la boucle."
   ]
  },
  {
   "cell_type": "code",
   "execution_count": 336,
   "metadata": {},
   "outputs": [
    {
     "name": "stdout",
     "output_type": "stream",
     "text": [
      "Batman and Robin\n",
      "Harley Quinn and Poison Ivy\n",
      "Iron man and War machine\n",
      "Phenix and Jean Grey\n",
      "Ant man and The Wasp\n"
     ]
    }
   ],
   "source": [
    "for k in dico_duo:\n",
    "    print(k, 'and', dico_duo[k])"
   ]
  },
  {
   "cell_type": "markdown",
   "metadata": {
    "hidden": true
   },
   "source": [
    "**`dict.items()`**\n",
    "\n",
    "> La fonction `items()` renvoie les couples (clé, valeur) du dictionnaire. Il est possible d'itérer dessus de la manière suivante : `for k,v in dict.items()`"
   ]
  },
  {
   "cell_type": "code",
   "execution_count": 337,
   "metadata": {},
   "outputs": [
    {
     "name": "stdout",
     "output_type": "stream",
     "text": [
      "Batman and Robin\n",
      "Harley Quinn and Poison Ivy\n",
      "Iron man and War machine\n",
      "Phenix and Jean Grey\n",
      "Ant man and The Wasp\n"
     ]
    }
   ],
   "source": [
    "for k, v in dico_duo.items():\n",
    "    print(k, 'and', v)"
   ]
  },
  {
   "cell_type": "markdown",
   "metadata": {
    "hidden": true
   },
   "source": [
    "**`dict.values()`**\n",
    "\n",
    "> La fonction `values()` renvoie les valeurs du dictionnaire."
   ]
  },
  {
   "cell_type": "markdown",
   "metadata": {
    "hidden": true
   },
   "source": [
    "### Exercices"
   ]
  },
  {
   "cell_type": "code",
   "execution_count": 338,
   "metadata": {
    "hidden": true
   },
   "outputs": [],
   "source": [
    "d = {'nom': 'Dupuis', 'prenom': 'Jacques', 'age': 30}"
   ]
  },
  {
   "cell_type": "markdown",
   "metadata": {
    "hidden": true
   },
   "source": [
    "- Vérifiez si la valeur 30 est dans le dictionnaire `d`"
   ]
  },
  {
   "cell_type": "code",
   "execution_count": 339,
   "metadata": {
    "hidden": true
   },
   "outputs": [
    {
     "data": {
      "text/plain": [
       "True"
      ]
     },
     "execution_count": 339,
     "metadata": {},
     "output_type": "execute_result"
    }
   ],
   "source": [
    "30 in d.values()"
   ]
  },
  {
   "cell_type": "markdown",
   "metadata": {},
   "source": [
    "- Afficher les clés pour lesquelles la valeur est une chaîne de caractères"
   ]
  },
  {
   "cell_type": "code",
   "execution_count": 340,
   "metadata": {},
   "outputs": [
    {
     "name": "stdout",
     "output_type": "stream",
     "text": [
      "nom\n",
      "prenom\n"
     ]
    }
   ],
   "source": [
    "for k, v in d.items():\n",
    "    if isinstance(v, str):\n",
    "        print(k)"
   ]
  },
  {
   "cell_type": "markdown",
   "metadata": {
    "heading_collapsed": true,
    "hidden": true
   },
   "source": [
    "## Dict comprehension"
   ]
  },
  {
   "cell_type": "markdown",
   "metadata": {
    "hidden": true
   },
   "source": [
    "La compréhension de dictionnaire est similaire à la compréhension de liste, à la différence près que les `[]`sont remplacés par des `{}` et que l'expression doit comporter `<clé>:<valeur>`. Cela permet donc de créer un dictionnaire rapidement."
   ]
  },
  {
   "cell_type": "code",
   "execution_count": 341,
   "metadata": {
    "hidden": true,
    "scrolled": true
   },
   "outputs": [
    {
     "data": {
      "text/plain": [
       "{'1': 1, '2': 2, '3': 3, '4': 4, '5': 5}"
      ]
     },
     "execution_count": 341,
     "metadata": {},
     "output_type": "execute_result"
    }
   ],
   "source": [
    "{str(i):i for i in [1,2,3,4,5]}"
   ]
  },
  {
   "cell_type": "markdown",
   "metadata": {
    "hidden": true
   },
   "source": [
    "### Exercice"
   ]
  },
  {
   "cell_type": "markdown",
   "metadata": {
    "hidden": true
   },
   "source": [
    "- À partir de la liste de fruits définie ci-dessous, créer un dictionnaire dont les clefs sont les fruits (strings) et les valeurs sont les longueurs de chaînes de caractère de chaque fruit."
   ]
  },
  {
   "cell_type": "code",
   "execution_count": 342,
   "metadata": {
    "hidden": true
   },
   "outputs": [],
   "source": [
    "fruits = ['apple', 'mango', 'banana','cherry']"
   ]
  },
  {
   "cell_type": "code",
   "execution_count": 343,
   "metadata": {
    "hidden": true,
    "scrolled": false
   },
   "outputs": [
    {
     "data": {
      "text/plain": [
       "{'apple': 5, 'mango': 5, 'banana': 6, 'cherry': 6}"
      ]
     },
     "execution_count": 343,
     "metadata": {},
     "output_type": "execute_result"
    }
   ],
   "source": [
    "\n",
    "{f:len(f) for f in fruits}"
   ]
  },
  {
   "cell_type": "markdown",
   "metadata": {
    "heading_collapsed": true,
    "hidden": true
   },
   "source": [
    "## Les tuples"
   ]
  },
  {
   "cell_type": "markdown",
   "metadata": {
    "hidden": true
   },
   "source": [
    "Les tuples sont des listes immutables, c'est-à-dire que leurs valeurs ne peuvent pas être modifiées. Leur définition se fait avec `()` et leur manipulation est similaire à celle des listes."
   ]
  },
  {
   "cell_type": "code",
   "execution_count": 344,
   "metadata": {
    "hidden": true,
    "scrolled": true
   },
   "outputs": [
    {
     "name": "stdout",
     "output_type": "stream",
     "text": [
      "riri\n",
      "fifi\n",
      "loulou\n"
     ]
    }
   ],
   "source": [
    "ducks = ('riri', 'fifi', 'loulou')\n",
    "\n",
    "for d in ducks:\n",
    "    print(d)"
   ]
  },
  {
   "cell_type": "markdown",
   "metadata": {
    "hidden": true
   },
   "source": [
    "### Exercice"
   ]
  },
  {
   "cell_type": "markdown",
   "metadata": {
    "hidden": true
   },
   "source": [
    "- Accédez au deuxième élément du tuple (indice 1)"
   ]
  },
  {
   "cell_type": "code",
   "execution_count": 345,
   "metadata": {
    "hidden": true
   },
   "outputs": [
    {
     "data": {
      "text/plain": [
       "'fifi'"
      ]
     },
     "execution_count": 345,
     "metadata": {},
     "output_type": "execute_result"
    }
   ],
   "source": [
    "ducks[1]"
   ]
  },
  {
   "cell_type": "markdown",
   "metadata": {},
   "source": [
    "- Essayer de remplacer le dernier élément par \"titi\". Que se passe-t-il ?"
   ]
  },
  {
   "cell_type": "code",
   "execution_count": 346,
   "metadata": {},
   "outputs": [],
   "source": [
    "try:\n",
    "    ducks[2] == 'titi'\n",
    "except:\n",
    "    print('Ça marche pas !')"
   ]
  },
  {
   "cell_type": "markdown",
   "metadata": {
    "hidden": true
   },
   "source": [
    "## Les sets"
   ]
  },
  {
   "cell_type": "markdown",
   "metadata": {
    "hidden": true
   },
   "source": [
    "Les ensembles (sets) sont des séquences non ordonnées et non indexables de valeurs distinctes. Elles se définissent grâce aux `{}`. Elles sont très pratiques pour calculer des intersections ou des unions d'éléments distincts uniques. "
   ]
  },
  {
   "cell_type": "code",
   "execution_count": 347,
   "metadata": {
    "hidden": true
   },
   "outputs": [
    {
     "name": "stdout",
     "output_type": "stream",
     "text": [
      "{'apple', 'banana', 'cherry'}\n",
      "{'orange', 'apple', 'pear'}\n"
     ]
    }
   ],
   "source": [
    "fruits1 = {\"apple\", \"banana\", \"cherry\"}\n",
    "fruits2 = {\"orange\", \"pear\",\"apple\"}\n",
    "print(fruits1)\n",
    "print(fruits2)"
   ]
  },
  {
   "cell_type": "code",
   "execution_count": 348,
   "metadata": {
    "hidden": true,
    "scrolled": true
   },
   "outputs": [
    {
     "data": {
      "text/plain": [
       "{'apple'}"
      ]
     },
     "execution_count": 348,
     "metadata": {},
     "output_type": "execute_result"
    }
   ],
   "source": [
    "fruits1.intersection(fruits2)"
   ]
  },
  {
   "cell_type": "code",
   "execution_count": 349,
   "metadata": {
    "hidden": true,
    "scrolled": true
   },
   "outputs": [
    {
     "data": {
      "text/plain": [
       "{'apple', 'banana', 'cherry', 'orange', 'pear'}"
      ]
     },
     "execution_count": 349,
     "metadata": {},
     "output_type": "execute_result"
    }
   ],
   "source": [
    "fruits1.union(fruits2)"
   ]
  },
  {
   "cell_type": "markdown",
   "metadata": {},
   "source": [
    "Ils peuvent aussi permettre de supprimer les doublons des listes (en perdant l'ordre)"
   ]
  },
  {
   "cell_type": "code",
   "execution_count": 350,
   "metadata": {},
   "outputs": [
    {
     "data": {
      "text/plain": [
       "['toto', 'titi', 'tata', 'tutu']"
      ]
     },
     "execution_count": 350,
     "metadata": {},
     "output_type": "execute_result"
    }
   ],
   "source": [
    "l = ['toto', 'tata', 'titi', 'titi', 'tutu']\n",
    "\n",
    "list(set(l))"
   ]
  },
  {
   "cell_type": "markdown",
   "metadata": {
    "heading_collapsed": true
   },
   "source": [
    "# Aller plus loin avec les itérables"
   ]
  },
  {
   "cell_type": "markdown",
   "metadata": {
    "hidden": true
   },
   "source": [
    "## Des boucles pythonesques"
   ]
  },
  {
   "cell_type": "markdown",
   "metadata": {
    "hidden": true
   },
   "source": [
    "### Enumerate"
   ]
  },
  {
   "cell_type": "markdown",
   "metadata": {
    "hidden": true
   },
   "source": [
    "En suivant la logique de python, on parcourt un itérable avec la syntaxe suivante :\n",
    "\n",
    "<pre><code>\n",
    "for <i>élément</i> in itérable:\n",
    "    ... <i>élément</i> ...\n",
    "</pre>\n",
    "\n",
    "Seulement il arrive que l'on ait besoin de l'**indice** de l'élément courant dans la boucle. Pour ca, il existe la fonction **`enumerate`** :\n",
    "\n",
    "<pre><code>\n",
    "for <i>indice</i>, <i>élément</i> in <b>enumerate</b>(itérable):\n",
    "    ... <i>indice</i> ...\n",
    "    ... <i>élément</i> ...\n",
    "</pre>"
   ]
  },
  {
   "cell_type": "markdown",
   "metadata": {
    "hidden": true
   },
   "source": [
    "- Affichez chaque élément et chaque indice correspondant de la liste suivante"
   ]
  },
  {
   "cell_type": "code",
   "execution_count": 351,
   "metadata": {
    "hidden": true
   },
   "outputs": [],
   "source": [
    "colors = [\"red\", \"green\", \"blue\", \"purple\"]"
   ]
  },
  {
   "cell_type": "code",
   "execution_count": 352,
   "metadata": {
    "hidden": true
   },
   "outputs": [
    {
     "name": "stdout",
     "output_type": "stream",
     "text": [
      "0 red\n",
      "1 green\n",
      "2 blue\n",
      "3 purple\n"
     ]
    }
   ],
   "source": [
    "for i, c in enumerate(colors):\n",
    "    print(i, c)"
   ]
  },
  {
   "cell_type": "markdown",
   "metadata": {
    "hidden": true
   },
   "source": [
    "### Zip"
   ]
  },
  {
   "cell_type": "markdown",
   "metadata": {
    "hidden": true
   },
   "source": [
    "Il arrive parfois que l'on souhaite itérer sur deux listes en même temps. Pour éviter de passer par une boucle sur un indice (comme en Matlab par exemple), Python intègre la fonction **`zip`** qui permet de \"coller\" deux listes : \n",
    "\n",
    "<pre><code>\n",
    "for <i>élément_a</i>, <i>élément_b</i> in <b>zip</b>(list_a, list_b):\n",
    "    ... <i>élément_a</i> ...\n",
    "    ... <i>élément_b</i> ...\n",
    "</pre>"
   ]
  },
  {
   "cell_type": "code",
   "execution_count": 353,
   "metadata": {
    "hidden": true
   },
   "outputs": [
    {
     "name": "stdout",
     "output_type": "stream",
     "text": [
      "3 three\n",
      "2 two\n",
      "1 one\n"
     ]
    }
   ],
   "source": [
    "number_list = [3, 2, 1]\n",
    "str_list = ['three', 'two', 'one']\n",
    "\n",
    "for n, s in zip(number_list, str_list):\n",
    "    print(n, s)"
   ]
  },
  {
   "cell_type": "markdown",
   "metadata": {
    "hidden": true
   },
   "source": [
    "## Notion de générateur"
   ]
  },
  {
   "cell_type": "markdown",
   "metadata": {
    "hidden": true
   },
   "source": [
    "Exemples d'itérables : \n",
    "```\n",
    "A = [1, 2, 3, 4, 5]\n",
    "B = range(5)\n",
    "```\n",
    "\n",
    "A et B contiennent les mêmes données. Mais la grosse différence, c'est que dans la liste A, tous les éléments sont déjà calculés et stockés en mémoire. Tandis que pour l'objet B, le calcul est effectué à la volée pour chaque itération.\n",
    "\n",
    "**C'est le principe du générateur** : une fonction qui utilise le mot-clef `yield` au lieu de `return` et qui n'est exécuté que lorsqu'elle est itérée dans une boucle `for`."
   ]
  },
  {
   "cell_type": "code",
   "execution_count": 354,
   "metadata": {
    "hidden": true
   },
   "outputs": [],
   "source": [
    "def mon_generateur():\n",
    "    i = 40\n",
    "    while i <= 56:\n",
    "        i += 2\n",
    "        yield i"
   ]
  },
  {
   "cell_type": "markdown",
   "metadata": {
    "hidden": true
   },
   "source": [
    "Par exemple, voici un générateur infini pour la suite de Fibonacci :\n",
    "```\n",
    "Fib[0] = 0\n",
    "Fib[1] = 1\n",
    "Fib[n+2] = Fib[n] + Fib[n+1]\n",
    "```"
   ]
  },
  {
   "cell_type": "code",
   "execution_count": 355,
   "metadata": {
    "hidden": true
   },
   "outputs": [],
   "source": [
    "def fibonacci():\n",
    "    f1 = 0\n",
    "    yield f1\n",
    "    f2 = 1\n",
    "    yield f2\n",
    "    while True:\n",
    "        f3 = f1 + f2\n",
    "        yield f3\n",
    "        f1, f2 = f2, f3"
   ]
  },
  {
   "cell_type": "code",
   "execution_count": 356,
   "metadata": {},
   "outputs": [
    {
     "name": "stdout",
     "output_type": "stream",
     "text": [
      "0 0\n",
      "1 1\n",
      "2 1\n",
      "3 2\n",
      "4 3\n",
      "5 5\n",
      "6 8\n",
      "7 13\n",
      "8 21\n",
      "9 34\n",
      "10 55\n",
      "11 89\n",
      "12 144\n",
      "13 233\n",
      "14 377\n",
      "15 610\n",
      "16 987\n",
      "17 1597\n",
      "18 2584\n",
      "19 4181\n",
      "20 6765\n"
     ]
    }
   ],
   "source": [
    "for i, fib in enumerate(fibonacci()):\n",
    "    print(i, fib)\n",
    "    \n",
    "    # On l'arrête avant l'infini\n",
    "    if i == 20:\n",
    "        break"
   ]
  },
  {
   "cell_type": "markdown",
   "metadata": {},
   "source": [
    "## Programmation fonctionnelle"
   ]
  },
  {
   "cell_type": "markdown",
   "metadata": {},
   "source": [
    "### Map"
   ]
  },
  {
   "cell_type": "markdown",
   "metadata": {},
   "source": [
    "On peut appliquer une fonction sur tous les éléments d'un itérable à l'aide de la fonction `map`"
   ]
  },
  {
   "cell_type": "code",
   "execution_count": 357,
   "metadata": {},
   "outputs": [
    {
     "data": {
      "text/plain": [
       "<map at 0x7fa3d52e3cd0>"
      ]
     },
     "execution_count": 357,
     "metadata": {},
     "output_type": "execute_result"
    }
   ],
   "source": [
    "def double(x):\n",
    "    return 2*x\n",
    "\n",
    "l = [1, 2, 3]\n",
    "\n",
    "l2 = map(double, l)\n",
    "\n",
    "l2"
   ]
  },
  {
   "cell_type": "markdown",
   "metadata": {},
   "source": [
    "Le résultat retourné est un générateur. On peut le parcourir :"
   ]
  },
  {
   "cell_type": "code",
   "execution_count": 358,
   "metadata": {},
   "outputs": [
    {
     "name": "stdout",
     "output_type": "stream",
     "text": [
      "2\n",
      "4\n",
      "6\n"
     ]
    }
   ],
   "source": [
    "l2 = map(double, l)\n",
    "\n",
    "for x in l2:\n",
    "    print(x)"
   ]
  },
  {
   "cell_type": "markdown",
   "metadata": {},
   "source": [
    "On peut aussi le convertir directement en liste :"
   ]
  },
  {
   "cell_type": "code",
   "execution_count": 359,
   "metadata": {},
   "outputs": [
    {
     "data": {
      "text/plain": [
       "[2, 4, 6]"
      ]
     },
     "execution_count": 359,
     "metadata": {},
     "output_type": "execute_result"
    }
   ],
   "source": [
    "l2 = map(double, l)\n",
    "\n",
    "list(l2)"
   ]
  },
  {
   "cell_type": "markdown",
   "metadata": {},
   "source": [
    "Si la fonction à appliquer n'est pas trop complexe, on peut la définir à la volée à l'aide des `expressions lambda`, qui sont des fonctions anonymes."
   ]
  },
  {
   "cell_type": "code",
   "execution_count": 360,
   "metadata": {},
   "outputs": [
    {
     "data": {
      "text/plain": [
       "[2, 4, 6]"
      ]
     },
     "execution_count": 360,
     "metadata": {},
     "output_type": "execute_result"
    }
   ],
   "source": [
    "list(map(lambda x: 2*x, [1, 2, 3]))"
   ]
  },
  {
   "cell_type": "markdown",
   "metadata": {},
   "source": [
    "Pour des fonctions simples une compréhension de liste est néanmoins plus lisible :"
   ]
  },
  {
   "cell_type": "code",
   "execution_count": 361,
   "metadata": {},
   "outputs": [
    {
     "data": {
      "text/plain": [
       "[2, 4, 6]"
      ]
     },
     "execution_count": 361,
     "metadata": {},
     "output_type": "execute_result"
    }
   ],
   "source": [
    "[2*x for x in [1, 2, 3]]"
   ]
  },
  {
   "cell_type": "markdown",
   "metadata": {},
   "source": [
    "### Filter"
   ]
  },
  {
   "cell_type": "markdown",
   "metadata": {},
   "source": [
    "`filter` permet de garder les éléments en fonction d'un critère booléen"
   ]
  },
  {
   "cell_type": "code",
   "execution_count": 362,
   "metadata": {},
   "outputs": [
    {
     "data": {
      "text/plain": [
       "[1, 3, 5, 7, 9]"
      ]
     },
     "execution_count": 362,
     "metadata": {},
     "output_type": "execute_result"
    }
   ],
   "source": [
    "def is_impair(x):\n",
    "    return x%2 == 1\n",
    "\n",
    "list(filter(is_impair, range(10)))"
   ]
  },
  {
   "cell_type": "markdown",
   "metadata": {},
   "source": [
    "### Exercice"
   ]
  },
  {
   "cell_type": "markdown",
   "metadata": {},
   "source": [
    "Réécrire cette compréhension de liste avec map et filter :\n",
    "`[i**2 for i in range(10) if i%2 ==1]`"
   ]
  },
  {
   "cell_type": "code",
   "execution_count": 363,
   "metadata": {},
   "outputs": [
    {
     "data": {
      "text/plain": [
       "[1, 9, 25, 49, 81]"
      ]
     },
     "execution_count": 363,
     "metadata": {},
     "output_type": "execute_result"
    }
   ],
   "source": [
    "list(map(lambda x: x**2, filter(lambda x: x%2==1, range(10))))"
   ]
  },
  {
   "cell_type": "markdown",
   "metadata": {},
   "source": [
    "# Packages"
   ]
  },
  {
   "cell_type": "markdown",
   "metadata": {},
   "source": [
    "Python dispose de nombreux packages pour faire des tâches plus spécialisées.\n",
    "\n",
    "Par exemple `numpy` est un package spécialisé dans le calcul numérique, permettant de manipuler des tableaux et de faire du calcul matriciel."
   ]
  },
  {
   "cell_type": "code",
   "execution_count": 364,
   "metadata": {},
   "outputs": [
    {
     "name": "stdout",
     "output_type": "stream",
     "text": [
      "Requirement already satisfied: numpy in /home/xtof/anaconda3/lib/python3.7/site-packages (1.18.1)\r\n"
     ]
    }
   ],
   "source": [
    "# Installation de numpy\n",
    "!pip install numpy"
   ]
  },
  {
   "cell_type": "markdown",
   "metadata": {},
   "source": [
    "Il existe différentes façons de charger un package :\n",
    "- `import numpy` permet de charger tout le package. Ainsi la fonction `array` de `numpy` pourra être appellée sous la forme `numpy.array`\n",
    "- `import numpy as np` permet de faire la même chose mais en changeant le nom à utiliser : `np.array`. C'est une façon très fréquente de faire pour certains packages dont l'abréviation est courante (`np` pour `numpy`, `pd` pour `pandas`, etc.). Évitez d'inventer vos propres abrévations !\n",
    "- `from numpy import array` permet de ne charger que la fonction `array` et de l'appeler directement. Dans la mesure où cela fait perdre de vue l'origine de la fonction et où cela peut créer des conflits entre fonctions ayant le même nom mais venant de différents packages, c'est à utiliser avec parcimonie !"
   ]
  },
  {
   "cell_type": "markdown",
   "metadata": {},
   "source": [
    "# Numpy"
   ]
  },
  {
   "cell_type": "code",
   "execution_count": 365,
   "metadata": {
    "colab": {},
    "colab_type": "code",
    "id": "2Tt0XRDRsbMm"
   },
   "outputs": [],
   "source": [
    "import numpy as np"
   ]
  },
  {
   "cell_type": "markdown",
   "metadata": {},
   "source": [
    "Numpy est la librairie de calcul numérique de Python. Elle permet d'effectuer efficacement des opérations sur des vecteurs ou des matrices, appelées **\"arrays\"**. Ces tableaux se manipulent de la même manière que les listes de base : **`A[0:3]`** renvoie les 4 premières valeurs du vecteur `A`. Mais nous verrons leur intérêt pour le calcul matriciel."
   ]
  },
  {
   "cell_type": "markdown",
   "metadata": {},
   "source": [
    "## Des tableaux de toutes les tailles"
   ]
  },
  {
   "cell_type": "markdown",
   "metadata": {},
   "source": [
    "On peut créer un vecteur (array 1D) à partir de la liste des valeurs"
   ]
  },
  {
   "cell_type": "code",
   "execution_count": 366,
   "metadata": {},
   "outputs": [
    {
     "data": {
      "text/plain": [
       "array([1, 2, 3])"
      ]
     },
     "execution_count": 366,
     "metadata": {},
     "output_type": "execute_result"
    }
   ],
   "source": [
    "a = np.array([1, 2, 3])\n",
    "a"
   ]
  },
  {
   "cell_type": "markdown",
   "metadata": {},
   "source": [
    "Pour faire un array 2D, on passe une liste de listes."
   ]
  },
  {
   "cell_type": "code",
   "execution_count": 367,
   "metadata": {},
   "outputs": [
    {
     "data": {
      "text/plain": [
       "array([[1, 2, 3],\n",
       "       [4, 5, 6]])"
      ]
     },
     "execution_count": 367,
     "metadata": {},
     "output_type": "execute_result"
    }
   ],
   "source": [
    "b = np.array([[1, 2, 3], [4, 5, 6]])\n",
    "b"
   ]
  },
  {
   "cell_type": "markdown",
   "metadata": {},
   "source": [
    "On peut récupérer les dimensions du tableau grâce à `shape`"
   ]
  },
  {
   "cell_type": "code",
   "execution_count": 368,
   "metadata": {},
   "outputs": [
    {
     "data": {
      "text/plain": [
       "(2, 3)"
      ]
     },
     "execution_count": 368,
     "metadata": {},
     "output_type": "execute_result"
    }
   ],
   "source": [
    "b.shape"
   ]
  },
  {
   "cell_type": "markdown",
   "metadata": {},
   "source": [
    "On peut aussi faire des tableaux 3D voire plus"
   ]
  },
  {
   "cell_type": "code",
   "execution_count": 369,
   "metadata": {},
   "outputs": [
    {
     "data": {
      "text/plain": [
       "array([[[1, 2],\n",
       "        [3, 4]],\n",
       "\n",
       "       [[5, 6],\n",
       "        [7, 8]]])"
      ]
     },
     "execution_count": 369,
     "metadata": {},
     "output_type": "execute_result"
    }
   ],
   "source": [
    "c = np.array([[[1, 2], [3, 4]], [[5, 6], [7, 8]]])\n",
    "c"
   ]
  },
  {
   "cell_type": "code",
   "execution_count": 370,
   "metadata": {},
   "outputs": [
    {
     "data": {
      "text/plain": [
       "(2, 2, 2)"
      ]
     },
     "execution_count": 370,
     "metadata": {},
     "output_type": "execute_result"
    }
   ],
   "source": [
    "c.shape"
   ]
  },
  {
   "cell_type": "markdown",
   "metadata": {},
   "source": [
    "La fonction `reshape` permet de changer la forme de l'array, tant qu'on garde le même nombre d'éléments. Elle prend comme argument le tuple des dimensions souhaités (ou un entier pour un tableau 1D)."
   ]
  },
  {
   "cell_type": "code",
   "execution_count": 371,
   "metadata": {},
   "outputs": [
    {
     "data": {
      "text/plain": [
       "array([[1],\n",
       "       [2],\n",
       "       [3],\n",
       "       [4],\n",
       "       [5],\n",
       "       [6]])"
      ]
     },
     "execution_count": 371,
     "metadata": {},
     "output_type": "execute_result"
    }
   ],
   "source": [
    "np.reshape(b, (6, 1))"
   ]
  },
  {
   "cell_type": "code",
   "execution_count": 372,
   "metadata": {},
   "outputs": [
    {
     "data": {
      "text/plain": [
       "array([1, 2, 3, 4, 5, 6])"
      ]
     },
     "execution_count": 372,
     "metadata": {},
     "output_type": "execute_result"
    }
   ],
   "source": [
    "np.reshape(b, 6)"
   ]
  },
  {
   "cell_type": "markdown",
   "metadata": {},
   "source": [
    "On peut aussi utiliser la valeur `-1` pour laisser numpy déterminer la taille adéquate"
   ]
  },
  {
   "cell_type": "code",
   "execution_count": 373,
   "metadata": {},
   "outputs": [
    {
     "data": {
      "text/plain": [
       "array([[1, 2],\n",
       "       [3, 4],\n",
       "       [5, 6]])"
      ]
     },
     "execution_count": 373,
     "metadata": {},
     "output_type": "execute_result"
    }
   ],
   "source": [
    "np.reshape(b, (3, -1))"
   ]
  },
  {
   "cell_type": "code",
   "execution_count": 374,
   "metadata": {
    "scrolled": true
   },
   "outputs": [
    {
     "data": {
      "text/plain": [
       "array([1, 2, 3, 4, 5, 6])"
      ]
     },
     "execution_count": 374,
     "metadata": {},
     "output_type": "execute_result"
    }
   ],
   "source": [
    "np.reshape(b, -1)"
   ]
  },
  {
   "cell_type": "markdown",
   "metadata": {},
   "source": [
    "## Tableaux classiques"
   ]
  },
  {
   "cell_type": "markdown",
   "metadata": {},
   "source": [
    "Certains tableaux classiques peuvent être construits directement, en fournissant le tuple des dimensions souhaités"
   ]
  },
  {
   "cell_type": "code",
   "execution_count": 375,
   "metadata": {},
   "outputs": [
    {
     "data": {
      "text/plain": [
       "array([[0., 0., 0.],\n",
       "       [0., 0., 0.],\n",
       "       [0., 0., 0.]])"
      ]
     },
     "execution_count": 375,
     "metadata": {},
     "output_type": "execute_result"
    }
   ],
   "source": [
    "np.zeros((3, 3))"
   ]
  },
  {
   "cell_type": "code",
   "execution_count": 376,
   "metadata": {},
   "outputs": [
    {
     "data": {
      "text/plain": [
       "array([1., 1., 1., 1.])"
      ]
     },
     "execution_count": 376,
     "metadata": {},
     "output_type": "execute_result"
    }
   ],
   "source": [
    "np.ones(4)"
   ]
  },
  {
   "cell_type": "code",
   "execution_count": 377,
   "metadata": {},
   "outputs": [
    {
     "data": {
      "text/plain": [
       "array([[1., 0., 0., 0.],\n",
       "       [0., 1., 0., 0.],\n",
       "       [0., 0., 1., 0.],\n",
       "       [0., 0., 0., 1.]])"
      ]
     },
     "execution_count": 377,
     "metadata": {},
     "output_type": "execute_result"
    }
   ],
   "source": [
    "np.eye(4)"
   ]
  },
  {
   "cell_type": "code",
   "execution_count": 378,
   "metadata": {},
   "outputs": [
    {
     "data": {
      "text/plain": [
       "array([[0.82624983, 0.62356318, 0.17671216],\n",
       "       [0.59125735, 0.48926617, 0.54790778],\n",
       "       [0.69952062, 0.24581116, 0.18662715]])"
      ]
     },
     "execution_count": 378,
     "metadata": {},
     "output_type": "execute_result"
    }
   ],
   "source": [
    "np.random.random((3, 3))"
   ]
  },
  {
   "cell_type": "code",
   "execution_count": 379,
   "metadata": {},
   "outputs": [
    {
     "data": {
      "text/plain": [
       "array([4, 4, 3, 5, 1, 4, 1, 1, 5, 2])"
      ]
     },
     "execution_count": 379,
     "metadata": {},
     "output_type": "execute_result"
    }
   ],
   "source": [
    "np.random.randint(1, 6, 10)"
   ]
  },
  {
   "cell_type": "markdown",
   "metadata": {},
   "source": [
    "## Indexation"
   ]
  },
  {
   "cell_type": "markdown",
   "metadata": {},
   "source": [
    "L'indexation peut se faire comme pour les listes sous la forme d'un entier ou d'un intervalle (début:fin:pas)"
   ]
  },
  {
   "cell_type": "code",
   "execution_count": 380,
   "metadata": {},
   "outputs": [
    {
     "data": {
      "text/plain": [
       "array([1, 2, 3])"
      ]
     },
     "execution_count": 380,
     "metadata": {},
     "output_type": "execute_result"
    }
   ],
   "source": [
    "a"
   ]
  },
  {
   "cell_type": "code",
   "execution_count": 381,
   "metadata": {},
   "outputs": [
    {
     "data": {
      "text/plain": [
       "1"
      ]
     },
     "execution_count": 381,
     "metadata": {},
     "output_type": "execute_result"
    }
   ],
   "source": [
    "a[0]"
   ]
  },
  {
   "cell_type": "code",
   "execution_count": 382,
   "metadata": {},
   "outputs": [
    {
     "data": {
      "text/plain": [
       "array([2, 3])"
      ]
     },
     "execution_count": 382,
     "metadata": {},
     "output_type": "execute_result"
    }
   ],
   "source": [
    "a[-2:]"
   ]
  },
  {
   "cell_type": "markdown",
   "metadata": {},
   "source": [
    "Cette syntaxe s'étend pour les tableaux multidimensionnels"
   ]
  },
  {
   "cell_type": "code",
   "execution_count": 383,
   "metadata": {},
   "outputs": [
    {
     "data": {
      "text/plain": [
       "array([[1, 2, 3],\n",
       "       [4, 5, 6]])"
      ]
     },
     "execution_count": 383,
     "metadata": {},
     "output_type": "execute_result"
    }
   ],
   "source": [
    "b"
   ]
  },
  {
   "cell_type": "code",
   "execution_count": 384,
   "metadata": {},
   "outputs": [
    {
     "data": {
      "text/plain": [
       "2"
      ]
     },
     "execution_count": 384,
     "metadata": {},
     "output_type": "execute_result"
    }
   ],
   "source": [
    "b[0, 1]"
   ]
  },
  {
   "cell_type": "code",
   "execution_count": 385,
   "metadata": {},
   "outputs": [
    {
     "data": {
      "text/plain": [
       "array([2, 3])"
      ]
     },
     "execution_count": 385,
     "metadata": {},
     "output_type": "execute_result"
    }
   ],
   "source": [
    "b[0, 1:]"
   ]
  },
  {
   "cell_type": "code",
   "execution_count": 386,
   "metadata": {},
   "outputs": [
    {
     "data": {
      "text/plain": [
       "array([[2, 3],\n",
       "       [5, 6]])"
      ]
     },
     "execution_count": 386,
     "metadata": {},
     "output_type": "execute_result"
    }
   ],
   "source": [
    "b[:, 1:]"
   ]
  },
  {
   "cell_type": "markdown",
   "metadata": {},
   "source": [
    "On peut aussi utiliser l'indexation booléenne, en lui passant un tableau de True/False"
   ]
  },
  {
   "cell_type": "code",
   "execution_count": 387,
   "metadata": {},
   "outputs": [
    {
     "name": "stdout",
     "output_type": "stream",
     "text": [
      "[ True False  True]\n"
     ]
    },
    {
     "data": {
      "text/plain": [
       "array([1, 3])"
      ]
     },
     "execution_count": 387,
     "metadata": {},
     "output_type": "execute_result"
    }
   ],
   "source": [
    "is_impair = a%2==1\n",
    "print(is_impair)\n",
    "\n",
    "a[is_impair]"
   ]
  },
  {
   "cell_type": "markdown",
   "metadata": {},
   "source": [
    "## Calcul matriciel"
   ]
  },
  {
   "cell_type": "markdown",
   "metadata": {},
   "source": [
    "Le principal apport des tableaux numpy par rapport aux listes Python et leur facilité d'utilisation pour le calcul matriciel. Les principales opérations peuvent se faire par élément"
   ]
  },
  {
   "cell_type": "code",
   "execution_count": 388,
   "metadata": {},
   "outputs": [
    {
     "data": {
      "text/plain": [
       "array([5, 7, 9])"
      ]
     },
     "execution_count": 388,
     "metadata": {},
     "output_type": "execute_result"
    }
   ],
   "source": [
    "x = np.array([1, 2, 3])\n",
    "y = np.array([4, 5, 6])\n",
    "\n",
    "x + y"
   ]
  },
  {
   "cell_type": "code",
   "execution_count": 389,
   "metadata": {},
   "outputs": [
    {
     "data": {
      "text/plain": [
       "array([[ 2,  4,  6],\n",
       "       [ 8, 10, 12]])"
      ]
     },
     "execution_count": 389,
     "metadata": {},
     "output_type": "execute_result"
    }
   ],
   "source": [
    "b*2"
   ]
  },
  {
   "cell_type": "markdown",
   "metadata": {},
   "source": [
    "La multiplication de tableaux 2D se fait élément par élément. La multiplication matricielle peut se faire par la fonction `dot`"
   ]
  },
  {
   "cell_type": "code",
   "execution_count": 390,
   "metadata": {},
   "outputs": [
    {
     "data": {
      "text/plain": [
       "array([[ 1,  4,  9],\n",
       "       [16, 25, 36]])"
      ]
     },
     "execution_count": 390,
     "metadata": {},
     "output_type": "execute_result"
    }
   ],
   "source": [
    "b*b"
   ]
  },
  {
   "cell_type": "code",
   "execution_count": 391,
   "metadata": {},
   "outputs": [
    {
     "data": {
      "text/plain": [
       "array([[1, 4],\n",
       "       [2, 5],\n",
       "       [3, 6]])"
      ]
     },
     "execution_count": 391,
     "metadata": {},
     "output_type": "execute_result"
    }
   ],
   "source": [
    "b.T"
   ]
  },
  {
   "cell_type": "code",
   "execution_count": 392,
   "metadata": {},
   "outputs": [
    {
     "data": {
      "text/plain": [
       "array([[14, 32],\n",
       "       [32, 77]])"
      ]
     },
     "execution_count": 392,
     "metadata": {},
     "output_type": "execute_result"
    }
   ],
   "source": [
    "np.dot(b, b.T)"
   ]
  },
  {
   "cell_type": "markdown",
   "metadata": {},
   "source": [
    "`numpy` propose aussi différentes fonctions mathématiques"
   ]
  },
  {
   "cell_type": "code",
   "execution_count": 393,
   "metadata": {},
   "outputs": [
    {
     "data": {
      "text/plain": [
       "2.0"
      ]
     },
     "execution_count": 393,
     "metadata": {},
     "output_type": "execute_result"
    }
   ],
   "source": [
    "np.median(a)"
   ]
  },
  {
   "cell_type": "code",
   "execution_count": 394,
   "metadata": {
    "scrolled": true
   },
   "outputs": [
    {
     "data": {
      "text/plain": [
       "0.816496580927726"
      ]
     },
     "execution_count": 394,
     "metadata": {},
     "output_type": "execute_result"
    }
   ],
   "source": [
    "np.std(a) # écart-type"
   ]
  },
  {
   "cell_type": "code",
   "execution_count": 395,
   "metadata": {},
   "outputs": [
    {
     "data": {
      "text/plain": [
       "21"
      ]
     },
     "execution_count": 395,
     "metadata": {},
     "output_type": "execute_result"
    }
   ],
   "source": [
    "np.sum(b)"
   ]
  },
  {
   "cell_type": "code",
   "execution_count": 396,
   "metadata": {},
   "outputs": [
    {
     "data": {
      "text/plain": [
       "array([5, 7, 9])"
      ]
     },
     "execution_count": 396,
     "metadata": {},
     "output_type": "execute_result"
    }
   ],
   "source": [
    "np.sum(b, axis=0) # somme sur les colonnes"
   ]
  },
  {
   "cell_type": "code",
   "execution_count": 397,
   "metadata": {},
   "outputs": [
    {
     "data": {
      "text/plain": [
       "array([ 6, 15])"
      ]
     },
     "execution_count": 397,
     "metadata": {},
     "output_type": "execute_result"
    }
   ],
   "source": [
    "np.sum(b, axis=1) # somme sur les lignes"
   ]
  },
  {
   "cell_type": "markdown",
   "metadata": {},
   "source": [
    "### Exercice"
   ]
  },
  {
   "cell_type": "markdown",
   "metadata": {},
   "source": [
    "- Construire la liste `[0, 3, 6, 1, 4, 7, 2, 5, 8]` à partir de la fonction `range`\n",
    "\n",
    "*Indice : passer par une matrice 3x3*"
   ]
  },
  {
   "cell_type": "code",
   "execution_count": 416,
   "metadata": {},
   "outputs": [
    {
     "data": {
      "text/plain": [
       "[0, 3, 6, 1, 4, 7, 2, 5, 8]"
      ]
     },
     "execution_count": 416,
     "metadata": {},
     "output_type": "execute_result"
    }
   ],
   "source": [
    "list(np.array(range(3**2)).reshape((3,-1)).transpose().reshape(-1))"
   ]
  },
  {
   "cell_type": "markdown",
   "metadata": {
    "heading_collapsed": true
   },
   "source": [
    "# Gestion des erreurs"
   ]
  },
  {
   "cell_type": "markdown",
   "metadata": {},
   "source": [
    "En Python, il est facile de gérer des erreurs grâce à `try`.\n",
    "\n",
    "La manière simple de l'utiliser est :"
   ]
  },
  {
   "cell_type": "raw",
   "metadata": {},
   "source": [
    "try:\n",
    "    <Code à essayer>\n",
    "except: \n",
    "    <Code en cas d'erreur>"
   ]
  },
  {
   "cell_type": "code",
   "execution_count": 398,
   "metadata": {},
   "outputs": [
    {
     "name": "stdout",
     "output_type": "stream",
     "text": [
      "Clé absente mais c'est pas grave\n"
     ]
    }
   ],
   "source": [
    "dico = {'a': 1, 'b': 2}\n",
    "\n",
    "try:\n",
    "    print(dico['c'])\n",
    "except:\n",
    "    print(\"Clé absente mais c'est pas grave\")"
   ]
  },
  {
   "cell_type": "markdown",
   "metadata": {},
   "source": [
    "Si on ne veut rien faire en cas d'erreur et continuer comme si de rien n'était, on peut utiliser `pass`"
   ]
  },
  {
   "cell_type": "code",
   "execution_count": 399,
   "metadata": {},
   "outputs": [],
   "source": [
    "try:\n",
    "    code_qui_plante\n",
    "    print('Oups')\n",
    "except: \n",
    "    pass"
   ]
  },
  {
   "cell_type": "code",
   "execution_count": null,
   "metadata": {},
   "outputs": [],
   "source": []
  }
 ],
 "metadata": {
  "colab": {
   "name": "dsmft-lyon-02_S1-1 Conditions et boucles .ipynb",
   "provenance": []
  },
  "kernelspec": {
   "display_name": "Python 3",
   "language": "python",
   "name": "python3"
  },
  "language_info": {
   "codemirror_mode": {
    "name": "ipython",
    "version": 3
   },
   "file_extension": ".py",
   "mimetype": "text/x-python",
   "name": "python",
   "nbconvert_exporter": "python",
   "pygments_lexer": "ipython3",
   "version": "3.7.7"
  },
  "toc": {
   "base_numbering": 1,
   "nav_menu": {},
   "number_sections": true,
   "sideBar": true,
   "skip_h1_title": false,
   "title_cell": "Table of Contents",
   "title_sidebar": "Contents",
   "toc_cell": false,
   "toc_position": {},
   "toc_section_display": true,
   "toc_window_display": false
  }
 },
 "nbformat": 4,
 "nbformat_minor": 1
}
