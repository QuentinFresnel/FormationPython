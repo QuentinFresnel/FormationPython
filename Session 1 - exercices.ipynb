{
 "cells": [
  {
   "cell_type": "code",
   "execution_count": 1,
   "metadata": {
    "colab": {},
    "colab_type": "code",
    "id": "TeadjsMhsbLp"
   },
   "outputs": [
    {
     "name": "stdout",
     "output_type": "stream",
     "text": [
      "Bonjour à tous\n"
     ]
    }
   ],
   "source": [
    "print('Bonjour à tous')"
   ]
  },
  {
   "cell_type": "markdown",
   "metadata": {},
   "source": [
    "- Contexte (principes généraux du langage, IDE, chez nous)\n",
    "- Prise en main (print('Hello world') dans un notebook Jupyter)\n",
    "- Les boucles (indentation, indexation depuis 0, for, if, while, return, break)\n",
    "- Les fonctions\n",
    "- Les types de base (string, lists, tuples, dicts, bool)\n",
    "- La manipulation de listes (indexing, append, comprehension lists , map, filter, reduce, lambda expression)\n",
    "- La manipulation de strings (concaténation, indexation, formattage)\n",
    "- La manipulation de dictionnaires (création, ajout d’un élément, boucle, items)\n",
    "- Les packages (import, from, as)\n",
    "- Numpy (opérations de base)\n",
    "- Optionnel : try/except, classes"
   ]
  },
  {
   "cell_type": "markdown",
   "metadata": {},
   "source": [
    "# Contexte\n"
   ]
  },
  {
   "cell_type": "markdown",
   "metadata": {},
   "source": [
    "## Python"
   ]
  },
  {
   "cell_type": "markdown",
   "metadata": {},
   "source": [
    "Python est un langage de programmation développé depuis les années 1990, qui connaît une popularité croissante dans le domaine de la data science ces dernières années.\n",
    "\n",
    "Tandis que R est un langage spécifique pour les statistiques (*Domain Specific Language*), Python est un langage généraliste utilisé autant en data science que pour du développement web ou d'applications. En pratique, cela signifie que certains concepts utiles en data science ne sont pas présents directement dans le langage (data frames, valeurs manquantes, calcul matriciel, ...), mais cela est compensé par différents packages :\n",
    "- **numpy** pour le calcul matriciel\n",
    "- **pandas** pour les data frames\n",
    "- **scikit-learn** pour le machine learning\n",
    "- etc.\n",
    "\n",
    "Grâce à ces packages, Python est notamment particulièrement utilisé pour le machine learning (notamment le deep learning).\n",
    "\n",
    "Le caractère généraliste de Python permet de faire facilement des ponts en domaines (data science, data engineering, développement web, etc.) et de profiter d'outils communs puissants."
   ]
  },
  {
   "cell_type": "markdown",
   "metadata": {},
   "source": [
    "Sur le plan technique, Python est un langage interprété (comme R) et non compilé (C++, Java). Cela fait perdre en performances, mais permet de développer de manière plus interactive. De même il utilise un typage dynamique (c'est-à-dire que ce n'est pas le développeur qui spécifie le type des variables) pour un développement plus flexible."
   ]
  },
  {
   "cell_type": "markdown",
   "metadata": {},
   "source": [
    "Pendant de nombreuses années, les développeurs étaient partagés entre les versions 2 et 3. En effet, Python 3 a introduit des modifications importantes parfois incompatibles avec Python 2 (par exemple, en Python 3, on utilise `print('Bonjour')` alors que Python 2 utilisait `print 'Bonjour'`. De nombreux développeurs ont donc été réticents à franchir le pas, malgré les améliorations apportées par les dernières versions. Cette situation a duré plusieurs années, mais depuis début 2020 Python 2 n'a officiellement plus de support. Il n'y a donc plus d'excuse pour utiliser cette version obsolète."
   ]
  },
  {
   "cell_type": "markdown",
   "metadata": {
    "heading_collapsed": true
   },
   "source": [
    "## IDE"
   ]
  },
  {
   "cell_type": "markdown",
   "metadata": {
    "hidden": true
   },
   "source": [
    "À la base, python est un langage de programmation. Il est donc possible de l'utiliser dans un IDE traditionnel comme Visual Studio Code, PyCharm... \n",
    "\n",
    "L'usage de Python pour la data science nécessite cependant une certaine agilité car beaucoup d'études exploratoires sont plus axées sur la rapidité d'obtention des premiers résultats que sur la scalabilité ou la robustesse. Aussi, Jupyter propose un environnement simple dans lequel on peut programmer, organiser et visualiser les résultats rapidement, comme les notebooks RStudio. C'est l'outil le plus couramment utilisé en data science, et notamment c'est celui qui est mis à disposition sur le serveur de développement de l'équipe"
   ]
  },
  {
   "cell_type": "markdown",
   "metadata": {
    "hidden": true
   },
   "source": [
    "- Pour commencer à prendre en main l'interface, cliquez sur le menu\n",
    "\n",
    "`Aide` -> `Visite de l'interface utilisateur`"
   ]
  },
  {
   "cell_type": "markdown",
   "metadata": {
    "hidden": true
   },
   "source": [
    "- Pour commencer à vous familiariser avec les raccourcis clavier, cliquez sur\n",
    "\n",
    "`Aide` -> `Raccourcis clavier`"
   ]
  },
  {
   "cell_type": "markdown",
   "metadata": {},
   "source": [
    "- Un notebook est constitué de cellules pouvant être de différents types, notamment `markdown` et `code`"
   ]
  },
  {
   "cell_type": "markdown",
   "metadata": {
    "hidden": true
   },
   "source": [
    "- Pour exécuter une cellule suivante, appuyez sur les touches `Maj+Entr`.\n",
    "\n",
    "Contrairement à RStudio, vous ne pouvez pas exécuter une seule ligne à la fois. Mais n'hésitez pas à créer des cellules d'une seule ligne si nécessaire (avec les raccourcis `B` et `A` par exemple) puis les supprimer (avec `X`) ou les merger (avec `M`)"
   ]
  },
  {
   "cell_type": "markdown",
   "metadata": {
    "heading_collapsed": true
   },
   "source": [
    "# Opérateurs"
   ]
  },
  {
   "cell_type": "markdown",
   "metadata": {
    "hidden": true
   },
   "source": [
    "**Les opérateurs sont identiques en R et en Python...**\n",
    "\n",
    "... a part l'assignation `<-` qui devient `=`.\n",
    "\n",
    "Python est un langage conçu pour être simple et compréhensible. Les opérations logiques sont donc simplement écrites en anglais : \n",
    "- `!x` en R devient `not x` en python\n",
    "- `x | y` en R devient`x or y` en python\n",
    "- `x & y` en R devient `x or y` en python"
   ]
  },
  {
   "cell_type": "markdown",
   "metadata": {
    "hidden": true
   },
   "source": [
    "Stockez les valeurs 2 et 5 dans deux variables nommée respectivement a et b. "
   ]
  },
  {
   "cell_type": "code",
   "execution_count": 2,
   "metadata": {
    "hidden": true
   },
   "outputs": [],
   "source": [
    "a = 2\n",
    "b = 5"
   ]
  },
  {
   "cell_type": "markdown",
   "metadata": {
    "hidden": true
   },
   "source": [
    "Effectuez quelques tests sur ces variables : \n",
    "- Est-ce que a est égal à b ? \n",
    "- Est-ce que a est inférieur b ?\n",
    "- Est-ce que a est inférieur ou égal à b et est-ce que b est inférieur à 6 ?"
   ]
  },
  {
   "cell_type": "code",
   "execution_count": 3,
   "metadata": {
    "hidden": true
   },
   "outputs": [
    {
     "data": {
      "text/plain": [
       "False"
      ]
     },
     "execution_count": 3,
     "metadata": {},
     "output_type": "execute_result"
    }
   ],
   "source": [
    "a == b"
   ]
  },
  {
   "cell_type": "code",
   "execution_count": 4,
   "metadata": {
    "hidden": true
   },
   "outputs": [
    {
     "data": {
      "text/plain": [
       "True"
      ]
     },
     "execution_count": 4,
     "metadata": {},
     "output_type": "execute_result"
    }
   ],
   "source": [
    "a < b"
   ]
  },
  {
   "cell_type": "code",
   "execution_count": 5,
   "metadata": {
    "hidden": true,
    "scrolled": true
   },
   "outputs": [
    {
     "data": {
      "text/plain": [
       "True"
      ]
     },
     "execution_count": 5,
     "metadata": {},
     "output_type": "execute_result"
    }
   ],
   "source": [
    "a <= b and b < 6"
   ]
  },
  {
   "cell_type": "markdown",
   "metadata": {
    "heading_collapsed": true
   },
   "source": [
    "# Boucles"
   ]
  },
  {
   "cell_type": "markdown",
   "metadata": {
    "hidden": true
   },
   "source": [
    "Dans la plupart des langages, les blocs sont délimités par des accolades, et l'utilisateur peut utiliser des espaces et des tabulations pour indenter son code à sa guise. Cela permet de faire un code fonctionnel et/ou lisible. Python a un parti pris original : il considère qu'on bon code doit être lisible et qu'on peut donc donner un sens à l'indentation. Les **espaces et tabulations** en début de ligne font donc partie de la syntaxe et permettent de déterminer le niveau d'un bloc, et un code mal indenté ne fonctionnera pas."
   ]
  },
  {
   "cell_type": "markdown",
   "metadata": {
    "hidden": true
   },
   "source": [
    "## Exemples de boucles"
   ]
  },
  {
   "cell_type": "code",
   "execution_count": 6,
   "metadata": {
    "hidden": true
   },
   "outputs": [],
   "source": [
    "a = 3"
   ]
  },
  {
   "cell_type": "markdown",
   "metadata": {
    "hidden": true
   },
   "source": [
    "**Boucle if + condition**"
   ]
  },
  {
   "cell_type": "code",
   "execution_count": 7,
   "metadata": {
    "colab": {},
    "colab_type": "code",
    "hidden": true,
    "id": "HAmMoh51sbNK"
   },
   "outputs": [
    {
     "name": "stdout",
     "output_type": "stream",
     "text": [
      "Ce texte est hors du if\n"
     ]
    }
   ],
   "source": [
    "if a > 3:\n",
    "    print(\"a est plus grand que 3\")\n",
    "    print('Ce texte est dans le if')\n",
    "    \n",
    "print('Ce texte est hors du if')"
   ]
  },
  {
   "cell_type": "markdown",
   "metadata": {
    "colab_type": "text",
    "hidden": true,
    "id": "l6PVg8NXsbNO"
   },
   "source": [
    "**Else**"
   ]
  },
  {
   "cell_type": "code",
   "execution_count": 8,
   "metadata": {
    "colab": {},
    "colab_type": "code",
    "hidden": true,
    "id": "B1ZuPrZ8sbNP"
   },
   "outputs": [
    {
     "name": "stdout",
     "output_type": "stream",
     "text": [
      "a est plus petit que 3\n"
     ]
    }
   ],
   "source": [
    "if a > 3:\n",
    "    print(\"a est plus grand que 3\")\n",
    "else : \n",
    "    print(\"a est plus petit que 3\")"
   ]
  },
  {
   "cell_type": "markdown",
   "metadata": {
    "colab_type": "text",
    "hidden": true,
    "id": "PdetzNX4sbNT"
   },
   "source": [
    "**Elif**"
   ]
  },
  {
   "cell_type": "code",
   "execution_count": 9,
   "metadata": {
    "colab": {},
    "colab_type": "code",
    "hidden": true,
    "id": "aOAcQ_Z8sbNV",
    "scrolled": true
   },
   "outputs": [
    {
     "name": "stdout",
     "output_type": "stream",
     "text": [
      "a est égal à 3\n"
     ]
    }
   ],
   "source": [
    "if a > 3:\n",
    "    print(\"a est plus grand que 3\")\n",
    "elif a == 3:\n",
    "    print(\"a est égal à 3\")\n",
    "elif a >= 3:\n",
    "    print(\"a est supérieur ou égal à 3\")\n",
    "else : \n",
    "    print(\"a est plus petit que 3\")"
   ]
  },
  {
   "cell_type": "markdown",
   "metadata": {
    "colab_type": "text",
    "hidden": true,
    "id": "h8a6NqppsbNX"
   },
   "source": [
    "**Boucle while**"
   ]
  },
  {
   "cell_type": "code",
   "execution_count": 10,
   "metadata": {
    "colab": {},
    "colab_type": "code",
    "hidden": true,
    "id": "SXxu7Y-EsbNY"
   },
   "outputs": [
    {
     "name": "stdout",
     "output_type": "stream",
     "text": [
      "0\n",
      "1\n",
      "2\n",
      "3\n",
      "4\n"
     ]
    }
   ],
   "source": [
    "a = 0\n",
    "while a < 5:\n",
    "    print(a)\n",
    "    a += 1"
   ]
  },
  {
   "cell_type": "markdown",
   "metadata": {
    "colab_type": "text",
    "hidden": true,
    "id": "gd66Av0RsbNf"
   },
   "source": [
    "**Boucle for**"
   ]
  },
  {
   "cell_type": "code",
   "execution_count": 11,
   "metadata": {
    "colab": {},
    "colab_type": "code",
    "hidden": true,
    "id": "XsfwMMWIsbNg"
   },
   "outputs": [
    {
     "name": "stdout",
     "output_type": "stream",
     "text": [
      "0\n",
      "1\n",
      "2\n",
      "3\n",
      "4\n"
     ]
    }
   ],
   "source": [
    "for i in range(5):\n",
    "    print(i)"
   ]
  },
  {
   "cell_type": "markdown",
   "metadata": {
    "colab_type": "text",
    "hidden": true,
    "id": "J9Q1aIJlsbNm"
   },
   "source": [
    "**Break et continue**"
   ]
  },
  {
   "cell_type": "code",
   "execution_count": 12,
   "metadata": {
    "hidden": true
   },
   "outputs": [
    {
     "name": "stdout",
     "output_type": "stream",
     "text": [
      "0\n",
      "1\n",
      "2\n",
      "The end\n"
     ]
    }
   ],
   "source": [
    "for i in range(5):\n",
    "    if i == 3:\n",
    "        break\n",
    "    print(i)\n",
    "\n",
    "print(\"The end\")"
   ]
  },
  {
   "cell_type": "code",
   "execution_count": 13,
   "metadata": {
    "hidden": true
   },
   "outputs": [
    {
     "name": "stdout",
     "output_type": "stream",
     "text": [
      "0\n",
      "1\n",
      "2\n",
      "4\n",
      "The end\n"
     ]
    }
   ],
   "source": [
    "for i in range(5):\n",
    "    if i == 3:\n",
    "        continue\n",
    "    print(i)\n",
    "\n",
    "print(\"The end\")"
   ]
  },
  {
   "cell_type": "markdown",
   "metadata": {
    "colab_type": "text",
    "hidden": true,
    "id": "UmnFuVAbsbNk"
   },
   "source": [
    "## Exercices"
   ]
  },
  {
   "cell_type": "markdown",
   "metadata": {
    "hidden": true
   },
   "source": [
    "- Afficher les entiers n entre 200 et 600 tels que, n est multiple de 7 et n au cube est multiple de 50"
   ]
  },
  {
   "cell_type": "code",
   "execution_count": 14,
   "metadata": {
    "hidden": true
   },
   "outputs": [
    {
     "name": "stdout",
     "output_type": "stream",
     "text": [
      "210\n",
      "280\n",
      "350\n",
      "420\n",
      "490\n",
      "560\n"
     ]
    }
   ],
   "source": [
    "for n in range(200, 601):\n",
    "    if (n % 7 == 0) and (n**3 % 50 == 0):\n",
    "        print(n)"
   ]
  },
  {
   "cell_type": "markdown",
   "metadata": {
    "hidden": true
   },
   "source": [
    "- Ecrire un code qui calcule la somme cumulative de tous les entiers paires jusqu'à ce que cette somme soit supérieure à 50."
   ]
  },
  {
   "cell_type": "code",
   "execution_count": 15,
   "metadata": {
    "hidden": true
   },
   "outputs": [
    {
     "name": "stdout",
     "output_type": "stream",
     "text": [
      "0\n",
      "2\n",
      "6\n",
      "12\n",
      "20\n",
      "30\n",
      "42\n",
      "56\n"
     ]
    }
   ],
   "source": [
    "# Correction 1\n",
    "somme = 0\n",
    "i = 0\n",
    "\n",
    "while somme < 50:\n",
    "    if i%2 == 0:\n",
    "        somme += i\n",
    "        print(somme)\n",
    "    \n",
    "    i+= 1"
   ]
  },
  {
   "cell_type": "code",
   "execution_count": 16,
   "metadata": {
    "hidden": true
   },
   "outputs": [
    {
     "name": "stdout",
     "output_type": "stream",
     "text": [
      "0\n",
      "2\n",
      "6\n",
      "12\n",
      "20\n",
      "30\n",
      "42\n",
      "56\n"
     ]
    }
   ],
   "source": [
    "# correction 2\n",
    "somme = 0\n",
    "i = 0\n",
    "\n",
    "for i in range(0, 100, 2):\n",
    "    somme += i\n",
    "    print(somme)\n",
    "    if somme > 50:\n",
    "        break"
   ]
  },
  {
   "cell_type": "markdown",
   "metadata": {
    "hidden": true
   },
   "source": [
    "- Ecrire un code qui affiche le résultat suivant : \n",
    "\n",
    "```\n",
    "1\n",
    "333\n",
    "55555\n",
    "7777777\n",
    "999999999\n",
    "```"
   ]
  },
  {
   "cell_type": "code",
   "execution_count": 17,
   "metadata": {
    "colab": {},
    "colab_type": "code",
    "hidden": true,
    "id": "myuxrLBgsbNk"
   },
   "outputs": [
    {
     "name": "stdout",
     "output_type": "stream",
     "text": [
      "1\n",
      "333\n",
      "55555\n",
      "7777777\n",
      "999999999\n"
     ]
    }
   ],
   "source": [
    "a = 1 \n",
    "while a < 10:\n",
    "    for i in range(a):\n",
    "        if a%2 == 1 and i == a-1:\n",
    "            print(a)\n",
    "        elif a%2 == 1:\n",
    "            print(a, end='')\n",
    "    a += 1"
   ]
  },
  {
   "cell_type": "markdown",
   "metadata": {
    "heading_collapsed": true
   },
   "source": [
    "# Fonctions"
   ]
  },
  {
   "cell_type": "markdown",
   "metadata": {
    "heading_collapsed": true,
    "hidden": true
   },
   "source": [
    "## Exemples de fonctions simples"
   ]
  },
  {
   "cell_type": "markdown",
   "metadata": {
    "hidden": true
   },
   "source": [
    "Écrivons une fonction qui permet de calculer à la racine carré d’un nombre. On l’appellera `sqrt()`"
   ]
  },
  {
   "cell_type": "code",
   "execution_count": 18,
   "metadata": {
    "hidden": true
   },
   "outputs": [
    {
     "data": {
      "text/plain": [
       "3.0"
      ]
     },
     "execution_count": 18,
     "metadata": {},
     "output_type": "execute_result"
    }
   ],
   "source": [
    "def sqrt(nombre):\n",
    "    nombre = nombre ** (1/2)\n",
    "    return nombre\n",
    "    \n",
    "sqrt(9)"
   ]
  },
  {
   "cell_type": "markdown",
   "metadata": {
    "hidden": true
   },
   "source": [
    "Les fonctions peuvent utiliser des arguments optionnels"
   ]
  },
  {
   "cell_type": "code",
   "execution_count": 19,
   "metadata": {
    "hidden": true
   },
   "outputs": [
    {
     "name": "stdout",
     "output_type": "stream",
     "text": [
      "9\n",
      "3.0\n",
      "27\n"
     ]
    }
   ],
   "source": [
    "def puissance(nombre, exposant=2):\n",
    "    nombre = nombre ** (exposant)\n",
    "    return nombre\n",
    "\n",
    "print(puissance(3))\n",
    "print(puissance(9, exposant = 1/2))\n",
    "print(puissance(3, 3))"
   ]
  },
  {
   "cell_type": "markdown",
   "metadata": {},
   "source": [
    "Une fonction peut retourner plusieurs valeurs"
   ]
  },
  {
   "cell_type": "code",
   "execution_count": 20,
   "metadata": {},
   "outputs": [
    {
     "name": "stdout",
     "output_type": "stream",
     "text": [
      "3\n",
      "9\n",
      "27\n"
     ]
    }
   ],
   "source": [
    "def puissance(nombre):\n",
    "    return nombre, nombre**2, nombre**3\n",
    "\n",
    "x, y, z = puissance(3)\n",
    "\n",
    "print(x)\n",
    "print(y)\n",
    "print(z)"
   ]
  },
  {
   "cell_type": "markdown",
   "metadata": {
    "heading_collapsed": true,
    "hidden": true
   },
   "source": [
    "## Exercice : fonctions"
   ]
  },
  {
   "cell_type": "markdown",
   "metadata": {
    "hidden": true
   },
   "source": [
    "Créer une fonction PRIXTTC qui prend en entrée un prix HT et le type de produit (luxe ou normal par défaut) et qui donne en sortie le prix TTC, le prix HT et la TVA. Si le produit est un produit de luxe TVA à 33% sinon TVA à 20%"
   ]
  },
  {
   "cell_type": "code",
   "execution_count": 21,
   "metadata": {
    "hidden": true
   },
   "outputs": [],
   "source": [
    "def calcul_prix_ttc(prix_ht, type_tva='normal'):\n",
    "    \"\"\"\n",
    "    Retourne le prix TTC, le prix HT et la TVA à partir du type de TVA et du prix HT.\n",
    "    \"\"\"\n",
    "    if type_tva == 'luxe':\n",
    "        TVA = 0.33\n",
    "    else : TVA = 0.2\n",
    "    \n",
    "    prix_ttc = prix_ht + prix_ht * TVA\n",
    "    \n",
    "    return (prix_ttc, prix_ht, prix_ht * TVA)"
   ]
  },
  {
   "cell_type": "code",
   "execution_count": 22,
   "metadata": {
    "hidden": true
   },
   "outputs": [
    {
     "data": {
      "text/plain": [
       "(26.6, 20, 6.6000000000000005)"
      ]
     },
     "execution_count": 22,
     "metadata": {},
     "output_type": "execute_result"
    }
   ],
   "source": [
    "calcul_prix_ttc(20, 'luxe')"
   ]
  },
  {
   "cell_type": "markdown",
   "metadata": {
    "heading_collapsed": true
   },
   "source": [
    "# Les types de variables"
   ]
  },
  {
   "cell_type": "markdown",
   "metadata": {
    "hidden": true
   },
   "source": [
    "Comme dans tous les langages de programmation, il existe différents types de variables en python : `int`, `float`, `str`...\n",
    "\n",
    "Python est un langage typé dynamiquement. Cela signifie que dans 90% des cas, vous n'avez pas à vous soucier du type de données que vous manipulez, du moment que vous savez ce que vous faites. Pour les 10 % restants, voici quelques astuces :\n",
    "\n",
    "- Utilisez la fonction **`type`** pour connaître le type d'une variable.\n",
    "- Utilisez la fonction **`isinstance`** pour vérifier le type d'une variable\n",
    "- Utilisez les fonctions **`float`**, **`int`**, **`str`** pour convertir vos variables"
   ]
  },
  {
   "cell_type": "code",
   "execution_count": 23,
   "metadata": {},
   "outputs": [
    {
     "data": {
      "text/plain": [
       "int"
      ]
     },
     "execution_count": 23,
     "metadata": {},
     "output_type": "execute_result"
    }
   ],
   "source": [
    "type(0)"
   ]
  },
  {
   "cell_type": "code",
   "execution_count": 24,
   "metadata": {},
   "outputs": [
    {
     "data": {
      "text/plain": [
       "str"
      ]
     },
     "execution_count": 24,
     "metadata": {},
     "output_type": "execute_result"
    }
   ],
   "source": [
    "type('0')"
   ]
  },
  {
   "cell_type": "code",
   "execution_count": 25,
   "metadata": {},
   "outputs": [
    {
     "data": {
      "text/plain": [
       "True"
      ]
     },
     "execution_count": 25,
     "metadata": {},
     "output_type": "execute_result"
    }
   ],
   "source": [
    "str(0) == '0'"
   ]
  },
  {
   "cell_type": "code",
   "execution_count": 26,
   "metadata": {},
   "outputs": [
    {
     "data": {
      "text/plain": [
       "False"
      ]
     },
     "execution_count": 26,
     "metadata": {},
     "output_type": "execute_result"
    }
   ],
   "source": [
    "isinstance(str(0), int)"
   ]
  },
  {
   "cell_type": "markdown",
   "metadata": {
    "hidden": true
   },
   "source": [
    "**Exercices**"
   ]
  },
  {
   "cell_type": "markdown",
   "metadata": {
    "hidden": true
   },
   "source": [
    "- Affichez les types des variables suivante"
   ]
  },
  {
   "cell_type": "code",
   "execution_count": 27,
   "metadata": {
    "hidden": true
   },
   "outputs": [],
   "source": [
    "entier = 3\n",
    "reel = 1.54\n",
    "mot = 'mot'"
   ]
  },
  {
   "cell_type": "markdown",
   "metadata": {
    "hidden": true
   },
   "source": [
    "- vérifiez que *`reel`* est bien un float"
   ]
  },
  {
   "cell_type": "code",
   "execution_count": 28,
   "metadata": {
    "hidden": true
   },
   "outputs": [
    {
     "data": {
      "text/plain": [
       "True"
      ]
     },
     "execution_count": 28,
     "metadata": {},
     "output_type": "execute_result"
    }
   ],
   "source": [
    "isinstance(reel, float)"
   ]
  },
  {
   "cell_type": "markdown",
   "metadata": {
    "hidden": true
   },
   "source": [
    "- Convertissez *`entier`* en `string`"
   ]
  },
  {
   "cell_type": "code",
   "execution_count": 29,
   "metadata": {
    "hidden": true
   },
   "outputs": [
    {
     "data": {
      "text/plain": [
       "'3'"
      ]
     },
     "execution_count": 29,
     "metadata": {},
     "output_type": "execute_result"
    }
   ],
   "source": [
    "str(entier)"
   ]
  },
  {
   "cell_type": "markdown",
   "metadata": {
    "heading_collapsed": true
   },
   "source": [
    "# Itérables de bases"
   ]
  },
  {
   "cell_type": "markdown",
   "metadata": {
    "hidden": true
   },
   "source": [
    "Un itérable est un objet séquentiel que l'on peut parcourir élément par élément à l'aide d'une boucle for :\n",
    "\n",
    "<pre><code>\n",
    "<b>for</b> <i>toto</i> in <b>itérable</b>:\n",
    "    ... <i>toto</i> ...\n",
    "</pre>\n",
    "\n",
    "Les listes, les tuples, les ensembles, les strings et les dictionnaires sont des itérables."
   ]
  },
  {
   "cell_type": "markdown",
   "metadata": {
    "heading_collapsed": true,
    "hidden": true
   },
   "source": [
    "## Listes"
   ]
  },
  {
   "cell_type": "code",
   "execution_count": 30,
   "metadata": {},
   "outputs": [],
   "source": [
    "### Principe"
   ]
  },
  {
   "cell_type": "markdown",
   "metadata": {
    "hidden": true
   },
   "source": [
    "Les listes python permettent de stocker une série d'éléments qui peuvent être de type différent. Prenons un exemple de liste de chaînes de charactères :\n",
    "```\n",
    "[“Bonjour”, “Je”, “Christophe”, “m’appelle”]\n",
    "```"
   ]
  },
  {
   "cell_type": "markdown",
   "metadata": {
    "hidden": true
   },
   "source": [
    "**Exercices**"
   ]
  },
  {
   "cell_type": "markdown",
   "metadata": {
    "hidden": true
   },
   "source": [
    "- Stockez cette liste dans une variable qu’on appellera `Christophe`\n",
    "- Affichez chacun des items de la liste à l'aide d'une boucle `for`"
   ]
  },
  {
   "cell_type": "code",
   "execution_count": 31,
   "metadata": {
    "hidden": true
   },
   "outputs": [
    {
     "name": "stdout",
     "output_type": "stream",
     "text": [
      "Bonjour\n",
      "Je\n",
      "Christophe\n",
      "m'appelle\n"
     ]
    }
   ],
   "source": [
    "Christophe = [\"Bonjour\", \"Je\", \"Christophe\", \"m'appelle\"]\n",
    "for mot in Christophe:\n",
    "    print(mot)"
   ]
  },
  {
   "cell_type": "markdown",
   "metadata": {},
   "source": [
    "### Manipulations de listes"
   ]
  },
  {
   "cell_type": "markdown",
   "metadata": {
    "heading_collapsed": true
   },
   "source": [
    "## Les basiques"
   ]
  },
  {
   "cell_type": "markdown",
   "metadata": {
    "hidden": true
   },
   "source": [
    "**`maliste[i]`**\n",
    "> Renvoie le ième élément de la liste. **Attention, l'indexation des listes commence à 0 en Python !**"
   ]
  },
  {
   "cell_type": "markdown",
   "metadata": {
    "hidden": true
   },
   "source": [
    "**`maliste[-n]`**\n",
    "> Slicing négatif : nième élément en partant de la fin.\n",
    "\n",
    "<img src=\"ressource/slice_2.png\" style=\"height:180px\"/>"
   ]
  },
  {
   "cell_type": "markdown",
   "metadata": {
    "hidden": true
   },
   "source": [
    "**`len(maliste)`**\n",
    "> Renvoie le nombre d'éléments de la liste"
   ]
  },
  {
   "cell_type": "markdown",
   "metadata": {
    "hidden": true
   },
   "source": [
    "**`maliste[ début : fin ]`**\n",
    "> Slicing classique\n",
    "\n",
    "<img src=\"ressource/slice_1.png\" style=\"height:100px\"/>\n",
    "\n",
    "> On peut omettre un élément, il prend alors comme valeur par défaut :\n",
    "- **début** : 0\n",
    "- **fin** : len(maliste)\n",
    "\n",
    "Ainsi `maliste[2:]` prend toute la liste sauf les deux premiers éléments, tandis que `maliste[:-1]` enlève le dernier élément."
   ]
  },
  {
   "cell_type": "markdown",
   "metadata": {
    "hidden": true
   },
   "source": [
    "**`maliste[ début : fin : s]`**\n",
    "> Slicing par pas : Tous les s éléments.\n",
    "\n",
    "<img src=\"ressource/slice_3.png\" style=\"height:110px\"/>"
   ]
  },
  {
   "cell_type": "markdown",
   "metadata": {
    "hidden": true
   },
   "source": [
    "**`maliste.append(x)`**\n",
    "> Ajoute un élément à la fin de la liste ; équivalent à `a[len(a):] = [x]`."
   ]
  },
  {
   "cell_type": "markdown",
   "metadata": {},
   "source": [
    "**`maliste.insert(x, i)`**\n",
    "> Insère `x` à l'indice `i` et décale les éléments suivants"
   ]
  },
  {
   "cell_type": "markdown",
   "metadata": {},
   "source": [
    "**`maliste.pop(i)`**\n",
    "> Enlève l'élélement à l'indice `i` et avance les éléments suivants "
   ]
  },
  {
   "cell_type": "markdown",
   "metadata": {
    "hidden": true
   },
   "source": [
    "**`maliste1 + maliste2`**\n",
    "> Concaténation de `maliste1` et `maliste2`\n",
    "\n",
    "> Cela signifie que `[1, 2, 3] + [4, 5, 6]` ne fait pas la somme des éléments mais donne `[1, 2, 3, 4, 5, 6]`. Python ne fait pas de calcul matriciel avec les listes !"
   ]
  },
  {
   "cell_type": "markdown",
   "metadata": {
    "hidden": true
   },
   "source": [
    "**`n * maliste`**\n",
    "> Répète n fois `maliste`. Par exemple : `2 * [0,1] = [0, 1, 0, 1]`"
   ]
  },
  {
   "cell_type": "markdown",
   "metadata": {
    "hidden": true
   },
   "source": [
    "**`element in maliste`**\n",
    "> Le mot-clé **`in`** permet de tester si une valeur se trouve dans une liste (ou de manière générale, un itérable)."
   ]
  },
  {
   "cell_type": "markdown",
   "metadata": {
    "hidden": true
   },
   "source": [
    "Plus d'aide : \n",
    "https://docs.python.org/fr/3/tutorial/datastructures.html\n",
    "https://zestedesavoir.com/tutoriels/582/les-slices-en-python/"
   ]
  },
  {
   "cell_type": "markdown",
   "metadata": {
    "heading_collapsed": true,
    "hidden": true
   },
   "source": [
    "### Exercices"
   ]
  },
  {
   "cell_type": "markdown",
   "metadata": {},
   "source": [
    "- Voici une liste contenant toutes les lettres de l'alphabet"
   ]
  },
  {
   "cell_type": "code",
   "execution_count": 120,
   "metadata": {},
   "outputs": [],
   "source": [
    "alphabet = ['a', 'b', 'c', 'd', 'e', 'f', 'g', 'h', 'i', 'j', 'k', 'l', 'm', 'n', 'o', 'p', 'q', 'r', 's', 't', 'u', 'v', 'w', 'x', 'y', 'z']"
   ]
  },
  {
   "cell_type": "markdown",
   "metadata": {},
   "source": [
    "Sélectionner les 5 premières lettres"
   ]
  },
  {
   "cell_type": "code",
   "execution_count": 125,
   "metadata": {},
   "outputs": [
    {
     "data": {
      "text/plain": [
       "['a', 'b', 'c', 'd', 'e']"
      ]
     },
     "execution_count": 125,
     "metadata": {},
     "output_type": "execute_result"
    }
   ],
   "source": [
    "alphabet[:5]"
   ]
  },
  {
   "cell_type": "markdown",
   "metadata": {},
   "source": [
    "Sélectionner les 3 dernières lettres"
   ]
  },
  {
   "cell_type": "code",
   "execution_count": 124,
   "metadata": {},
   "outputs": [
    {
     "data": {
      "text/plain": [
       "['x', 'y', 'z']"
      ]
     },
     "execution_count": 124,
     "metadata": {},
     "output_type": "execute_result"
    }
   ],
   "source": [
    "alphabet[-3:]"
   ]
  },
  {
   "cell_type": "markdown",
   "metadata": {},
   "source": [
    "Parmi les 5 premières lettres, sélectionner une sur deux"
   ]
  },
  {
   "cell_type": "code",
   "execution_count": 126,
   "metadata": {},
   "outputs": [
    {
     "data": {
      "text/plain": [
       "['a', 'c', 'e']"
      ]
     },
     "execution_count": 126,
     "metadata": {},
     "output_type": "execute_result"
    }
   ],
   "source": [
    "alphabet[:5:2]"
   ]
  },
  {
   "cell_type": "markdown",
   "metadata": {},
   "source": [
    "Réciter l'alphabet à l'envers"
   ]
  },
  {
   "cell_type": "code",
   "execution_count": 127,
   "metadata": {},
   "outputs": [
    {
     "data": {
      "text/plain": [
       "['z',\n",
       " 'y',\n",
       " 'x',\n",
       " 'w',\n",
       " 'v',\n",
       " 'u',\n",
       " 't',\n",
       " 's',\n",
       " 'r',\n",
       " 'q',\n",
       " 'p',\n",
       " 'o',\n",
       " 'n',\n",
       " 'm',\n",
       " 'l',\n",
       " 'k',\n",
       " 'j',\n",
       " 'i',\n",
       " 'h',\n",
       " 'g',\n",
       " 'f',\n",
       " 'e',\n",
       " 'd',\n",
       " 'c',\n",
       " 'b',\n",
       " 'a']"
      ]
     },
     "execution_count": 127,
     "metadata": {},
     "output_type": "execute_result"
    }
   ],
   "source": [
    "alphabet[::-1]"
   ]
  },
  {
   "cell_type": "markdown",
   "metadata": {},
   "source": [
    "La lettre `é` est-elle dans la liste ?"
   ]
  },
  {
   "cell_type": "code",
   "execution_count": 133,
   "metadata": {},
   "outputs": [
    {
     "data": {
      "text/plain": [
       "False"
      ]
     },
     "execution_count": 133,
     "metadata": {},
     "output_type": "execute_result"
    }
   ],
   "source": [
    "\"é\" in alphabet"
   ]
  },
  {
   "cell_type": "code",
   "execution_count": 32,
   "metadata": {
    "hidden": true
   },
   "outputs": [],
   "source": [
    "Christophe = [\"Bonjour\", \"Je\", \"Christophe\", \"m'appelle\"]"
   ]
  },
  {
   "cell_type": "markdown",
   "metadata": {
    "hidden": true
   },
   "source": [
    "On a un problème avec cette phrase, deux mots sont inversés. Trouvez un moyen d’inverser le dernier item avec l’avant dernier, en utilisant `pop`."
   ]
  },
  {
   "cell_type": "code",
   "execution_count": 33,
   "metadata": {
    "hidden": true,
    "scrolled": true
   },
   "outputs": [
    {
     "name": "stdout",
     "output_type": "stream",
     "text": [
      "Bonjour\n",
      "Je\n",
      "m'appelle\n",
      "Christophe\n"
     ]
    }
   ],
   "source": [
    "prenom = Christophe.pop(2)\n",
    "Christophe.append(prenom)\n",
    "for mot in Christophe:\n",
    "    print(mot)"
   ]
  },
  {
   "cell_type": "markdown",
   "metadata": {
    "heading_collapsed": true,
    "hidden": true
   },
   "source": [
    "### Remarque sur copy()"
   ]
  },
  {
   "cell_type": "markdown",
   "metadata": {
    "hidden": true
   },
   "source": [
    "Attardons nous maintenant sur le concept de référence. En effet, une liste python ne contient pas des éléments mais des références (adresses mémoires) vers ces éléments. C'est ce qui rend leur usage si flexible : vous pouvez avoir une liste qui contient des entiers, des strings, et même des instances de classe. \n",
    "\n",
    "Cette organisation cause souvent, chez le pythoniste débutant, un trouble existentiel. En effet :"
   ]
  },
  {
   "cell_type": "code",
   "execution_count": 37,
   "metadata": {
    "hidden": true
   },
   "outputs": [],
   "source": [
    "# Ma 1ère liste contient 1, 2, 3, 4\n",
    "list1 = [1, 2, 3, 4]"
   ]
  },
  {
   "cell_type": "code",
   "execution_count": 38,
   "metadata": {
    "hidden": true
   },
   "outputs": [],
   "source": [
    "# Je définis ma 2ème liste comme égale à la première\n",
    "list2 = list1"
   ]
  },
  {
   "cell_type": "code",
   "execution_count": 39,
   "metadata": {
    "hidden": true
   },
   "outputs": [],
   "source": [
    "# Je modifie ma première liste\n",
    "list1[0] = 10"
   ]
  },
  {
   "cell_type": "code",
   "execution_count": 40,
   "metadata": {
    "hidden": true
   },
   "outputs": [
    {
     "name": "stdout",
     "output_type": "stream",
     "text": [
      "[10, 2, 3, 4]\n",
      "Fichtre, la liste 2 a été modifiée aussi...\n"
     ]
    }
   ],
   "source": [
    "print(list2)\n",
    "print('Fichtre, la liste 2 a été modifiée aussi...')"
   ]
  },
  {
   "cell_type": "code",
   "execution_count": 41,
   "metadata": {
    "hidden": true
   },
   "outputs": [
    {
     "name": "stdout",
     "output_type": "stream",
     "text": [
      "[10, 2, 3, -10]\n",
      "Diantre, la liste 1 a été modifiée aussi...\n"
     ]
    }
   ],
   "source": [
    "# Et maintenant si je modifie la liste 2\n",
    "list2[-1] = -10\n",
    "print(list1)\n",
    "print('Diantre, la liste 1 a été modifiée aussi...')"
   ]
  },
  {
   "cell_type": "markdown",
   "metadata": {
    "hidden": true
   },
   "source": [
    "Lorsque vous executez `list2 = list1`, vous stockez dans la variable `list2`les références vers les objets de `list1`. De fait, lorsque vous modifiez les objets eux-mêmes, les références de `list1`et de `list2` pointent toutes les deux vers les nouveaux objets. \n",
    "\n",
    "**Pour pallier ce problème, on peut utiliser la fonction `copy()`**\n",
    "https://docs.python.org/3/library/copy.html"
   ]
  },
  {
   "cell_type": "code",
   "execution_count": 42,
   "metadata": {
    "hidden": true,
    "scrolled": true
   },
   "outputs": [
    {
     "name": "stdout",
     "output_type": "stream",
     "text": [
      "list1 [10, 2, 3, 4]\n",
      "list2 [1, 2, 3, -10]\n"
     ]
    }
   ],
   "source": [
    "list1 = [1, 2, 3, 4]\n",
    "list2 = list1.copy()\n",
    "list1[0] = 10\n",
    "list2[-1] = -10\n",
    "print('list1', list1)\n",
    "print('list2', list2)"
   ]
  },
  {
   "cell_type": "markdown",
   "metadata": {
    "heading_collapsed": true
   },
   "source": [
    "## Compréhension de liste"
   ]
  },
  {
   "cell_type": "markdown",
   "metadata": {
    "hidden": true
   },
   "source": [
    "### Syntaxe"
   ]
  },
  {
   "cell_type": "markdown",
   "metadata": {
    "hidden": true
   },
   "source": [
    "**`list2 = [n*2 for n in list1]`**\n",
    "\n",
    "> `list2` contient chaque élément de `list1` multiplié par 2."
   ]
  },
  {
   "cell_type": "markdown",
   "metadata": {
    "hidden": true
   },
   "source": [
    "La compréhension de liste est une expression qui permet de construire une liste à partir de tout autre type itérable (liste, tuple, chaîne de caractères…) en une ligne. Le résultat obtenu est toujours une liste."
   ]
  },
  {
   "cell_type": "markdown",
   "metadata": {
    "hidden": true
   },
   "source": [
    "### Exercice"
   ]
  },
  {
   "cell_type": "markdown",
   "metadata": {
    "hidden": true
   },
   "source": [
    "- Calculez les carrés des entiers de 1 à 10"
   ]
  },
  {
   "cell_type": "code",
   "execution_count": 43,
   "metadata": {
    "hidden": true
   },
   "outputs": [
    {
     "data": {
      "text/plain": [
       "[1, 4, 9, 16, 25, 36, 49, 64, 81, 100]"
      ]
     },
     "execution_count": 43,
     "metadata": {},
     "output_type": "execute_result"
    }
   ],
   "source": [
    "[ n**2 for n in range(1,11) ]"
   ]
  },
  {
   "cell_type": "markdown",
   "metadata": {
    "hidden": true
   },
   "source": [
    "- Maintenant calculez leur somme en utilisant la fonction `sum`"
   ]
  },
  {
   "cell_type": "code",
   "execution_count": 44,
   "metadata": {
    "hidden": true,
    "scrolled": true
   },
   "outputs": [
    {
     "data": {
      "text/plain": [
       "385"
      ]
     },
     "execution_count": 44,
     "metadata": {},
     "output_type": "execute_result"
    }
   ],
   "source": [
    "sum( [ n**2 for n in range(1,11) ] )"
   ]
  },
  {
   "cell_type": "markdown",
   "metadata": {
    "hidden": true
   },
   "source": [
    "### Condition"
   ]
  },
  {
   "cell_type": "markdown",
   "metadata": {
    "hidden": true
   },
   "source": [
    "Les compréhensions de liste peuvent aussi impliquer une condition **`if`**"
   ]
  },
  {
   "cell_type": "code",
   "execution_count": 45,
   "metadata": {
    "hidden": true
   },
   "outputs": [
    {
     "data": {
      "text/plain": [
       "[0, 2, 4, 6, 8, 10, 12, 14, 16, 18]"
      ]
     },
     "execution_count": 45,
     "metadata": {},
     "output_type": "execute_result"
    }
   ],
   "source": [
    "[entier for entier in range(20) if entier%2==0]"
   ]
  },
  {
   "cell_type": "markdown",
   "metadata": {
    "hidden": true
   },
   "source": [
    "### Exercice"
   ]
  },
  {
   "cell_type": "markdown",
   "metadata": {},
   "source": [
    "- La somme des nombres impairs inférieurs à n est égal à $(n/2)^2$. Le vérifier pour $n=20$."
   ]
  },
  {
   "cell_type": "code",
   "execution_count": 46,
   "metadata": {},
   "outputs": [
    {
     "data": {
      "text/plain": [
       "100"
      ]
     },
     "execution_count": 46,
     "metadata": {},
     "output_type": "execute_result"
    }
   ],
   "source": [
    "sum([n for n in range(20) if n%2==1])"
   ]
  },
  {
   "cell_type": "markdown",
   "metadata": {
    "hidden": true
   },
   "source": [
    "- Décrire en compréhension la liste des nombres inférieurs à 20 qui sont multiples, ou bien de 5, ou bien de 7."
   ]
  },
  {
   "cell_type": "code",
   "execution_count": 47,
   "metadata": {
    "hidden": true
   },
   "outputs": [
    {
     "data": {
      "text/plain": [
       "[0, 5, 7, 10, 14, 15]"
      ]
     },
     "execution_count": 47,
     "metadata": {},
     "output_type": "execute_result"
    }
   ],
   "source": [
    "[n for n in range(20) if n%5==0 or n%7==0]"
   ]
  },
  {
   "cell_type": "markdown",
   "metadata": {
    "hidden": true
   },
   "source": [
    "- Même exercice pour les nombres multiples de 5 ou de 7 mais pas de 15."
   ]
  },
  {
   "cell_type": "code",
   "execution_count": 48,
   "metadata": {
    "hidden": true
   },
   "outputs": [
    {
     "data": {
      "text/plain": [
       "[5, 7, 10, 14]"
      ]
     },
     "execution_count": 48,
     "metadata": {},
     "output_type": "execute_result"
    }
   ],
   "source": [
    "[n for n in range(20) if (n%5==0 or n%7==0) and n%15!=0]"
   ]
  },
  {
   "cell_type": "markdown",
   "metadata": {
    "heading_collapsed": true,
    "hidden": true
   },
   "source": [
    "## String"
   ]
  },
  {
   "cell_type": "markdown",
   "metadata": {
    "hidden": true
   },
   "source": [
    "En Python, les strings sont manipulables comme des listes de charactères."
   ]
  },
  {
   "cell_type": "code",
   "execution_count": 49,
   "metadata": {
    "hidden": true
   },
   "outputs": [
    {
     "data": {
      "text/plain": [
       "'cordel'"
      ]
     },
     "execution_count": 49,
     "metadata": {},
     "output_type": "execute_result"
    }
   ],
   "source": [
    "S = 'cordel'\n",
    "S"
   ]
  },
  {
   "cell_type": "markdown",
   "metadata": {},
   "source": [
    "On peut notamment accéder aux caractères individuellement :"
   ]
  },
  {
   "cell_type": "code",
   "execution_count": 50,
   "metadata": {
    "hidden": true
   },
   "outputs": [
    {
     "data": {
      "text/plain": [
       "'c'"
      ]
     },
     "execution_count": 50,
     "metadata": {},
     "output_type": "execute_result"
    }
   ],
   "source": [
    "S[0]"
   ]
  },
  {
   "cell_type": "code",
   "execution_count": 51,
   "metadata": {},
   "outputs": [
    {
     "name": "stdout",
     "output_type": "stream",
     "text": [
      "c\n",
      "o\n",
      "r\n",
      "d\n",
      "e\n",
      "l\n"
     ]
    }
   ],
   "source": [
    "for lettre in S:\n",
    "    print(lettre)"
   ]
  },
  {
   "cell_type": "markdown",
   "metadata": {},
   "source": [
    "### Manipulations de string"
   ]
  },
  {
   "cell_type": "markdown",
   "metadata": {},
   "source": [
    "**`machaine.split(c)`**\n",
    "> Sépare `machaine` en utilisant le (ou les) caractères `c` comme séparateur."
   ]
  },
  {
   "cell_type": "markdown",
   "metadata": {},
   "source": [
    "**`c.join(maliste)`**\n",
    "> Rassemble `maliste` en utilisant la chaîne `c` comme séparateur"
   ]
  },
  {
   "cell_type": "markdown",
   "metadata": {},
   "source": [
    "**`machaine.lower()`**\n",
    "> Met tous les charactères de `machaine` en minuscule."
   ]
  },
  {
   "cell_type": "markdown",
   "metadata": {},
   "source": [
    "**`machaine.replace(a, b)`**\n",
    "> Remplace les caractères données par `a` par ceux données par `b`"
   ]
  },
  {
   "cell_type": "markdown",
   "metadata": {},
   "source": [
    "**Exercices**"
   ]
  },
  {
   "cell_type": "markdown",
   "metadata": {},
   "source": [
    "- Écrire une fonction `nombreOcurrences(x, mot)` qui prend en argument un caractère `x` et une chaîne de caractère `mot` et qui renvoie le nombre de fois où le caractère `x` est présent dans `mot`. Par exemple, si `mot` est `'java'`, `nombreOcurrences(’a’, mot)` vaut 2"
   ]
  },
  {
   "cell_type": "code",
   "execution_count": 134,
   "metadata": {},
   "outputs": [],
   "source": [
    "def nombreOcurrences(x, mot):\n",
    "    return sum([c == x for c in mot])"
   ]
  },
  {
   "cell_type": "code",
   "execution_count": 53,
   "metadata": {},
   "outputs": [
    {
     "data": {
      "text/plain": [
       "2"
      ]
     },
     "execution_count": 53,
     "metadata": {},
     "output_type": "execute_result"
    }
   ],
   "source": [
    "nombreOcurrences('a', 'java')"
   ]
  },
  {
   "cell_type": "markdown",
   "metadata": {},
   "source": [
    "- Écrire une fonction `premierMot(chaine)` qui renvoie le premier mot d’une chaîne de caractère. Par exemple si ma chaîne est `\"samedi soir, je vais au cinéma\"`, on renverra `\"samedi\"`."
   ]
  },
  {
   "cell_type": "code",
   "execution_count": 54,
   "metadata": {},
   "outputs": [],
   "source": [
    "def premierMot(chaine):\n",
    "    return chaine.split(' ')[0]"
   ]
  },
  {
   "cell_type": "code",
   "execution_count": 55,
   "metadata": {},
   "outputs": [
    {
     "data": {
      "text/plain": [
       "'samedi'"
      ]
     },
     "execution_count": 55,
     "metadata": {},
     "output_type": "execute_result"
    }
   ],
   "source": [
    "premierMot(\"samedi soir, je vais au cinéma\")"
   ]
  },
  {
   "cell_type": "markdown",
   "metadata": {},
   "source": [
    "- Remplacer les `\\\\` par des `/` dans la chaîne suivante"
   ]
  },
  {
   "cell_type": "code",
   "execution_count": 140,
   "metadata": {},
   "outputs": [],
   "source": [
    "chemin = \"C:\\\\Users\\\\Quentin\\\\Documents\\\\Perso\\\\Ne pas ouvrir\\\\francois.jpg\""
   ]
  },
  {
   "cell_type": "code",
   "execution_count": 142,
   "metadata": {},
   "outputs": [
    {
     "data": {
      "text/plain": [
       "'C:/Users/Quentin/Documents/Perso/Ne pas ouvrir/francois.jpg'"
      ]
     },
     "execution_count": 142,
     "metadata": {},
     "output_type": "execute_result"
    }
   ],
   "source": [
    "chemin.replace('\\\\', '/')"
   ]
  },
  {
   "cell_type": "markdown",
   "metadata": {
    "heading_collapsed": true,
    "hidden": true
   },
   "source": [
    "## Les dictionnaires"
   ]
  },
  {
   "cell_type": "markdown",
   "metadata": {
    "hidden": true
   },
   "source": [
    "```\n",
    "D = {\n",
    "    clé1 : valeur1,\n",
    "    clé2 : valeur2,\n",
    "}\n",
    "```"
   ]
  },
  {
   "cell_type": "markdown",
   "metadata": {
    "hidden": true
   },
   "source": [
    "Les dictionnaires sont des objets pouvant en contenir d'autres, à l'instar des listes. Cependant, au lieu d'héberger des informations dans un ordre précis, **ils associent chaque objet contenu à une clé** (la plupart du temps, une chaîne de caractères). Par exemple, un dictionnaire peut contenir un carnet d'adresses et on accède à chaque contact en précisant son nom."
   ]
  },
  {
   "cell_type": "markdown",
   "metadata": {
    "hidden": true
   },
   "source": [
    "- Créer un dictionnaire avec les couples clés-valeurs suivants:  \n",
    "('Batman','Robin')  \n",
    "('Harley Quinn','Poison Ivy')  \n",
    "('Iron man','War machine')  \n",
    "('Phenix','Cyclope')"
   ]
  },
  {
   "cell_type": "code",
   "execution_count": 58,
   "metadata": {
    "hidden": true
   },
   "outputs": [
    {
     "data": {
      "text/plain": [
       "{'Batman': 'Robin',\n",
       " 'Harley Quinn': 'Poison Ivy',\n",
       " 'Iron man': 'War machine',\n",
       " 'Phenix': 'Cyclope'}"
      ]
     },
     "execution_count": 58,
     "metadata": {},
     "output_type": "execute_result"
    }
   ],
   "source": [
    "dico_duo = {\n",
    "    'Batman':'Robin',\n",
    "    'Harley Quinn':'Poison Ivy',\n",
    "    'Iron man':'War machine',\n",
    "    'Phenix':'Cyclope'\n",
    "}\n",
    "dico_duo"
   ]
  },
  {
   "cell_type": "markdown",
   "metadata": {
    "hidden": true
   },
   "source": [
    "**Exercices**"
   ]
  },
  {
   "cell_type": "markdown",
   "metadata": {
    "hidden": true
   },
   "source": [
    "- Acceder au partenaire de `'Phenix'` en utilisant les `[]`"
   ]
  },
  {
   "cell_type": "code",
   "execution_count": 59,
   "metadata": {
    "hidden": true
   },
   "outputs": [
    {
     "data": {
      "text/plain": [
       "'Cyclope'"
      ]
     },
     "execution_count": 59,
     "metadata": {},
     "output_type": "execute_result"
    }
   ],
   "source": [
    "dico_duo['Phenix']"
   ]
  },
  {
   "cell_type": "markdown",
   "metadata": {
    "hidden": true
   },
   "source": [
    "- Remplacer la valeur associée à la clé `'Phenix'` par `'Jean Grey'`"
   ]
  },
  {
   "cell_type": "code",
   "execution_count": 60,
   "metadata": {
    "hidden": true
   },
   "outputs": [
    {
     "data": {
      "text/plain": [
       "{'Batman': 'Robin',\n",
       " 'Harley Quinn': 'Poison Ivy',\n",
       " 'Iron man': 'War machine',\n",
       " 'Phenix': 'Jean Grey'}"
      ]
     },
     "execution_count": 60,
     "metadata": {},
     "output_type": "execute_result"
    }
   ],
   "source": [
    "dico_duo['Phenix'] = 'Jean Grey'\n",
    "dico_duo"
   ]
  },
  {
   "cell_type": "markdown",
   "metadata": {
    "hidden": true
   },
   "source": [
    "- Ajouter le duo `'Ant man'` et `'the Wasp'` au dictionnaire"
   ]
  },
  {
   "cell_type": "code",
   "execution_count": 61,
   "metadata": {
    "hidden": true
   },
   "outputs": [
    {
     "data": {
      "text/plain": [
       "{'Batman': 'Robin',\n",
       " 'Harley Quinn': 'Poison Ivy',\n",
       " 'Iron man': 'War machine',\n",
       " 'Phenix': 'Jean Grey',\n",
       " 'Ant man': 'The Wasp'}"
      ]
     },
     "execution_count": 61,
     "metadata": {},
     "output_type": "execute_result"
    }
   ],
   "source": [
    "dico_duo['Ant man'] = 'The Wasp'\n",
    "dico_duo"
   ]
  },
  {
   "cell_type": "markdown",
   "metadata": {
    "heading_collapsed": true
   },
   "source": [
    "# Manipulation de dictionnaires"
   ]
  },
  {
   "cell_type": "markdown",
   "metadata": {},
   "source": [
    "**`k in dict`**\n",
    "\n",
    "> Vérifie si la clé `k` est présente dans le dictionnaire"
   ]
  },
  {
   "cell_type": "markdown",
   "metadata": {
    "hidden": true
   },
   "source": [
    "**`for k in dict:`**\n",
    "\n",
    "> Lorsqu'on itère sur un dictionnaire, on incrémente la clé. Pour obtenir la valeur, il suffit de faire `dict[k]` dans la boucle."
   ]
  },
  {
   "cell_type": "code",
   "execution_count": 62,
   "metadata": {},
   "outputs": [
    {
     "name": "stdout",
     "output_type": "stream",
     "text": [
      "Batman Robin\n",
      "Harley Quinn Poison Ivy\n",
      "Iron man War machine\n",
      "Phenix Jean Grey\n",
      "Ant man The Wasp\n"
     ]
    }
   ],
   "source": [
    "for k in dico_duo:\n",
    "    print(k, dico_duo[k])"
   ]
  },
  {
   "cell_type": "markdown",
   "metadata": {
    "hidden": true
   },
   "source": [
    "**`dict.items()`**\n",
    "\n",
    "> La fonction `items()` renvoie les couples (clé, valeur) du dictionnaire. Il est possible d'itérer dessus de la manière suivante : `for k,v in dict.items()`"
   ]
  },
  {
   "cell_type": "code",
   "execution_count": 63,
   "metadata": {},
   "outputs": [
    {
     "name": "stdout",
     "output_type": "stream",
     "text": [
      "Batman Robin\n",
      "Harley Quinn Poison Ivy\n",
      "Iron man War machine\n",
      "Phenix Jean Grey\n",
      "Ant man The Wasp\n"
     ]
    }
   ],
   "source": [
    "for k, v in dico_duo.items():\n",
    "    print(k, v)"
   ]
  },
  {
   "cell_type": "markdown",
   "metadata": {
    "hidden": true
   },
   "source": [
    "**`dict.values()`**\n",
    "\n",
    "> La fonction `values()` renvoie les valeurs du dictionnaire."
   ]
  },
  {
   "cell_type": "code",
   "execution_count": 64,
   "metadata": {
    "hidden": true
   },
   "outputs": [],
   "source": [
    "d = {'nom': 'Dupuis', 'prenom': 'Jacques', 'age': 30}"
   ]
  },
  {
   "cell_type": "markdown",
   "metadata": {
    "hidden": true
   },
   "source": [
    "**Exercice**"
   ]
  },
  {
   "cell_type": "markdown",
   "metadata": {
    "hidden": true
   },
   "source": [
    "- Vérifiez si la valeur 30 est dans le dictionnaire `d`"
   ]
  },
  {
   "cell_type": "code",
   "execution_count": 65,
   "metadata": {
    "hidden": true
   },
   "outputs": [
    {
     "data": {
      "text/plain": [
       "True"
      ]
     },
     "execution_count": 65,
     "metadata": {},
     "output_type": "execute_result"
    }
   ],
   "source": [
    "30 in d.values()"
   ]
  },
  {
   "cell_type": "markdown",
   "metadata": {},
   "source": [
    "- Afficher les clés pour lesquelles la valeur est une chaîne de caractères"
   ]
  },
  {
   "cell_type": "code",
   "execution_count": 66,
   "metadata": {},
   "outputs": [
    {
     "name": "stdout",
     "output_type": "stream",
     "text": [
      "nom\n",
      "prenom\n"
     ]
    }
   ],
   "source": [
    "for k, v in d.items():\n",
    "    if isinstance(v, str):\n",
    "        print(k)"
   ]
  },
  {
   "cell_type": "markdown",
   "metadata": {
    "heading_collapsed": true,
    "hidden": true
   },
   "source": [
    "## Dict comprehension"
   ]
  },
  {
   "cell_type": "markdown",
   "metadata": {
    "hidden": true
   },
   "source": [
    "La compréhension de dictionnaire est similaire à la compréhension de liste, à la différence près que les `[]`sont remplacés par des `{}` et que l'expression doit comporter `<clé>:<valeur>`. Cela permet donc de créer un dictionnaire rapidement."
   ]
  },
  {
   "cell_type": "code",
   "execution_count": 67,
   "metadata": {
    "hidden": true,
    "scrolled": true
   },
   "outputs": [
    {
     "data": {
      "text/plain": [
       "{'1': 1, '2': 2, '3': 3, '4': 4, '5': 5}"
      ]
     },
     "execution_count": 67,
     "metadata": {},
     "output_type": "execute_result"
    }
   ],
   "source": [
    "{str(i):i for i in [1,2,3,4,5]}"
   ]
  },
  {
   "cell_type": "markdown",
   "metadata": {
    "hidden": true
   },
   "source": [
    "**Exercice**"
   ]
  },
  {
   "cell_type": "markdown",
   "metadata": {
    "hidden": true
   },
   "source": [
    "- A partir de la liste fruits définie ci-dessous, créez un dictionnaire dont les clefs sont les fruits (strings) et les valeurs sont les longueurs de chaînes de caractère de chaque fruit."
   ]
  },
  {
   "cell_type": "code",
   "execution_count": 68,
   "metadata": {
    "hidden": true
   },
   "outputs": [],
   "source": [
    "fruits = ['apple', 'mango', 'banana','cherry']"
   ]
  },
  {
   "cell_type": "code",
   "execution_count": 69,
   "metadata": {
    "hidden": true,
    "scrolled": false
   },
   "outputs": [
    {
     "data": {
      "text/plain": [
       "{'apple': 5, 'mango': 5, 'banana': 6, 'cherry': 6}"
      ]
     },
     "execution_count": 69,
     "metadata": {},
     "output_type": "execute_result"
    }
   ],
   "source": [
    "{f:len(f) for f in fruits}"
   ]
  },
  {
   "cell_type": "markdown",
   "metadata": {
    "heading_collapsed": true,
    "hidden": true
   },
   "source": [
    "## Les tuples"
   ]
  },
  {
   "cell_type": "markdown",
   "metadata": {
    "hidden": true
   },
   "source": [
    "Les tuples sont des listes immutables, c'est-à-dire que leurs valeurs ne peuvent pas être modifiées. Leur définition se fait avec `()` et leur manipulation est similaire à celle des listes."
   ]
  },
  {
   "cell_type": "code",
   "execution_count": 70,
   "metadata": {
    "hidden": true,
    "scrolled": true
   },
   "outputs": [
    {
     "name": "stdout",
     "output_type": "stream",
     "text": [
      "riri\n",
      "fifi\n",
      "loulou\n"
     ]
    }
   ],
   "source": [
    "ducks = ('riri', 'fifi', 'loulou')\n",
    "\n",
    "for d in ducks:\n",
    "    print(d)"
   ]
  },
  {
   "cell_type": "markdown",
   "metadata": {
    "hidden": true
   },
   "source": [
    "**Exercice**"
   ]
  },
  {
   "cell_type": "markdown",
   "metadata": {
    "hidden": true
   },
   "source": [
    "- Accédez au deuxième élément du tuple (indice 1)"
   ]
  },
  {
   "cell_type": "code",
   "execution_count": 71,
   "metadata": {
    "hidden": true
   },
   "outputs": [
    {
     "data": {
      "text/plain": [
       "'fifi'"
      ]
     },
     "execution_count": 71,
     "metadata": {},
     "output_type": "execute_result"
    }
   ],
   "source": [
    "ducks[1]"
   ]
  },
  {
   "cell_type": "markdown",
   "metadata": {
    "heading_collapsed": true
   },
   "source": [
    "# Manipulations de tuples"
   ]
  },
  {
   "cell_type": "markdown",
   "metadata": {
    "hidden": true
   },
   "source": [
    "Maintenant que vous connaissez les manipulations de listes, appliquons les mêmes syntaxes aux tuples. "
   ]
  },
  {
   "cell_type": "markdown",
   "metadata": {
    "hidden": true
   },
   "source": [
    "- Créer un tuple de 1 à 5 (avec `()`)"
   ]
  },
  {
   "cell_type": "code",
   "execution_count": 72,
   "metadata": {
    "hidden": true
   },
   "outputs": [],
   "source": [
    "t = (1,2,3,4,5)"
   ]
  },
  {
   "cell_type": "markdown",
   "metadata": {
    "hidden": true
   },
   "source": [
    " - Accéder au chiffre 2 "
   ]
  },
  {
   "cell_type": "code",
   "execution_count": 73,
   "metadata": {
    "hidden": true
   },
   "outputs": [
    {
     "data": {
      "text/plain": [
       "2"
      ]
     },
     "execution_count": 73,
     "metadata": {},
     "output_type": "execute_result"
    }
   ],
   "source": [
    "t[1]"
   ]
  },
  {
   "cell_type": "markdown",
   "metadata": {
    "hidden": true
   },
   "source": [
    "- Récupérer les valeurs allant de 1 à 3"
   ]
  },
  {
   "cell_type": "code",
   "execution_count": 74,
   "metadata": {
    "hidden": true
   },
   "outputs": [
    {
     "data": {
      "text/plain": [
       "(1, 2, 3)"
      ]
     },
     "execution_count": 74,
     "metadata": {},
     "output_type": "execute_result"
    }
   ],
   "source": [
    "t[0:3]"
   ]
  },
  {
   "cell_type": "markdown",
   "metadata": {
    "hidden": true
   },
   "source": [
    "- Manipulation de tuple"
   ]
  },
  {
   "cell_type": "code",
   "execution_count": 75,
   "metadata": {
    "hidden": true
   },
   "outputs": [],
   "source": [
    "t1 = (1, 2, 3)\n",
    "t2 = (4, 5, 6)\n",
    "t3 = (2, 4, 6)"
   ]
  },
  {
   "cell_type": "markdown",
   "metadata": {
    "hidden": true
   },
   "source": [
    "- Concatener les tuples t1 avec t3 et appeler le t4"
   ]
  },
  {
   "cell_type": "code",
   "execution_count": 76,
   "metadata": {
    "hidden": true
   },
   "outputs": [],
   "source": [
    "t4 = t1+t3"
   ]
  },
  {
   "cell_type": "markdown",
   "metadata": {
    "hidden": true
   },
   "source": [
    "- Créer un tuple de tuple t24 contenant t2 et t4"
   ]
  },
  {
   "cell_type": "code",
   "execution_count": 77,
   "metadata": {
    "hidden": true
   },
   "outputs": [],
   "source": [
    "t24 = (t2, t4)"
   ]
  },
  {
   "cell_type": "markdown",
   "metadata": {
    "hidden": true
   },
   "source": [
    "- Afficher la 4e valeur du 2e tuple de t24"
   ]
  },
  {
   "cell_type": "code",
   "execution_count": 78,
   "metadata": {
    "hidden": true,
    "scrolled": true
   },
   "outputs": [
    {
     "data": {
      "text/plain": [
       "2"
      ]
     },
     "execution_count": 78,
     "metadata": {},
     "output_type": "execute_result"
    }
   ],
   "source": [
    "t24[1][3]"
   ]
  },
  {
   "cell_type": "markdown",
   "metadata": {
    "hidden": true
   },
   "source": [
    "\n",
    "## Les sets"
   ]
  },
  {
   "cell_type": "markdown",
   "metadata": {
    "hidden": true
   },
   "source": [
    "Les ensembles (sets) sont des séquences non ordonnées et non indexables de valeurs distinctes. Elles se définissent grâce aux `{}`. Elles sont très pratiques pour calculer des intersections ou des unions d'éléments distincts uniques. "
   ]
  },
  {
   "cell_type": "code",
   "execution_count": 79,
   "metadata": {
    "hidden": true
   },
   "outputs": [
    {
     "name": "stdout",
     "output_type": "stream",
     "text": [
      "{'apple', 'banana', 'cherry'}\n",
      "{'orange', 'apple', 'pear'}\n"
     ]
    }
   ],
   "source": [
    "fruits1 = {\"apple\", \"banana\", \"cherry\"}\n",
    "fruits2 = {\"orange\", \"pear\",\"apple\"}\n",
    "print(fruits1)\n",
    "print(fruits2)"
   ]
  },
  {
   "cell_type": "code",
   "execution_count": 80,
   "metadata": {
    "hidden": true,
    "scrolled": true
   },
   "outputs": [
    {
     "data": {
      "text/plain": [
       "{'apple'}"
      ]
     },
     "execution_count": 80,
     "metadata": {},
     "output_type": "execute_result"
    }
   ],
   "source": [
    "fruits1.intersection(fruits2)"
   ]
  },
  {
   "cell_type": "code",
   "execution_count": 81,
   "metadata": {
    "hidden": true,
    "scrolled": true
   },
   "outputs": [
    {
     "data": {
      "text/plain": [
       "{'apple', 'banana', 'cherry', 'orange', 'pear'}"
      ]
     },
     "execution_count": 81,
     "metadata": {},
     "output_type": "execute_result"
    }
   ],
   "source": [
    "fruits1.union(fruits2)"
   ]
  },
  {
   "cell_type": "markdown",
   "metadata": {},
   "source": [
    "Ils peuvent aussi permettre de supprimer les doublons des listes (en perdant l'ordre)"
   ]
  },
  {
   "cell_type": "code",
   "execution_count": 82,
   "metadata": {},
   "outputs": [
    {
     "data": {
      "text/plain": [
       "['toto', 'titi', 'tata', 'tutu']"
      ]
     },
     "execution_count": 82,
     "metadata": {},
     "output_type": "execute_result"
    }
   ],
   "source": [
    "l = ['toto', 'tata', 'titi', 'titi', 'tutu']\n",
    "\n",
    "list(set(l))"
   ]
  },
  {
   "cell_type": "markdown",
   "metadata": {
    "heading_collapsed": true
   },
   "source": [
    "# Aller plus loin avec les itérables"
   ]
  },
  {
   "cell_type": "markdown",
   "metadata": {
    "hidden": true
   },
   "source": [
    "## Des boucles pythonesques"
   ]
  },
  {
   "cell_type": "markdown",
   "metadata": {
    "hidden": true
   },
   "source": [
    "### Enumerate"
   ]
  },
  {
   "cell_type": "markdown",
   "metadata": {
    "hidden": true
   },
   "source": [
    "En suivant la logique de python, on parcourt un itérable avec la synthaxe suivante :\n",
    "\n",
    "<pre><code>\n",
    "for <i>élément</i> in itérable:\n",
    "    ... <i>élément</i> ...\n",
    "</pre>\n",
    "\n",
    "Seulement il arrive que l'on ai besoin de l'**indice** de l'élément courant dans la boucle. Pour ca, il existe la fonction **`enumerate`** :\n",
    "\n",
    "<pre><code>\n",
    "for <i>indice</i>, <i>élément</i> in <b>enumerate</b>(itérable):\n",
    "    ... <i>indice</i> ...\n",
    "    ... <i>élément</i> ...\n",
    "</pre>"
   ]
  },
  {
   "cell_type": "markdown",
   "metadata": {
    "hidden": true
   },
   "source": [
    "- Affichez chaque élément et chaque indice correspondant de la liste suivante"
   ]
  },
  {
   "cell_type": "code",
   "execution_count": 83,
   "metadata": {
    "hidden": true
   },
   "outputs": [],
   "source": [
    "colors = [\"red\", \"green\", \"blue\", \"purple\"]"
   ]
  },
  {
   "cell_type": "code",
   "execution_count": 84,
   "metadata": {
    "hidden": true
   },
   "outputs": [
    {
     "name": "stdout",
     "output_type": "stream",
     "text": [
      "0 red\n",
      "1 green\n",
      "2 blue\n",
      "3 purple\n"
     ]
    }
   ],
   "source": [
    "for i, c in enumerate(colors):\n",
    "    print(i, c)"
   ]
  },
  {
   "cell_type": "markdown",
   "metadata": {
    "hidden": true
   },
   "source": [
    "### Zip"
   ]
  },
  {
   "cell_type": "markdown",
   "metadata": {
    "hidden": true
   },
   "source": [
    "Il arrive parfois que l'on souhaite itérer sur deux listes en même temps. Pour éviter de passer par une boucle sur un indice (comme en matlab par exemple), python intègre la fonction **`zip`** qui permet de \"coller\" deux listes : \n",
    "\n",
    "<pre><code>\n",
    "for <i>élément_a</i>, <i>élément_b</i> in <b>zip</b>(list_a, list_b):\n",
    "    ... <i>élément_a</i> ...\n",
    "    ... <i>élément_b</i> ...\n",
    "</pre>"
   ]
  },
  {
   "cell_type": "code",
   "execution_count": 85,
   "metadata": {
    "hidden": true
   },
   "outputs": [
    {
     "name": "stdout",
     "output_type": "stream",
     "text": [
      "3 three\n",
      "2 two\n",
      "1 one\n"
     ]
    }
   ],
   "source": [
    "number_list = [3, 2, 1]\n",
    "str_list = ['three', 'two', 'one']\n",
    "\n",
    "for n, s in zip(number_list, str_list):\n",
    "    print(n, s)"
   ]
  },
  {
   "cell_type": "markdown",
   "metadata": {
    "hidden": true
   },
   "source": [
    "## Notion de générateur"
   ]
  },
  {
   "cell_type": "markdown",
   "metadata": {
    "hidden": true
   },
   "source": [
    "Exemples d'itérables : \n",
    "```\n",
    "A = [1, 2, 3, 4, 5]\n",
    "B = range(5)\n",
    "```\n",
    "\n",
    "A et B contiennent les mêmes données. Mais la grosse différence, c'est que dans la liste A, tous les éléments sont déjà calculés et stockés en mémoire. Tandis que pour l'objet B, le calcul est effectué à la volée pour chaque itération.\n",
    "\n",
    "**C'est le principe du générateur** : une fonction qui utilise le mot-clef `yield` au lieu de `return` et qui n'est exécuté que lorsqu'elle est itérée dans une boucle `for`."
   ]
  },
  {
   "cell_type": "code",
   "execution_count": 86,
   "metadata": {
    "hidden": true
   },
   "outputs": [],
   "source": [
    "def mon_generateur():\n",
    "    i = 40\n",
    "    while i <= 56:\n",
    "        i += 2\n",
    "        yield i"
   ]
  },
  {
   "cell_type": "markdown",
   "metadata": {
    "hidden": true
   },
   "source": [
    "### Exercice : les itérateurs / générateurs"
   ]
  },
  {
   "cell_type": "markdown",
   "metadata": {
    "hidden": true
   },
   "source": [
    "Créer un générateur infini pour la suite de Fibonacci :\n",
    "```\n",
    "Fib[0] = 0\n",
    "Fib[1] = 1\n",
    "Fib[n+2] = Fib[n] + Fib[n+1]\n",
    "```"
   ]
  },
  {
   "cell_type": "code",
   "execution_count": 87,
   "metadata": {
    "hidden": true
   },
   "outputs": [],
   "source": [
    "def fibonacci():\n",
    "    f1 = 0\n",
    "    yield f1\n",
    "    f2 = 1\n",
    "    yield f2\n",
    "    while True:\n",
    "        f3 = f1 + f2\n",
    "        yield f3\n",
    "        f1 = f2\n",
    "        f2 = f3"
   ]
  },
  {
   "cell_type": "markdown",
   "metadata": {},
   "source": [
    "## Programmation fonctionnelle"
   ]
  },
  {
   "cell_type": "markdown",
   "metadata": {},
   "source": [
    "### Map"
   ]
  },
  {
   "cell_type": "markdown",
   "metadata": {},
   "source": [
    "On peut appliquer une fonction sur tous les éléments d'un itérable, à l'aide de la fonction `map`"
   ]
  },
  {
   "cell_type": "code",
   "execution_count": 88,
   "metadata": {},
   "outputs": [
    {
     "data": {
      "text/plain": [
       "<map at 0x7fa3f04dd150>"
      ]
     },
     "execution_count": 88,
     "metadata": {},
     "output_type": "execute_result"
    }
   ],
   "source": [
    "def double(x):\n",
    "    return 2*x\n",
    "\n",
    "l = [1, 2, 3]\n",
    "\n",
    "l2 = map(double, l)\n",
    "\n",
    "l2"
   ]
  },
  {
   "cell_type": "markdown",
   "metadata": {},
   "source": [
    "Le résultat retourné est un générateur. On peut le parcourir :"
   ]
  },
  {
   "cell_type": "code",
   "execution_count": 89,
   "metadata": {},
   "outputs": [
    {
     "name": "stdout",
     "output_type": "stream",
     "text": [
      "2\n",
      "4\n",
      "6\n"
     ]
    }
   ],
   "source": [
    "l2 = map(double, l)\n",
    "\n",
    "for x in l2:\n",
    "    print(x)"
   ]
  },
  {
   "cell_type": "markdown",
   "metadata": {},
   "source": [
    "On peut aussi le convertir directement en liste :"
   ]
  },
  {
   "cell_type": "code",
   "execution_count": 90,
   "metadata": {},
   "outputs": [
    {
     "data": {
      "text/plain": [
       "[2, 4, 6]"
      ]
     },
     "execution_count": 90,
     "metadata": {},
     "output_type": "execute_result"
    }
   ],
   "source": [
    "l2 = map(double, l)\n",
    "\n",
    "list(l2)"
   ]
  },
  {
   "cell_type": "markdown",
   "metadata": {},
   "source": [
    "Si la fonction à appliquer n'est pas trop complexe, on peut la définir à la volée à l'aide des `expressions lambda`, qui sont des fonctions anonymes"
   ]
  },
  {
   "cell_type": "code",
   "execution_count": 91,
   "metadata": {},
   "outputs": [
    {
     "data": {
      "text/plain": [
       "[2, 4, 6]"
      ]
     },
     "execution_count": 91,
     "metadata": {},
     "output_type": "execute_result"
    }
   ],
   "source": [
    "list(map(lambda x: 2*x, [1, 2, 3]))"
   ]
  },
  {
   "cell_type": "markdown",
   "metadata": {},
   "source": [
    "Pour des fonctions simples une compréhension de liste est néanmoins plus lisible :"
   ]
  },
  {
   "cell_type": "code",
   "execution_count": 92,
   "metadata": {},
   "outputs": [
    {
     "data": {
      "text/plain": [
       "[2, 4, 6]"
      ]
     },
     "execution_count": 92,
     "metadata": {},
     "output_type": "execute_result"
    }
   ],
   "source": [
    "[2*x for x in [1, 2, 3]]"
   ]
  },
  {
   "cell_type": "markdown",
   "metadata": {},
   "source": [
    "### Filter"
   ]
  },
  {
   "cell_type": "markdown",
   "metadata": {},
   "source": [
    "`filter` permet de garder les éléments en fonction d'un critère booléen"
   ]
  },
  {
   "cell_type": "code",
   "execution_count": 93,
   "metadata": {},
   "outputs": [
    {
     "data": {
      "text/plain": [
       "[1, 3, 5, 7, 9]"
      ]
     },
     "execution_count": 93,
     "metadata": {},
     "output_type": "execute_result"
    }
   ],
   "source": [
    "def is_impair(x):\n",
    "    return x%2 == 1\n",
    "\n",
    "list(filter(is_impair, range(10)))"
   ]
  },
  {
   "cell_type": "markdown",
   "metadata": {},
   "source": [
    "**Exercice**"
   ]
  },
  {
   "cell_type": "markdown",
   "metadata": {},
   "source": [
    "Réécrire la compréhension de liste avec map et filter :\n",
    "`[i**2 for i in range(10) if i%2 ==1]`"
   ]
  },
  {
   "cell_type": "code",
   "execution_count": 94,
   "metadata": {},
   "outputs": [
    {
     "data": {
      "text/plain": [
       "[1, 9, 25, 49, 81]"
      ]
     },
     "execution_count": 94,
     "metadata": {},
     "output_type": "execute_result"
    }
   ],
   "source": [
    "list(map(lambda x: x**2, filter(lambda x: x%2==1, range(10))))"
   ]
  },
  {
   "cell_type": "markdown",
   "metadata": {},
   "source": [
    "# Packages"
   ]
  },
  {
   "cell_type": "markdown",
   "metadata": {},
   "source": [
    "Python dispose de nombreux packages pour faire des tâches plus spécialisées.\n",
    "\n",
    "Par exemple `numpy` est un package spécialisé dans le calcul numérique, permettant de manipuler des tableaux et de faire du calcul matriciel."
   ]
  },
  {
   "cell_type": "code",
   "execution_count": 95,
   "metadata": {},
   "outputs": [
    {
     "name": "stdout",
     "output_type": "stream",
     "text": [
      "Requirement already satisfied: numpy in /home/xtof/anaconda3/lib/python3.7/site-packages (1.18.1)\r\n"
     ]
    }
   ],
   "source": [
    "# Installation de numpy\n",
    "!pip install numpy"
   ]
  },
  {
   "cell_type": "markdown",
   "metadata": {},
   "source": [
    "Il existe différentes façons de charger un package :\n",
    "- `import numpy` permet de charger tout le package. Ainsi la fonction `array` de `numpy` pourra être appellée sous la forme `numpy.array`\n",
    "- `import numpy as np` permet de faire la même chose mais en changeant le nom à utiliser : `np.array`. C'est une façon très courante de faire pour certains packages dont l'abréviation est courante (`np` pour `numpy`, `pd` pour `pandas`, etc.). Évitez d'inventer vos propres abrévations !\n",
    "- `from numpy import array` permet de ne charger que la fonction `array` et de l'appeler directement. Dans la mesure où cela fait perdre de vue l'origine de la fonction et où cela peut créer des conflits entre fonctions ayant le même nom mais venant de différents packages, c'est à utiliser avec parcimonie !"
   ]
  },
  {
   "cell_type": "markdown",
   "metadata": {},
   "source": [
    "# Numpy"
   ]
  },
  {
   "cell_type": "code",
   "execution_count": 96,
   "metadata": {
    "colab": {},
    "colab_type": "code",
    "id": "2Tt0XRDRsbMm"
   },
   "outputs": [],
   "source": [
    "import numpy as np"
   ]
  },
  {
   "cell_type": "markdown",
   "metadata": {},
   "source": [
    "Numpy est la librairie de calcul numérique de python. Elle permet d'effectuer efficacement des opérations sur des vecteurs ou des matrices, appelées **\"arrays\"**. Ces tableaux se manipulent de la même manière que les listes de base : **`A[0:3]`** renvoie les 4 premières valeurs du vecteur `A`.\n",
    "\n",
    "Mais ces tableaux sont adaptés au calcul matriciel :"
   ]
  },
  {
   "cell_type": "code",
   "execution_count": 97,
   "metadata": {},
   "outputs": [
    {
     "data": {
      "text/plain": [
       "array([5, 7, 9])"
      ]
     },
     "execution_count": 97,
     "metadata": {},
     "output_type": "execute_result"
    }
   ],
   "source": [
    "x = np.array([1, 2, 3])\n",
    "y = np.array([4, 5, 6])\n",
    "\n",
    "x + y"
   ]
  },
  {
   "cell_type": "markdown",
   "metadata": {},
   "source": [
    "## Manipulation de vecteur"
   ]
  },
  {
   "cell_type": "code",
   "execution_count": 98,
   "metadata": {},
   "outputs": [],
   "source": [
    "D = np.array([1, 8, 5, 4, 6, 2, 0, 9, 7, 3])\n",
    "med = np.array([2, 5, 3])"
   ]
  },
  {
   "cell_type": "markdown",
   "metadata": {},
   "source": [
    "**Exercices**"
   ]
  },
  {
   "cell_type": "markdown",
   "metadata": {},
   "source": [
    "- Extraire les valeurs stockées sur les indices impairs du vecteur D."
   ]
  },
  {
   "cell_type": "code",
   "execution_count": 99,
   "metadata": {},
   "outputs": [
    {
     "data": {
      "text/plain": [
       "array([1, 8, 5, 4, 6, 2, 0, 9, 7, 3])"
      ]
     },
     "execution_count": 99,
     "metadata": {},
     "output_type": "execute_result"
    }
   ],
   "source": [
    "D"
   ]
  },
  {
   "cell_type": "code",
   "execution_count": 100,
   "metadata": {},
   "outputs": [
    {
     "data": {
      "text/plain": [
       "array([8, 4, 2, 9, 3])"
      ]
     },
     "execution_count": 100,
     "metadata": {},
     "output_type": "execute_result"
    }
   ],
   "source": [
    "D[1::2]"
   ]
  },
  {
   "cell_type": "code",
   "execution_count": 101,
   "metadata": {},
   "outputs": [],
   "source": [
    "D_impair = np.array([])\n",
    "for i in range(len(D)):\n",
    "    if i%2 == 1:\n",
    "        D_impair = np.append(D_impair, D[i])"
   ]
  },
  {
   "cell_type": "code",
   "execution_count": 102,
   "metadata": {},
   "outputs": [
    {
     "data": {
      "text/plain": [
       "array([8, 4, 2, 9, 3])"
      ]
     },
     "execution_count": 102,
     "metadata": {},
     "output_type": "execute_result"
    }
   ],
   "source": [
    "D_impair.astype(int)"
   ]
  },
  {
   "cell_type": "markdown",
   "metadata": {},
   "source": [
    "- Récupérer la médiane du vecteur des indices impairs"
   ]
  },
  {
   "cell_type": "code",
   "execution_count": 103,
   "metadata": {},
   "outputs": [],
   "source": [
    "med_d = np.median(D_impair)"
   ]
  },
  {
   "cell_type": "markdown",
   "metadata": {},
   "source": [
    "- Ajouter cette valeur à la fin du vecteur med"
   ]
  },
  {
   "cell_type": "code",
   "execution_count": 104,
   "metadata": {},
   "outputs": [],
   "source": [
    "med = np.append(med, med_d)"
   ]
  },
  {
   "cell_type": "code",
   "execution_count": 105,
   "metadata": {},
   "outputs": [
    {
     "data": {
      "text/plain": [
       "array([2, 5, 3, 4])"
      ]
     },
     "execution_count": 105,
     "metadata": {},
     "output_type": "execute_result"
    }
   ],
   "source": [
    "med.astype(int)"
   ]
  },
  {
   "cell_type": "markdown",
   "metadata": {},
   "source": [
    "- Identifier l'id client qui a le plus depensé. A titre d'information, le 3e éléments du vecteur depense_client correspond à la somme dépensée par l'id client en 3e position dans le vecteur id_client"
   ]
  },
  {
   "cell_type": "code",
   "execution_count": 106,
   "metadata": {},
   "outputs": [],
   "source": [
    "id_client = np.array([31,  5, 38, 68, 86, 98, 72, 23, 51, 66, 36, 33, 92, 69, 29])\n",
    "depense_client = np.array([297.24, 208.66, 166.67,  335.62, 140.21, 286.48,  88.94,  46.04,\n",
    "        86.18, 274.38, 169.32, 173.11, 273.64, 239.18,  40.3 ])"
   ]
  },
  {
   "cell_type": "code",
   "execution_count": 107,
   "metadata": {},
   "outputs": [
    {
     "data": {
      "text/plain": [
       "3"
      ]
     },
     "execution_count": 107,
     "metadata": {},
     "output_type": "execute_result"
    }
   ],
   "source": [
    "index_max = np.argmax(depense_client)\n",
    "index_max"
   ]
  },
  {
   "cell_type": "code",
   "execution_count": 108,
   "metadata": {},
   "outputs": [
    {
     "data": {
      "text/plain": [
       "68"
      ]
     },
     "execution_count": 108,
     "metadata": {},
     "output_type": "execute_result"
    }
   ],
   "source": [
    "id_client[index_max]"
   ]
  },
  {
   "cell_type": "markdown",
   "metadata": {},
   "source": [
    "- Trier les vecteurs id_client et depense_client par somme dépensée décroissante"
   ]
  },
  {
   "cell_type": "code",
   "execution_count": 109,
   "metadata": {},
   "outputs": [],
   "source": [
    "tri = np.argsort(depense_client)\n",
    "tri_invers = tri[::-1]"
   ]
  },
  {
   "cell_type": "code",
   "execution_count": 110,
   "metadata": {},
   "outputs": [
    {
     "data": {
      "text/plain": [
       "array([68, 31, 98, 66, 92, 69,  5, 33, 36, 38, 86, 72, 51, 23, 29])"
      ]
     },
     "execution_count": 110,
     "metadata": {},
     "output_type": "execute_result"
    }
   ],
   "source": [
    "id_client[tri_invers]"
   ]
  },
  {
   "cell_type": "code",
   "execution_count": 111,
   "metadata": {},
   "outputs": [
    {
     "data": {
      "text/plain": [
       "array([335.62, 297.24, 286.48, 274.38, 273.64, 239.18, 208.66, 173.11,\n",
       "       169.32, 166.67, 140.21,  88.94,  86.18,  46.04,  40.3 ])"
      ]
     },
     "execution_count": 111,
     "metadata": {},
     "output_type": "execute_result"
    }
   ],
   "source": [
    "depense_client[tri_invers]"
   ]
  },
  {
   "cell_type": "markdown",
   "metadata": {},
   "source": [
    "### Générer un array de 30 entiers aléatoirement entre 1 et 12"
   ]
  },
  {
   "cell_type": "code",
   "execution_count": 112,
   "metadata": {},
   "outputs": [
    {
     "data": {
      "text/plain": [
       "array([ 7,  2,  6,  5,  9,  5,  5,  7,  9,  9,  7,  6,  5,  4,  5,  5,  1,\n",
       "       10,  8,  8,  8,  1,  8,  6,  6,  5,  6,  9,  9,  9])"
      ]
     },
     "execution_count": 112,
     "metadata": {},
     "output_type": "execute_result"
    }
   ],
   "source": [
    "np.random.randint(1, 12, 30)"
   ]
  },
  {
   "cell_type": "markdown",
   "metadata": {},
   "source": [
    "### Générer un array de 30 flotants aléatoirements entre 0 et 50 avec deux chiffres après la virgule"
   ]
  },
  {
   "cell_type": "code",
   "execution_count": 113,
   "metadata": {},
   "outputs": [
    {
     "data": {
      "text/plain": [
       "array([26.36, 22.37, 42.42, 36.13, 18.39, 16.46, 20.15, 44.33, 37.65,\n",
       "       29.12, 49.4 , 23.92, 40.59, 13.19, 48.36, 26.71,  0.26, 38.07,\n",
       "       41.78, 26.33, 13.89,  0.73, 30.25, 43.51, 24.48, 41.76, 23.76,\n",
       "       22.76, 49.74, 43.65])"
      ]
     },
     "execution_count": 113,
     "metadata": {},
     "output_type": "execute_result"
    }
   ],
   "source": [
    "np.round((np.random.random(30)*50), 2)"
   ]
  },
  {
   "cell_type": "code",
   "execution_count": 114,
   "metadata": {},
   "outputs": [
    {
     "data": {
      "text/plain": [
       "array([ 9,  3, 11, 10,  9,  8,  2,  7,  9, 11,  6, 10, 10, 10, 11,  4,  1,\n",
       "       12,  1, 11,  3,  9, 11,  9,  3, 10,  7,  6,  7,  7])"
      ]
     },
     "execution_count": 114,
     "metadata": {},
     "output_type": "execute_result"
    }
   ],
   "source": [
    "### Générer un array de 30 flotants aléatoirements entre 0 et 50 avec deux chiffres après la virgule\n",
    "np.random.seed(2)\n",
    "np.round((np.random.random(30)*50), 2)\n",
    "(np.random.randint(1, 13, 30))"
   ]
  },
  {
   "cell_type": "markdown",
   "metadata": {},
   "source": [
    "## Part 2 matrice"
   ]
  },
  {
   "cell_type": "markdown",
   "metadata": {},
   "source": [
    "### Travail de modelage\n"
   ]
  },
  {
   "cell_type": "code",
   "execution_count": 115,
   "metadata": {},
   "outputs": [],
   "source": [
    "coefficient = np.array(\n",
    "    [[-1.01324867,  1.1871035 , -1.65190239, -1.58638258],\n",
    "     [ 0.50434212, -0.72520265, -0.27197777, -0.8131409 ],\n",
    "     [ 0.50890656, -0.46190086,  1.92388016,  2.39952348]])\n",
    "famille = ['setosa', 'versicolor', 'virginica']\n",
    "variable = ['sepal length (cm)', 'sepal width (cm)', 'petal length (cm)', 'petal width (cm)']"
   ]
  },
  {
   "cell_type": "markdown",
   "metadata": {},
   "source": [
    "Dans la matrice coefficient, Chaque ligne correspond à une famille d'iris, et chaque colonne à une variable. L'objectif est de créer le tableau suivant.\n"
   ]
  },
  {
   "cell_type": "markdown",
   "metadata": {},
   "source": [
    "Fonctions de numpy pertinentes: ravel, tile, repeat, transpose, array"
   ]
  },
  {
   "cell_type": "code",
   "execution_count": 116,
   "metadata": {},
   "outputs": [],
   "source": [
    "coefficient = np.array(coefficient)\n",
    "famille = np.array(famille)\n",
    "variable = np.array(variable)"
   ]
  },
  {
   "cell_type": "code",
   "execution_count": 117,
   "metadata": {},
   "outputs": [
    {
     "data": {
      "text/plain": [
       "array(['sepal length (cm)', 'sepal width (cm)', 'petal length (cm)',\n",
       "       'petal width (cm)', 'sepal length (cm)', 'sepal width (cm)',\n",
       "       'petal length (cm)', 'petal width (cm)', 'sepal length (cm)',\n",
       "       'sepal width (cm)', 'petal length (cm)', 'petal width (cm)'],\n",
       "      dtype='<U17')"
      ]
     },
     "execution_count": 117,
     "metadata": {},
     "output_type": "execute_result"
    }
   ],
   "source": [
    "coefficient.ravel()\n",
    "np.repeat(famille, 4)\n",
    "np.tile(variable, 3)"
   ]
  },
  {
   "cell_type": "code",
   "execution_count": 118,
   "metadata": {},
   "outputs": [
    {
     "data": {
      "text/plain": [
       "array([['-1.01324867', 'setosa', 'sepal length (cm)'],\n",
       "       ['1.1871035', 'setosa', 'sepal width (cm)'],\n",
       "       ['-1.65190239', 'setosa', 'petal length (cm)'],\n",
       "       ['-1.58638258', 'setosa', 'petal width (cm)'],\n",
       "       ['0.50434212', 'versicolor', 'sepal length (cm)'],\n",
       "       ['-0.72520265', 'versicolor', 'sepal width (cm)'],\n",
       "       ['-0.27197777', 'versicolor', 'petal length (cm)'],\n",
       "       ['-0.8131409', 'versicolor', 'petal width (cm)'],\n",
       "       ['0.50890656', 'virginica', 'sepal length (cm)'],\n",
       "       ['-0.46190086', 'virginica', 'sepal width (cm)'],\n",
       "       ['1.92388016', 'virginica', 'petal length (cm)'],\n",
       "       ['2.39952348', 'virginica', 'petal width (cm)']], dtype='<U32')"
      ]
     },
     "execution_count": 118,
     "metadata": {},
     "output_type": "execute_result"
    }
   ],
   "source": [
    "np.array([coefficient.ravel(), \n",
    "          np.repeat(famille, 4), \n",
    "          np.tile(variable, 3)]).T"
   ]
  },
  {
   "cell_type": "code",
   "execution_count": 119,
   "metadata": {},
   "outputs": [
    {
     "data": {
      "text/plain": [
       "array([['-1.0132486724005245', 'sepal length (cm)', 'setosa'],\n",
       "       ['1.1871035025418413', 'sepal width (cm)', 'setosa'],\n",
       "       ['-1.6519023926009897', 'petal length (cm)', 'setosa'],\n",
       "       ['-1.5863825821769832', 'petal width (cm)', 'setosa'],\n",
       "       ['0.5043421152883055', 'sepal length (cm)', 'versicolor'],\n",
       "       ['-0.7252026471041335', 'sepal width (cm)', 'versicolor'],\n",
       "       ['-0.27197777085733216', 'petal length (cm)', 'versicolor'],\n",
       "       ['-0.8131408997489712', 'petal width (cm)', 'versicolor'],\n",
       "       ['0.5089065571122178', 'sepal length (cm)', 'virginica'],\n",
       "       ['-0.4619008554377047', 'sepal width (cm)', 'virginica'],\n",
       "       ['1.9238801634583182', 'petal length (cm)', 'virginica'],\n",
       "       ['2.399523481925951', 'petal width (cm)', 'virginica']],\n",
       "      dtype='<U20')"
      ]
     },
     "execution_count": 119,
     "metadata": {},
     "output_type": "execute_result"
    }
   ],
   "source": [
    "# Objectif\n",
    "np.array([['-1.0132486724005245', 'sepal length (cm)', 'setosa'],\n",
    "       ['1.1871035025418413', 'sepal width (cm)', 'setosa'],\n",
    "       ['-1.6519023926009897', 'petal length (cm)', 'setosa'],\n",
    "       ['-1.5863825821769832', 'petal width (cm)', 'setosa'],\n",
    "       ['0.5043421152883055', 'sepal length (cm)', 'versicolor'],\n",
    "       ['-0.7252026471041335', 'sepal width (cm)', 'versicolor'],\n",
    "       ['-0.27197777085733216', 'petal length (cm)', 'versicolor'],\n",
    "       ['-0.8131408997489712', 'petal width (cm)', 'versicolor'],\n",
    "       ['0.5089065571122178', 'sepal length (cm)', 'virginica'],\n",
    "       ['-0.4619008554377047', 'sepal width (cm)', 'virginica'],\n",
    "       ['1.9238801634583182', 'petal length (cm)', 'virginica'],\n",
    "       ['2.399523481925951', 'petal width (cm)', 'virginica']])"
   ]
  },
  {
   "cell_type": "markdown",
   "metadata": {
    "heading_collapsed": true
   },
   "source": [
    "# Gestion des erreurs"
   ]
  },
  {
   "cell_type": "markdown",
   "metadata": {},
   "source": [
    "En Python, il est facile de gérer des erreurs grâce à `try`.\n",
    "\n",
    "La manière simple de l'utiliser est :"
   ]
  },
  {
   "cell_type": "raw",
   "metadata": {},
   "source": [
    "try:\n",
    "    <Code à essayer>\n",
    "except: \n",
    "    <Code en cas d'erreur>"
   ]
  },
  {
   "cell_type": "code",
   "execution_count": 144,
   "metadata": {},
   "outputs": [
    {
     "name": "stdout",
     "output_type": "stream",
     "text": [
      "Clé absente mais c'est pas grave\n"
     ]
    }
   ],
   "source": [
    "dico = {'a': 1, 'b': 2}\n",
    "\n",
    "try:\n",
    "    print(dico['c'])\n",
    "except:\n",
    "    print(\"Clé absente mais c'est pas grave\")"
   ]
  },
  {
   "cell_type": "markdown",
   "metadata": {},
   "source": [
    "Si on ne veut rien faire en cas d'erreur et continuer comme si de rien n'était, on peut utiliser `pass`"
   ]
  },
  {
   "cell_type": "code",
   "execution_count": 146,
   "metadata": {},
   "outputs": [],
   "source": [
    "try:\n",
    "    code_qui_plante\n",
    "    print('Oups')\n",
    "except: \n",
    "    pass"
   ]
  },
  {
   "cell_type": "code",
   "execution_count": null,
   "metadata": {},
   "outputs": [],
   "source": []
  }
 ],
 "metadata": {
  "colab": {
   "name": "dsmft-lyon-02_S1-1 Conditions et boucles .ipynb",
   "provenance": []
  },
  "kernelspec": {
   "display_name": "Python 3",
   "language": "python",
   "name": "python3"
  },
  "language_info": {
   "codemirror_mode": {
    "name": "ipython",
    "version": 3
   },
   "file_extension": ".py",
   "mimetype": "text/x-python",
   "name": "python",
   "nbconvert_exporter": "python",
   "pygments_lexer": "ipython3",
   "version": "3.7.7"
  },
  "toc": {
   "base_numbering": 1,
   "nav_menu": {},
   "number_sections": true,
   "sideBar": true,
   "skip_h1_title": false,
   "title_cell": "Table of Contents",
   "title_sidebar": "Contents",
   "toc_cell": false,
   "toc_position": {},
   "toc_section_display": true,
   "toc_window_display": false
  }
 },
 "nbformat": 4,
 "nbformat_minor": 1
}
